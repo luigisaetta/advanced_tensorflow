{
 "cells": [
  {
   "cell_type": "code",
   "execution_count": 1,
   "id": "linear-classification",
   "metadata": {},
   "outputs": [],
   "source": [
    "import tensorflow as tf\n",
    "from tensorflow.keras.models import Model\n",
    "from tensorflow.keras.layers import Dense, Input\n",
    "\n",
    "import numpy as np\n",
    "import matplotlib.pyplot as plt\n",
    "import pandas as pd\n",
    "from sklearn.model_selection import train_test_split\n",
    "from sklearn.metrics import confusion_matrix\n",
    "import itertools\n",
    "\n",
    "import utils"
   ]
  },
  {
   "cell_type": "markdown",
   "id": "broadband-moore",
   "metadata": {},
   "source": [
    "### white wine dataset"
   ]
  },
  {
   "cell_type": "code",
   "execution_count": 2,
   "id": "preceding-custody",
   "metadata": {},
   "outputs": [],
   "source": [
    "# # URL of the white wine dataset\n",
    "URL = 'http://archive.ics.uci.edu/ml/machine-learning-databases/wine-quality/winequality-white.csv'\n",
    "\n",
    "# # load the dataset from the URL\n",
    "white_df = pd.read_csv(URL, sep=\";\")\n",
    "\n",
    "# # fill the `is_red` column with zeros.\n",
    "white_df[\"is_red\"] = 0\n",
    "\n",
    "# # keep only the first of duplicate items\n",
    "white_df = white_df.drop_duplicates(keep='first')"
   ]
  },
  {
   "cell_type": "code",
   "execution_count": 3,
   "id": "apart-greeting",
   "metadata": {},
   "outputs": [
    {
     "name": "stdout",
     "output_type": "stream",
     "text": [
      "\u001b[92m All public tests passed\n"
     ]
    }
   ],
   "source": [
    "utils.test_white_df(white_df)"
   ]
  },
  {
   "cell_type": "code",
   "execution_count": 4,
   "id": "improving-pickup",
   "metadata": {},
   "outputs": [
    {
     "name": "stdout",
     "output_type": "stream",
     "text": [
      "8.8\n",
      "9.1\n"
     ]
    }
   ],
   "source": [
    "print(white_df.alcohol[0])\n",
    "print(white_df.alcohol[100])"
   ]
  },
  {
   "cell_type": "markdown",
   "id": "missing-simple",
   "metadata": {},
   "source": [
    "### red wine dataset"
   ]
  },
  {
   "cell_type": "code",
   "execution_count": 5,
   "id": "chubby-conditioning",
   "metadata": {},
   "outputs": [],
   "source": [
    "## Please uncomment all lines in this cell and replace those marked with `# YOUR CODE HERE`.\n",
    "## You can select all lines in this code cell with Ctrl+A (Windows/Linux) or Cmd+A (Mac), then press Ctrl+/ (Windows/Linux) or Cmd+/ (Mac) to uncomment.\n",
    "\n",
    "# # URL of the red wine dataset\n",
    "URL = 'http://archive.ics.uci.edu/ml/machine-learning-databases/wine-quality/winequality-red.csv'\n",
    "\n",
    "# # load the dataset from the URL\n",
    "red_df = pd.read_csv(URL, sep=\";\")\n",
    "\n",
    "# # fill the `is_red` column with ones.\n",
    "red_df[\"is_red\"] = 1\n",
    "\n",
    "# # keep only the first of duplicate items\n",
    "red_df = red_df.drop_duplicates(keep='first')"
   ]
  },
  {
   "cell_type": "code",
   "execution_count": 6,
   "id": "demographic-average",
   "metadata": {},
   "outputs": [
    {
     "name": "stdout",
     "output_type": "stream",
     "text": [
      "\u001b[92m All public tests passed\n"
     ]
    }
   ],
   "source": [
    "utils.test_red_df(red_df)"
   ]
  },
  {
   "cell_type": "code",
   "execution_count": 7,
   "id": "organic-associate",
   "metadata": {},
   "outputs": [
    {
     "name": "stdout",
     "output_type": "stream",
     "text": [
      "9.4\n",
      "10.2\n"
     ]
    }
   ],
   "source": [
    "print(red_df.alcohol[0])\n",
    "print(red_df.alcohol[100])\n",
    "\n",
    "# EXPECTED OUTPUT\n",
    "# 9.4\n",
    "# 10.2"
   ]
  },
  {
   "cell_type": "markdown",
   "id": "organized-details",
   "metadata": {},
   "source": [
    "### concatenate the two dataset"
   ]
  },
  {
   "cell_type": "code",
   "execution_count": 8,
   "id": "extra-version",
   "metadata": {},
   "outputs": [],
   "source": [
    "df = pd.concat([red_df, white_df], ignore_index=True)"
   ]
  },
  {
   "cell_type": "code",
   "execution_count": 9,
   "id": "breeding-march",
   "metadata": {},
   "outputs": [
    {
     "data": {
      "image/png": "[encoded data removed]",
      "text/plain": [
       "<Figure size 432x288 with 1 Axes>"
      ]
     },
     "metadata": {
      "needs_background": "light"
     },
     "output_type": "display_data"
    }
   ],
   "source": [
    "df['is_red'].hist();"
   ]
  },
  {
   "cell_type": "code",
   "execution_count": 10,
   "id": "direct-water",
   "metadata": {},
   "outputs": [
    {
     "name": "stdout",
     "output_type": "stream",
     "text": [
      "9.4\n",
      "9.5\n"
     ]
    }
   ],
   "source": [
    "print(df.alcohol[0])\n",
    "print(df.alcohol[100])\n",
    "\n",
    "# EXPECTED OUTPUT\n",
    "# 9.4\n",
    "# 9.5"
   ]
  },
  {
   "cell_type": "code",
   "execution_count": 11,
   "id": "rotary-lover",
   "metadata": {},
   "outputs": [
    {
     "data": {
      "image/png": "[encoded data removed]",
      "text/plain": [
       "<Figure size 432x288 with 1 Axes>"
      ]
     },
     "metadata": {
      "needs_background": "light"
     },
     "output_type": "display_data"
    }
   ],
   "source": [
    "df['quality'].hist(bins=14);"
   ]
  },
  {
   "cell_type": "code",
   "execution_count": 12,
   "id": "advance-pillow",
   "metadata": {},
   "outputs": [],
   "source": [
    "# shuffle the data \n",
    "df = df.sample(frac = 1.0)"
   ]
  },
  {
   "cell_type": "markdown",
   "id": "accredited-array",
   "metadata": {},
   "source": [
    "### Imbalanced data (TODO)\n",
    "You can see from the plot above that the wine quality dataset is imbalanced. \n",
    "- Since there are very few observations with quality equal to 3, 4, 8 and 9, you can drop these observations from your dataset. \n",
    "- You can do this by removing data belonging to all classes except those > 4 and < 8."
   ]
  },
  {
   "cell_type": "code",
   "execution_count": 14,
   "id": "patient-partition",
   "metadata": {},
   "outputs": [],
   "source": [
    "# # get data with wine quality greater than 4 and less than 8\n",
    "df = df[(df['quality'] > 4) & (df['quality'] < 8)]\n",
    "\n",
    "# # reset index and drop the old one\n",
    "df = df.reset_index(drop=True)"
   ]
  },
  {
   "cell_type": "code",
   "execution_count": 15,
   "id": "hourly-desire",
   "metadata": {},
   "outputs": [
    {
     "name": "stdout",
     "output_type": "stream",
     "text": [
      "12.8\n",
      "10.2\n"
     ]
    }
   ],
   "source": [
    "print(df.alcohol[0])\n",
    "print(df.alcohol[100])\n",
    "\n",
    "# EXPECTED OUTPUT\n",
    "# 9.4\n",
    "# 10.9"
   ]
  },
  {
   "cell_type": "code",
   "execution_count": 16,
   "id": "trained-provision",
   "metadata": {},
   "outputs": [
    {
     "data": {
      "image/png": "[encoded data removed]",
      "text/plain": [
       "<Figure size 432x288 with 1 Axes>"
      ]
     },
     "metadata": {
      "needs_background": "light"
     },
     "output_type": "display_data"
    }
   ],
   "source": [
    "df['quality'].hist(bins=20);"
   ]
  },
  {
   "cell_type": "markdown",
   "id": "broad-settle",
   "metadata": {},
   "source": [
    "## train, test split"
   ]
  },
  {
   "cell_type": "code",
   "execution_count": 17,
   "id": "studied-scenario",
   "metadata": {},
   "outputs": [],
   "source": [
    "# # split df into 80:20 train and test sets\n",
    "train, test = train_test_split(df, test_size=0.2, random_state = 1)\n",
    "                               \n",
    "# # split train into 80:20 train and val sets\n",
    "train, val = train_test_split(train, test_size=0.2, random_state = 1)"
   ]
  },
  {
   "cell_type": "code",
   "execution_count": 18,
   "id": "narrow-breathing",
   "metadata": {},
   "outputs": [
    {
     "name": "stdout",
     "output_type": "stream",
     "text": [
      "(3155, 13)\n",
      "(789, 13)\n",
      "(987, 13)\n"
     ]
    }
   ],
   "source": [
    "print(train.shape)\n",
    "print(val.shape)\n",
    "print(test.shape)"
   ]
  },
  {
   "cell_type": "code",
   "execution_count": 19,
   "id": "collect-millennium",
   "metadata": {},
   "outputs": [
    {
     "data": {
      "text/plain": [
       "(4931, 13)"
      ]
     },
     "execution_count": 19,
     "metadata": {},
     "output_type": "execute_result"
    }
   ],
   "source": [
    "df.shape"
   ]
  },
  {
   "cell_type": "code",
   "execution_count": 20,
   "id": "eastern-native",
   "metadata": {},
   "outputs": [
    {
     "name": "stdout",
     "output_type": "stream",
     "text": [
      "\u001b[92m All public tests passed\n"
     ]
    }
   ],
   "source": [
    "utils.test_data_sizes(train.size, test.size, val.size)"
   ]
  },
  {
   "cell_type": "code",
   "execution_count": 21,
   "id": "optical-share",
   "metadata": {},
   "outputs": [],
   "source": [
    "train_stats = train.describe()\n",
    "train_stats.pop('is_red')\n",
    "train_stats.pop('quality')\n",
    "train_stats = train_stats.transpose()"
   ]
  },
  {
   "cell_type": "code",
   "execution_count": 22,
   "id": "eight-worse",
   "metadata": {},
   "outputs": [
    {
     "data": {
      "text/html": [
       "<div>\n",
       "<style scoped>\n",
       "    .dataframe tbody tr th:only-of-type {\n",
       "        vertical-align: middle;\n",
       "    }\n",
       "\n",
       "    .dataframe tbody tr th {\n",
       "        vertical-align: top;\n",
       "    }\n",
       "\n",
       "    .dataframe thead th {\n",
       "        text-align: right;\n",
       "    }\n",
       "</style>\n",
       "<table border=\"1\" class=\"dataframe\">\n",
       "  <thead>\n",
       "    <tr style=\"text-align: right;\">\n",
       "      <th></th>\n",
       "      <th>count</th>\n",
       "      <th>mean</th>\n",
       "      <th>std</th>\n",
       "      <th>min</th>\n",
       "      <th>25%</th>\n",
       "      <th>50%</th>\n",
       "      <th>75%</th>\n",
       "      <th>max</th>\n",
       "    </tr>\n",
       "  </thead>\n",
       "  <tbody>\n",
       "    <tr>\n",
       "      <th>fixed acidity</th>\n",
       "      <td>3155.0</td>\n",
       "      <td>7.215563</td>\n",
       "      <td>1.316749</td>\n",
       "      <td>3.80000</td>\n",
       "      <td>6.4000</td>\n",
       "      <td>6.90000</td>\n",
       "      <td>7.700000</td>\n",
       "      <td>15.9000</td>\n",
       "    </tr>\n",
       "    <tr>\n",
       "      <th>volatile acidity</th>\n",
       "      <td>3155.0</td>\n",
       "      <td>0.340025</td>\n",
       "      <td>0.164800</td>\n",
       "      <td>0.08000</td>\n",
       "      <td>0.2300</td>\n",
       "      <td>0.29000</td>\n",
       "      <td>0.410000</td>\n",
       "      <td>1.3300</td>\n",
       "    </tr>\n",
       "    <tr>\n",
       "      <th>citric acid</th>\n",
       "      <td>3155.0</td>\n",
       "      <td>0.319965</td>\n",
       "      <td>0.146794</td>\n",
       "      <td>0.00000</td>\n",
       "      <td>0.2500</td>\n",
       "      <td>0.31000</td>\n",
       "      <td>0.400000</td>\n",
       "      <td>1.6600</td>\n",
       "    </tr>\n",
       "    <tr>\n",
       "      <th>residual sugar</th>\n",
       "      <td>3155.0</td>\n",
       "      <td>5.013074</td>\n",
       "      <td>4.363525</td>\n",
       "      <td>0.70000</td>\n",
       "      <td>1.8000</td>\n",
       "      <td>2.70000</td>\n",
       "      <td>7.500000</td>\n",
       "      <td>31.6000</td>\n",
       "    </tr>\n",
       "    <tr>\n",
       "      <th>chlorides</th>\n",
       "      <td>3155.0</td>\n",
       "      <td>0.056805</td>\n",
       "      <td>0.036241</td>\n",
       "      <td>0.01200</td>\n",
       "      <td>0.0380</td>\n",
       "      <td>0.04700</td>\n",
       "      <td>0.066000</td>\n",
       "      <td>0.4670</td>\n",
       "    </tr>\n",
       "    <tr>\n",
       "      <th>free sulfur dioxide</th>\n",
       "      <td>3155.0</td>\n",
       "      <td>30.064501</td>\n",
       "      <td>16.718051</td>\n",
       "      <td>1.00000</td>\n",
       "      <td>17.0000</td>\n",
       "      <td>28.00000</td>\n",
       "      <td>41.000000</td>\n",
       "      <td>131.0000</td>\n",
       "    </tr>\n",
       "    <tr>\n",
       "      <th>total sulfur dioxide</th>\n",
       "      <td>3155.0</td>\n",
       "      <td>114.400000</td>\n",
       "      <td>56.089454</td>\n",
       "      <td>7.00000</td>\n",
       "      <td>76.0000</td>\n",
       "      <td>116.00000</td>\n",
       "      <td>153.000000</td>\n",
       "      <td>344.0000</td>\n",
       "    </tr>\n",
       "    <tr>\n",
       "      <th>density</th>\n",
       "      <td>3155.0</td>\n",
       "      <td>0.994515</td>\n",
       "      <td>0.002883</td>\n",
       "      <td>0.98711</td>\n",
       "      <td>0.9922</td>\n",
       "      <td>0.99468</td>\n",
       "      <td>0.996755</td>\n",
       "      <td>1.0103</td>\n",
       "    </tr>\n",
       "    <tr>\n",
       "      <th>pH</th>\n",
       "      <td>3155.0</td>\n",
       "      <td>3.222815</td>\n",
       "      <td>0.159217</td>\n",
       "      <td>2.74000</td>\n",
       "      <td>3.1100</td>\n",
       "      <td>3.21000</td>\n",
       "      <td>3.320000</td>\n",
       "      <td>4.0100</td>\n",
       "    </tr>\n",
       "    <tr>\n",
       "      <th>sulphates</th>\n",
       "      <td>3155.0</td>\n",
       "      <td>0.534057</td>\n",
       "      <td>0.150304</td>\n",
       "      <td>0.22000</td>\n",
       "      <td>0.4400</td>\n",
       "      <td>0.51000</td>\n",
       "      <td>0.600000</td>\n",
       "      <td>1.9800</td>\n",
       "    </tr>\n",
       "    <tr>\n",
       "      <th>alcohol</th>\n",
       "      <td>3155.0</td>\n",
       "      <td>10.543855</td>\n",
       "      <td>1.170924</td>\n",
       "      <td>8.00000</td>\n",
       "      <td>9.5000</td>\n",
       "      <td>10.40000</td>\n",
       "      <td>11.300000</td>\n",
       "      <td>14.9000</td>\n",
       "    </tr>\n",
       "  </tbody>\n",
       "</table>\n",
       "</div>"
      ],
      "text/plain": [
       "                       count        mean        std      min      25%  \\\n",
       "fixed acidity         3155.0    7.215563   1.316749  3.80000   6.4000   \n",
       "volatile acidity      3155.0    0.340025   0.164800  0.08000   0.2300   \n",
       "citric acid           3155.0    0.319965   0.146794  0.00000   0.2500   \n",
       "residual sugar        3155.0    5.013074   4.363525  0.70000   1.8000   \n",
       "chlorides             3155.0    0.056805   0.036241  0.01200   0.0380   \n",
       "free sulfur dioxide   3155.0   30.064501  16.718051  1.00000  17.0000   \n",
       "total sulfur dioxide  3155.0  114.400000  56.089454  7.00000  76.0000   \n",
       "density               3155.0    0.994515   0.002883  0.98711   0.9922   \n",
       "pH                    3155.0    3.222815   0.159217  2.74000   3.1100   \n",
       "sulphates             3155.0    0.534057   0.150304  0.22000   0.4400   \n",
       "alcohol               3155.0   10.543855   1.170924  8.00000   9.5000   \n",
       "\n",
       "                            50%         75%       max  \n",
       "fixed acidity           6.90000    7.700000   15.9000  \n",
       "volatile acidity        0.29000    0.410000    1.3300  \n",
       "citric acid             0.31000    0.400000    1.6600  \n",
       "residual sugar          2.70000    7.500000   31.6000  \n",
       "chlorides               0.04700    0.066000    0.4670  \n",
       "free sulfur dioxide    28.00000   41.000000  131.0000  \n",
       "total sulfur dioxide  116.00000  153.000000  344.0000  \n",
       "density                 0.99468    0.996755    1.0103  \n",
       "pH                      3.21000    3.320000    4.0100  \n",
       "sulphates               0.51000    0.600000    1.9800  \n",
       "alcohol                10.40000   11.300000   14.9000  "
      ]
     },
     "execution_count": 22,
     "metadata": {},
     "output_type": "execute_result"
    }
   ],
   "source": [
    "train_stats"
   ]
  },
  {
   "cell_type": "markdown",
   "id": "mobile-craps",
   "metadata": {},
   "source": [
    "## get the labels"
   ]
  },
  {
   "cell_type": "code",
   "execution_count": 23,
   "id": "equipped-doctrine",
   "metadata": {},
   "outputs": [],
   "source": [
    "def format_output(data):\n",
    "    is_red = data.pop('is_red')\n",
    "    is_red = np.array(is_red)\n",
    "    quality = data.pop('quality')\n",
    "    quality = np.array(quality)\n",
    "    return (quality, is_red)"
   ]
  },
  {
   "cell_type": "code",
   "execution_count": 24,
   "id": "liquid-statistics",
   "metadata": {},
   "outputs": [],
   "source": [
    "# # format the output of the train set\n",
    "train_Y = format_output(train)\n",
    "\n",
    "# # format the output of the val set\n",
    "val_Y = format_output(val)\n",
    "    \n",
    "# # format the output of the test set\n",
    "test_Y = format_output(test)"
   ]
  },
  {
   "cell_type": "code",
   "execution_count": 25,
   "id": "explicit-powder",
   "metadata": {},
   "outputs": [
    {
     "name": "stdout",
     "output_type": "stream",
     "text": [
      "\u001b[92m All public tests passed\n"
     ]
    }
   ],
   "source": [
    "utils.test_format_output(df, train_Y, val_Y, test_Y)"
   ]
  },
  {
   "cell_type": "code",
   "execution_count": 26,
   "id": "surrounded-attraction",
   "metadata": {},
   "outputs": [
    {
     "data": {
      "text/html": [
       "<div>\n",
       "<style scoped>\n",
       "    .dataframe tbody tr th:only-of-type {\n",
       "        vertical-align: middle;\n",
       "    }\n",
       "\n",
       "    .dataframe tbody tr th {\n",
       "        vertical-align: top;\n",
       "    }\n",
       "\n",
       "    .dataframe thead th {\n",
       "        text-align: right;\n",
       "    }\n",
       "</style>\n",
       "<table border=\"1\" class=\"dataframe\">\n",
       "  <thead>\n",
       "    <tr style=\"text-align: right;\">\n",
       "      <th></th>\n",
       "      <th>fixed acidity</th>\n",
       "      <th>volatile acidity</th>\n",
       "      <th>citric acid</th>\n",
       "      <th>residual sugar</th>\n",
       "      <th>chlorides</th>\n",
       "      <th>free sulfur dioxide</th>\n",
       "      <th>total sulfur dioxide</th>\n",
       "      <th>density</th>\n",
       "      <th>pH</th>\n",
       "      <th>sulphates</th>\n",
       "      <th>alcohol</th>\n",
       "    </tr>\n",
       "  </thead>\n",
       "  <tbody>\n",
       "    <tr>\n",
       "      <th>225</th>\n",
       "      <td>7.2</td>\n",
       "      <td>0.73</td>\n",
       "      <td>0.02</td>\n",
       "      <td>2.5</td>\n",
       "      <td>0.076</td>\n",
       "      <td>16.0</td>\n",
       "      <td>42.0</td>\n",
       "      <td>0.9972</td>\n",
       "      <td>3.44</td>\n",
       "      <td>0.52</td>\n",
       "      <td>9.3</td>\n",
       "    </tr>\n",
       "    <tr>\n",
       "      <th>3557</th>\n",
       "      <td>6.9</td>\n",
       "      <td>0.24</td>\n",
       "      <td>0.33</td>\n",
       "      <td>4.8</td>\n",
       "      <td>0.040</td>\n",
       "      <td>16.0</td>\n",
       "      <td>131.0</td>\n",
       "      <td>0.9936</td>\n",
       "      <td>3.26</td>\n",
       "      <td>0.64</td>\n",
       "      <td>10.7</td>\n",
       "    </tr>\n",
       "    <tr>\n",
       "      <th>3825</th>\n",
       "      <td>6.6</td>\n",
       "      <td>0.25</td>\n",
       "      <td>0.42</td>\n",
       "      <td>11.3</td>\n",
       "      <td>0.049</td>\n",
       "      <td>77.0</td>\n",
       "      <td>231.0</td>\n",
       "      <td>0.9966</td>\n",
       "      <td>3.24</td>\n",
       "      <td>0.52</td>\n",
       "      <td>9.5</td>\n",
       "    </tr>\n",
       "    <tr>\n",
       "      <th>1740</th>\n",
       "      <td>8.2</td>\n",
       "      <td>0.59</td>\n",
       "      <td>0.00</td>\n",
       "      <td>2.5</td>\n",
       "      <td>0.093</td>\n",
       "      <td>19.0</td>\n",
       "      <td>58.0</td>\n",
       "      <td>1.0002</td>\n",
       "      <td>3.50</td>\n",
       "      <td>0.65</td>\n",
       "      <td>9.3</td>\n",
       "    </tr>\n",
       "    <tr>\n",
       "      <th>1221</th>\n",
       "      <td>8.2</td>\n",
       "      <td>0.39</td>\n",
       "      <td>0.49</td>\n",
       "      <td>2.3</td>\n",
       "      <td>0.099</td>\n",
       "      <td>47.0</td>\n",
       "      <td>133.0</td>\n",
       "      <td>0.9979</td>\n",
       "      <td>3.38</td>\n",
       "      <td>0.99</td>\n",
       "      <td>9.8</td>\n",
       "    </tr>\n",
       "  </tbody>\n",
       "</table>\n",
       "</div>"
      ],
      "text/plain": [
       "      fixed acidity  volatile acidity  citric acid  residual sugar  chlorides  \\\n",
       "225             7.2              0.73         0.02             2.5      0.076   \n",
       "3557            6.9              0.24         0.33             4.8      0.040   \n",
       "3825            6.6              0.25         0.42            11.3      0.049   \n",
       "1740            8.2              0.59         0.00             2.5      0.093   \n",
       "1221            8.2              0.39         0.49             2.3      0.099   \n",
       "\n",
       "      free sulfur dioxide  total sulfur dioxide  density    pH  sulphates  \\\n",
       "225                  16.0                  42.0   0.9972  3.44       0.52   \n",
       "3557                 16.0                 131.0   0.9936  3.26       0.64   \n",
       "3825                 77.0                 231.0   0.9966  3.24       0.52   \n",
       "1740                 19.0                  58.0   1.0002  3.50       0.65   \n",
       "1221                 47.0                 133.0   0.9979  3.38       0.99   \n",
       "\n",
       "      alcohol  \n",
       "225       9.3  \n",
       "3557     10.7  \n",
       "3825      9.5  \n",
       "1740      9.3  \n",
       "1221      9.8  "
      ]
     },
     "execution_count": 26,
     "metadata": {},
     "output_type": "execute_result"
    }
   ],
   "source": [
    "train.head()"
   ]
  },
  {
   "cell_type": "code",
   "execution_count": 27,
   "id": "democratic-alabama",
   "metadata": {},
   "outputs": [
    {
     "data": {
      "text/plain": [
       "fixed acidity           0\n",
       "volatile acidity        0\n",
       "citric acid             0\n",
       "residual sugar          0\n",
       "chlorides               0\n",
       "free sulfur dioxide     0\n",
       "total sulfur dioxide    0\n",
       "density                 0\n",
       "pH                      0\n",
       "sulphates               0\n",
       "alcohol                 0\n",
       "dtype: int64"
      ]
     },
     "execution_count": 27,
     "metadata": {},
     "output_type": "execute_result"
    }
   ],
   "source": [
    "train.isna().sum()"
   ]
  },
  {
   "cell_type": "markdown",
   "id": "sonic-description",
   "metadata": {},
   "source": [
    "### Normalize features"
   ]
  },
  {
   "cell_type": "code",
   "execution_count": 28,
   "id": "abandoned-essay",
   "metadata": {},
   "outputs": [],
   "source": [
    "def norm(x):\n",
    "    return (x - train_stats['mean']) / train_stats['std']"
   ]
  },
  {
   "cell_type": "code",
   "execution_count": 29,
   "id": "precious-sunday",
   "metadata": {},
   "outputs": [],
   "source": [
    "# # normalize the train set\n",
    "norm_train_X = norm(train)\n",
    "    \n",
    "# # normalize the val set\n",
    "norm_val_X = norm(val)\n",
    "    \n",
    "# # normalize the test set\n",
    "norm_test_X = norm(test)"
   ]
  },
  {
   "cell_type": "code",
   "execution_count": 30,
   "id": "banned-torture",
   "metadata": {},
   "outputs": [
    {
     "name": "stdout",
     "output_type": "stream",
     "text": [
      "\u001b[92m All public tests passed\n"
     ]
    }
   ],
   "source": [
    "utils.test_norm(norm_train_X, norm_val_X, norm_test_X, train, val, test)"
   ]
  },
  {
   "cell_type": "code",
   "execution_count": 31,
   "id": "quantitative-receiver",
   "metadata": {},
   "outputs": [
    {
     "data": {
      "text/html": [
       "<div>\n",
       "<style scoped>\n",
       "    .dataframe tbody tr th:only-of-type {\n",
       "        vertical-align: middle;\n",
       "    }\n",
       "\n",
       "    .dataframe tbody tr th {\n",
       "        vertical-align: top;\n",
       "    }\n",
       "\n",
       "    .dataframe thead th {\n",
       "        text-align: right;\n",
       "    }\n",
       "</style>\n",
       "<table border=\"1\" class=\"dataframe\">\n",
       "  <thead>\n",
       "    <tr style=\"text-align: right;\">\n",
       "      <th></th>\n",
       "      <th>fixed acidity</th>\n",
       "      <th>volatile acidity</th>\n",
       "      <th>citric acid</th>\n",
       "      <th>residual sugar</th>\n",
       "      <th>chlorides</th>\n",
       "      <th>free sulfur dioxide</th>\n",
       "      <th>total sulfur dioxide</th>\n",
       "      <th>density</th>\n",
       "      <th>pH</th>\n",
       "      <th>sulphates</th>\n",
       "      <th>alcohol</th>\n",
       "    </tr>\n",
       "  </thead>\n",
       "  <tbody>\n",
       "    <tr>\n",
       "      <th>count</th>\n",
       "      <td>3.155000e+03</td>\n",
       "      <td>3.155000e+03</td>\n",
       "      <td>3.155000e+03</td>\n",
       "      <td>3.155000e+03</td>\n",
       "      <td>3.155000e+03</td>\n",
       "      <td>3.155000e+03</td>\n",
       "      <td>3.155000e+03</td>\n",
       "      <td>3.155000e+03</td>\n",
       "      <td>3.155000e+03</td>\n",
       "      <td>3.155000e+03</td>\n",
       "      <td>3.155000e+03</td>\n",
       "    </tr>\n",
       "    <tr>\n",
       "      <th>mean</th>\n",
       "      <td>3.524562e-16</td>\n",
       "      <td>6.756349e-17</td>\n",
       "      <td>-6.024411e-17</td>\n",
       "      <td>8.220225e-17</td>\n",
       "      <td>-2.826406e-16</td>\n",
       "      <td>3.209266e-17</td>\n",
       "      <td>-1.047234e-16</td>\n",
       "      <td>5.123565e-16</td>\n",
       "      <td>5.945587e-16</td>\n",
       "      <td>1.306228e-16</td>\n",
       "      <td>-4.920874e-16</td>\n",
       "    </tr>\n",
       "    <tr>\n",
       "      <th>std</th>\n",
       "      <td>1.000000e+00</td>\n",
       "      <td>1.000000e+00</td>\n",
       "      <td>1.000000e+00</td>\n",
       "      <td>1.000000e+00</td>\n",
       "      <td>1.000000e+00</td>\n",
       "      <td>1.000000e+00</td>\n",
       "      <td>1.000000e+00</td>\n",
       "      <td>1.000000e+00</td>\n",
       "      <td>1.000000e+00</td>\n",
       "      <td>1.000000e+00</td>\n",
       "      <td>1.000000e+00</td>\n",
       "    </tr>\n",
       "    <tr>\n",
       "      <th>min</th>\n",
       "      <td>-2.593937e+00</td>\n",
       "      <td>-1.577827e+00</td>\n",
       "      <td>-2.179688e+00</td>\n",
       "      <td>-9.884381e-01</td>\n",
       "      <td>-1.236296e+00</td>\n",
       "      <td>-1.738510e+00</td>\n",
       "      <td>-1.914798e+00</td>\n",
       "      <td>-2.568595e+00</td>\n",
       "      <td>-3.032432e+00</td>\n",
       "      <td>-2.089483e+00</td>\n",
       "      <td>-2.172520e+00</td>\n",
       "    </tr>\n",
       "    <tr>\n",
       "      <th>25%</th>\n",
       "      <td>-6.193760e-01</td>\n",
       "      <td>-6.676308e-01</td>\n",
       "      <td>-4.766212e-01</td>\n",
       "      <td>-7.363483e-01</td>\n",
       "      <td>-5.188840e-01</td>\n",
       "      <td>-7.814608e-01</td>\n",
       "      <td>-6.846207e-01</td>\n",
       "      <td>-8.029722e-01</td>\n",
       "      <td>-7.085589e-01</td>\n",
       "      <td>-6.257799e-01</td>\n",
       "      <td>-8.914799e-01</td>\n",
       "    </tr>\n",
       "    <tr>\n",
       "      <th>50%</th>\n",
       "      <td>-2.396529e-01</td>\n",
       "      <td>-3.035525e-01</td>\n",
       "      <td>-6.788517e-02</td>\n",
       "      <td>-5.300931e-01</td>\n",
       "      <td>-2.705491e-01</td>\n",
       "      <td>-1.234893e-01</td>\n",
       "      <td>2.852586e-02</td>\n",
       "      <td>5.729194e-02</td>\n",
       "      <td>-8.048503e-02</td>\n",
       "      <td>-1.600563e-01</td>\n",
       "      <td>-1.228562e-01</td>\n",
       "    </tr>\n",
       "    <tr>\n",
       "      <th>75%</th>\n",
       "      <td>3.679042e-01</td>\n",
       "      <td>4.246042e-01</td>\n",
       "      <td>5.452189e-01</td>\n",
       "      <td>5.699350e-01</td>\n",
       "      <td>2.537136e-01</td>\n",
       "      <td>6.541133e-01</td>\n",
       "      <td>6.881864e-01</td>\n",
       "      <td>7.770694e-01</td>\n",
       "      <td>6.103962e-01</td>\n",
       "      <td>4.387313e-01</td>\n",
       "      <td>6.457676e-01</td>\n",
       "    </tr>\n",
       "    <tr>\n",
       "      <th>max</th>\n",
       "      <td>6.595364e+00</td>\n",
       "      <td>6.007139e+00</td>\n",
       "      <td>9.128676e+00</td>\n",
       "      <td>6.092992e+00</td>\n",
       "      <td>1.131842e+01</td>\n",
       "      <td>6.037516e+00</td>\n",
       "      <td>4.093461e+00</td>\n",
       "      <td>5.475569e+00</td>\n",
       "      <td>4.944106e+00</td>\n",
       "      <td>9.620141e+00</td>\n",
       "      <td>3.720263e+00</td>\n",
       "    </tr>\n",
       "  </tbody>\n",
       "</table>\n",
       "</div>"
      ],
      "text/plain": [
       "       fixed acidity  volatile acidity   citric acid  residual sugar  \\\n",
       "count   3.155000e+03      3.155000e+03  3.155000e+03    3.155000e+03   \n",
       "mean    3.524562e-16      6.756349e-17 -6.024411e-17    8.220225e-17   \n",
       "std     1.000000e+00      1.000000e+00  1.000000e+00    1.000000e+00   \n",
       "min    -2.593937e+00     -1.577827e+00 -2.179688e+00   -9.884381e-01   \n",
       "25%    -6.193760e-01     -6.676308e-01 -4.766212e-01   -7.363483e-01   \n",
       "50%    -2.396529e-01     -3.035525e-01 -6.788517e-02   -5.300931e-01   \n",
       "75%     3.679042e-01      4.246042e-01  5.452189e-01    5.699350e-01   \n",
       "max     6.595364e+00      6.007139e+00  9.128676e+00    6.092992e+00   \n",
       "\n",
       "          chlorides  free sulfur dioxide  total sulfur dioxide       density  \\\n",
       "count  3.155000e+03         3.155000e+03          3.155000e+03  3.155000e+03   \n",
       "mean  -2.826406e-16         3.209266e-17         -1.047234e-16  5.123565e-16   \n",
       "std    1.000000e+00         1.000000e+00          1.000000e+00  1.000000e+00   \n",
       "min   -1.236296e+00        -1.738510e+00         -1.914798e+00 -2.568595e+00   \n",
       "25%   -5.188840e-01        -7.814608e-01         -6.846207e-01 -8.029722e-01   \n",
       "50%   -2.705491e-01        -1.234893e-01          2.852586e-02  5.729194e-02   \n",
       "75%    2.537136e-01         6.541133e-01          6.881864e-01  7.770694e-01   \n",
       "max    1.131842e+01         6.037516e+00          4.093461e+00  5.475569e+00   \n",
       "\n",
       "                 pH     sulphates       alcohol  \n",
       "count  3.155000e+03  3.155000e+03  3.155000e+03  \n",
       "mean   5.945587e-16  1.306228e-16 -4.920874e-16  \n",
       "std    1.000000e+00  1.000000e+00  1.000000e+00  \n",
       "min   -3.032432e+00 -2.089483e+00 -2.172520e+00  \n",
       "25%   -7.085589e-01 -6.257799e-01 -8.914799e-01  \n",
       "50%   -8.048503e-02 -1.600563e-01 -1.228562e-01  \n",
       "75%    6.103962e-01  4.387313e-01  6.457676e-01  \n",
       "max    4.944106e+00  9.620141e+00  3.720263e+00  "
      ]
     },
     "execution_count": 31,
     "metadata": {},
     "output_type": "execute_result"
    }
   ],
   "source": [
    "norm_train_X.describe()"
   ]
  },
  {
   "cell_type": "markdown",
   "id": "severe-duncan",
   "metadata": {},
   "source": [
    "### Define the model"
   ]
  },
  {
   "cell_type": "code",
   "execution_count": 32,
   "id": "friendly-acrobat",
   "metadata": {},
   "outputs": [],
   "source": [
    "def base_model(inputs):\n",
    "    \n",
    "    # connect a Dense layer with 128 neurons and a relu activation\n",
    "    x = Dense(128, activation = 'relu')(inputs)\n",
    "    \n",
    "    # connect another Dense layer with 128 neurons and a relu activation\n",
    "    x = Dense(128, activation = 'relu')(x)\n",
    "    return x"
   ]
  },
  {
   "cell_type": "code",
   "execution_count": 33,
   "id": "processed-indiana",
   "metadata": {},
   "outputs": [],
   "source": [
    "def final_model(inputs):\n",
    "    \n",
    "    #  get the base model\n",
    "    x = base_model(inputs)\n",
    "\n",
    "    # connect the output Dense layer for regression\n",
    "    wine_quality = Dense(units='1', name='wine_quality')(x)\n",
    "\n",
    "    # connect the output Dense layer for classification. this will use a sigmoid activation.\n",
    "    wine_type = Dense(units='1', activation='sigmoid', name='wine_type')(x)\n",
    "\n",
    "    # define the model using the input and output layers\n",
    "    model = Model(inputs=inputs, outputs=[wine_quality, wine_type])\n",
    "\n",
    "    return model"
   ]
  },
  {
   "cell_type": "code",
   "execution_count": 34,
   "id": "realistic-information",
   "metadata": {},
   "outputs": [
    {
     "data": {
      "text/plain": [
       "11"
      ]
     },
     "execution_count": 34,
     "metadata": {},
     "output_type": "execute_result"
    }
   ],
   "source": [
    "len(train.columns)"
   ]
  },
  {
   "cell_type": "code",
   "execution_count": 35,
   "id": "unexpected-lesson",
   "metadata": {},
   "outputs": [],
   "source": [
    "inputs = tf.keras.layers.Input(shape=(11,))\n",
    "rms = tf.keras.optimizers.RMSprop(lr=0.0001)\n",
    "model = final_model(inputs)\n",
    "\n",
    "model.compile(optimizer=rms, \n",
    "              loss = {'wine_type' : 'binary_crossentropy',\n",
    "                      'wine_quality' : 'mse'\n",
    "                     },\n",
    "              metrics = {'wine_type' : 'accuracy',\n",
    "                         'wine_quality': tf.keras.metrics.RootMeanSquaredError()\n",
    "                       }\n",
    "             )"
   ]
  },
  {
   "cell_type": "code",
   "execution_count": 36,
   "id": "offshore-calculator",
   "metadata": {},
   "outputs": [
    {
     "data": {
      "text/plain": [
       "{'wine_type': 'binary_crossentropy', 'wine_quality': 'mse'}"
      ]
     },
     "execution_count": 36,
     "metadata": {},
     "output_type": "execute_result"
    }
   ],
   "source": [
    "model.loss"
   ]
  },
  {
   "cell_type": "code",
   "execution_count": 37,
   "id": "golden-cause",
   "metadata": {},
   "outputs": [
    {
     "name": "stdout",
     "output_type": "stream",
     "text": [
      "Epoch 1/180\n",
      "99/99 [==============================] - 1s 4ms/step - loss: 30.1033 - wine_quality_loss: 29.4889 - wine_type_loss: 0.6144 - wine_quality_root_mean_squared_error: 5.4247 - wine_type_accuracy: 0.8068 - val_loss: 17.8106 - val_wine_quality_loss: 17.2230 - val_wine_type_loss: 0.5875 - val_wine_quality_root_mean_squared_error: 4.1501 - val_wine_type_accuracy: 0.7731\n",
      "Epoch 2/180\n",
      "99/99 [==============================] - 0s 2ms/step - loss: 14.6599 - wine_quality_loss: 14.0851 - wine_type_loss: 0.5748 - wine_quality_root_mean_squared_error: 3.7462 - wine_type_accuracy: 0.7874 - val_loss: 7.1202 - val_wine_quality_loss: 6.5807 - val_wine_type_loss: 0.5394 - val_wine_quality_root_mean_squared_error: 2.5653 - val_wine_type_accuracy: 0.7478\n",
      "Epoch 3/180\n",
      "99/99 [==============================] - 0s 2ms/step - loss: 5.3907 - wine_quality_loss: 4.8675 - wine_type_loss: 0.5232 - wine_quality_root_mean_squared_error: 2.2010 - wine_type_accuracy: 0.7698 - val_loss: 3.8203 - val_wine_quality_loss: 3.3594 - val_wine_type_loss: 0.4609 - val_wine_quality_root_mean_squared_error: 1.8329 - val_wine_type_accuracy: 0.7706\n",
      "Epoch 4/180\n",
      "99/99 [==============================] - 0s 2ms/step - loss: 2.9137 - wine_quality_loss: 2.4806 - wine_type_loss: 0.4331 - wine_quality_root_mean_squared_error: 1.5742 - wine_type_accuracy: 0.7913 - val_loss: 3.0747 - val_wine_quality_loss: 2.7093 - val_wine_type_loss: 0.3654 - val_wine_quality_root_mean_squared_error: 1.6460 - val_wine_type_accuracy: 0.8504\n",
      "Epoch 5/180\n",
      "99/99 [==============================] - 0s 2ms/step - loss: 2.2471 - wine_quality_loss: 1.8934 - wine_type_loss: 0.3537 - wine_quality_root_mean_squared_error: 1.3751 - wine_type_accuracy: 0.8576 - val_loss: 2.6575 - val_wine_quality_loss: 2.3724 - val_wine_type_loss: 0.2850 - val_wine_quality_root_mean_squared_error: 1.5403 - val_wine_type_accuracy: 0.9341\n",
      "Epoch 6/180\n",
      "99/99 [==============================] - 0s 2ms/step - loss: 2.0359 - wine_quality_loss: 1.7706 - wine_type_loss: 0.2653 - wine_quality_root_mean_squared_error: 1.3304 - wine_type_accuracy: 0.9666 - val_loss: 2.3371 - val_wine_quality_loss: 2.1145 - val_wine_type_loss: 0.2227 - val_wine_quality_root_mean_squared_error: 1.4541 - val_wine_type_accuracy: 0.9759\n",
      "Epoch 7/180\n",
      "99/99 [==============================] - 0s 2ms/step - loss: 1.6829 - wine_quality_loss: 1.4774 - wine_type_loss: 0.2054 - wine_quality_root_mean_squared_error: 1.2153 - wine_type_accuracy: 0.9815 - val_loss: 2.1171 - val_wine_quality_loss: 1.9440 - val_wine_type_loss: 0.1731 - val_wine_quality_root_mean_squared_error: 1.3943 - val_wine_type_accuracy: 0.9810\n",
      "Epoch 8/180\n",
      "99/99 [==============================] - 0s 2ms/step - loss: 1.4846 - wine_quality_loss: 1.3255 - wine_type_loss: 0.1591 - wine_quality_root_mean_squared_error: 1.1505 - wine_type_accuracy: 0.9880 - val_loss: 1.9437 - val_wine_quality_loss: 1.8061 - val_wine_type_loss: 0.1376 - val_wine_quality_root_mean_squared_error: 1.3439 - val_wine_type_accuracy: 0.9848\n",
      "Epoch 9/180\n",
      "99/99 [==============================] - 0s 2ms/step - loss: 1.3931 - wine_quality_loss: 1.2694 - wine_type_loss: 0.1237 - wine_quality_root_mean_squared_error: 1.1265 - wine_type_accuracy: 0.9890 - val_loss: 1.7697 - val_wine_quality_loss: 1.6562 - val_wine_type_loss: 0.1135 - val_wine_quality_root_mean_squared_error: 1.2869 - val_wine_type_accuracy: 0.9873\n",
      "Epoch 10/180\n",
      "99/99 [==============================] - 0s 2ms/step - loss: 1.2762 - wine_quality_loss: 1.1746 - wine_type_loss: 0.1016 - wine_quality_root_mean_squared_error: 1.0837 - wine_type_accuracy: 0.9918 - val_loss: 1.6553 - val_wine_quality_loss: 1.5599 - val_wine_type_loss: 0.0954 - val_wine_quality_root_mean_squared_error: 1.2489 - val_wine_type_accuracy: 0.9873\n",
      "Epoch 11/180\n",
      "99/99 [==============================] - 0s 2ms/step - loss: 1.1931 - wine_quality_loss: 1.1075 - wine_type_loss: 0.0856 - wine_quality_root_mean_squared_error: 1.0515 - wine_type_accuracy: 0.9907 - val_loss: 1.5104 - val_wine_quality_loss: 1.4281 - val_wine_type_loss: 0.0823 - val_wine_quality_root_mean_squared_error: 1.1950 - val_wine_type_accuracy: 0.9886\n",
      "Epoch 12/180\n",
      "99/99 [==============================] - 0s 2ms/step - loss: 1.0888 - wine_quality_loss: 1.0086 - wine_type_loss: 0.0802 - wine_quality_root_mean_squared_error: 1.0036 - wine_type_accuracy: 0.9893 - val_loss: 1.4407 - val_wine_quality_loss: 1.3683 - val_wine_type_loss: 0.0724 - val_wine_quality_root_mean_squared_error: 1.1698 - val_wine_type_accuracy: 0.9899\n",
      "Epoch 13/180\n",
      "99/99 [==============================] - 0s 2ms/step - loss: 1.0354 - wine_quality_loss: 0.9757 - wine_type_loss: 0.0597 - wine_quality_root_mean_squared_error: 0.9874 - wine_type_accuracy: 0.9925 - val_loss: 1.3491 - val_wine_quality_loss: 1.2838 - val_wine_type_loss: 0.0653 - val_wine_quality_root_mean_squared_error: 1.1331 - val_wine_type_accuracy: 0.9899\n",
      "Epoch 14/180\n",
      "99/99 [==============================] - 0s 2ms/step - loss: 1.0272 - wine_quality_loss: 0.9678 - wine_type_loss: 0.0594 - wine_quality_root_mean_squared_error: 0.9833 - wine_type_accuracy: 0.9922 - val_loss: 1.2463 - val_wine_quality_loss: 1.1865 - val_wine_type_loss: 0.0597 - val_wine_quality_root_mean_squared_error: 1.0893 - val_wine_type_accuracy: 0.9899\n",
      "Epoch 15/180\n",
      "99/99 [==============================] - 0s 2ms/step - loss: 0.9186 - wine_quality_loss: 0.8622 - wine_type_loss: 0.0563 - wine_quality_root_mean_squared_error: 0.9283 - wine_type_accuracy: 0.9906 - val_loss: 1.1636 - val_wine_quality_loss: 1.1081 - val_wine_type_loss: 0.0555 - val_wine_quality_root_mean_squared_error: 1.0527 - val_wine_type_accuracy: 0.9899\n",
      "Epoch 16/180\n",
      "99/99 [==============================] - 0s 2ms/step - loss: 0.8727 - wine_quality_loss: 0.8182 - wine_type_loss: 0.0545 - wine_quality_root_mean_squared_error: 0.9044 - wine_type_accuracy: 0.9902 - val_loss: 1.0936 - val_wine_quality_loss: 1.0418 - val_wine_type_loss: 0.0518 - val_wine_quality_root_mean_squared_error: 1.0207 - val_wine_type_accuracy: 0.9899\n",
      "Epoch 17/180\n",
      "99/99 [==============================] - 0s 2ms/step - loss: 0.8313 - wine_quality_loss: 0.7858 - wine_type_loss: 0.0455 - wine_quality_root_mean_squared_error: 0.8859 - wine_type_accuracy: 0.9911 - val_loss: 1.0311 - val_wine_quality_loss: 0.9821 - val_wine_type_loss: 0.0490 - val_wine_quality_root_mean_squared_error: 0.9910 - val_wine_type_accuracy: 0.9899\n",
      "Epoch 18/180\n",
      "99/99 [==============================] - 0s 2ms/step - loss: 0.7560 - wine_quality_loss: 0.7094 - wine_type_loss: 0.0466 - wine_quality_root_mean_squared_error: 0.8421 - wine_type_accuracy: 0.9917 - val_loss: 0.9776 - val_wine_quality_loss: 0.9308 - val_wine_type_loss: 0.0468 - val_wine_quality_root_mean_squared_error: 0.9648 - val_wine_type_accuracy: 0.9911\n",
      "Epoch 19/180\n",
      "99/99 [==============================] - 0s 2ms/step - loss: 0.7021 - wine_quality_loss: 0.6596 - wine_type_loss: 0.0425 - wine_quality_root_mean_squared_error: 0.8117 - wine_type_accuracy: 0.9928 - val_loss: 0.9254 - val_wine_quality_loss: 0.8807 - val_wine_type_loss: 0.0447 - val_wine_quality_root_mean_squared_error: 0.9384 - val_wine_type_accuracy: 0.9911\n",
      "Epoch 20/180\n",
      "99/99 [==============================] - 0s 2ms/step - loss: 0.6704 - wine_quality_loss: 0.6271 - wine_type_loss: 0.0432 - wine_quality_root_mean_squared_error: 0.7918 - wine_type_accuracy: 0.9929 - val_loss: 0.8745 - val_wine_quality_loss: 0.8311 - val_wine_type_loss: 0.0434 - val_wine_quality_root_mean_squared_error: 0.9117 - val_wine_type_accuracy: 0.9911\n",
      "Epoch 21/180\n",
      "99/99 [==============================] - 0s 2ms/step - loss: 0.6555 - wine_quality_loss: 0.6233 - wine_type_loss: 0.0323 - wine_quality_root_mean_squared_error: 0.7890 - wine_type_accuracy: 0.9950 - val_loss: 0.8157 - val_wine_quality_loss: 0.7737 - val_wine_type_loss: 0.0420 - val_wine_quality_root_mean_squared_error: 0.8796 - val_wine_type_accuracy: 0.9911\n",
      "Epoch 22/180\n",
      "99/99 [==============================] - 0s 2ms/step - loss: 0.5987 - wine_quality_loss: 0.5643 - wine_type_loss: 0.0344 - wine_quality_root_mean_squared_error: 0.7510 - wine_type_accuracy: 0.9958 - val_loss: 0.7767 - val_wine_quality_loss: 0.7359 - val_wine_type_loss: 0.0409 - val_wine_quality_root_mean_squared_error: 0.8578 - val_wine_type_accuracy: 0.9911\n",
      "Epoch 23/180\n",
      "99/99 [==============================] - 0s 2ms/step - loss: 0.5978 - wine_quality_loss: 0.5561 - wine_type_loss: 0.0417 - wine_quality_root_mean_squared_error: 0.7450 - wine_type_accuracy: 0.9925 - val_loss: 0.7359 - val_wine_quality_loss: 0.6959 - val_wine_type_loss: 0.0400 - val_wine_quality_root_mean_squared_error: 0.8342 - val_wine_type_accuracy: 0.9911\n",
      "Epoch 24/180\n",
      "99/99 [==============================] - 0s 2ms/step - loss: 0.5348 - wine_quality_loss: 0.4998 - wine_type_loss: 0.0350 - wine_quality_root_mean_squared_error: 0.7068 - wine_type_accuracy: 0.9930 - val_loss: 0.6961 - val_wine_quality_loss: 0.6570 - val_wine_type_loss: 0.0391 - val_wine_quality_root_mean_squared_error: 0.8106 - val_wine_type_accuracy: 0.9911\n",
      "Epoch 25/180\n",
      "99/99 [==============================] - 0s 2ms/step - loss: 0.5166 - wine_quality_loss: 0.4857 - wine_type_loss: 0.0308 - wine_quality_root_mean_squared_error: 0.6965 - wine_type_accuracy: 0.9944 - val_loss: 0.6719 - val_wine_quality_loss: 0.6335 - val_wine_type_loss: 0.0385 - val_wine_quality_root_mean_squared_error: 0.7959 - val_wine_type_accuracy: 0.9911\n",
      "Epoch 26/180\n",
      "99/99 [==============================] - 0s 3ms/step - loss: 0.5170 - wine_quality_loss: 0.4855 - wine_type_loss: 0.0316 - wine_quality_root_mean_squared_error: 0.6965 - wine_type_accuracy: 0.9953 - val_loss: 0.6402 - val_wine_quality_loss: 0.6021 - val_wine_type_loss: 0.0381 - val_wine_quality_root_mean_squared_error: 0.7759 - val_wine_type_accuracy: 0.9911\n",
      "Epoch 27/180\n",
      "99/99 [==============================] - 0s 2ms/step - loss: 0.4706 - wine_quality_loss: 0.4355 - wine_type_loss: 0.0351 - wine_quality_root_mean_squared_error: 0.6598 - wine_type_accuracy: 0.9940 - val_loss: 0.6272 - val_wine_quality_loss: 0.5900 - val_wine_type_loss: 0.0372 - val_wine_quality_root_mean_squared_error: 0.7681 - val_wine_type_accuracy: 0.9911\n",
      "Epoch 28/180\n",
      "99/99 [==============================] - 0s 2ms/step - loss: 0.4744 - wine_quality_loss: 0.4440 - wine_type_loss: 0.0304 - wine_quality_root_mean_squared_error: 0.6662 - wine_type_accuracy: 0.9934 - val_loss: 0.5901 - val_wine_quality_loss: 0.5531 - val_wine_type_loss: 0.0370 - val_wine_quality_root_mean_squared_error: 0.7437 - val_wine_type_accuracy: 0.9911\n",
      "Epoch 29/180\n",
      "99/99 [==============================] - 0s 3ms/step - loss: 0.4433 - wine_quality_loss: 0.4079 - wine_type_loss: 0.0355 - wine_quality_root_mean_squared_error: 0.6385 - wine_type_accuracy: 0.9933 - val_loss: 0.5857 - val_wine_quality_loss: 0.5493 - val_wine_type_loss: 0.0364 - val_wine_quality_root_mean_squared_error: 0.7412 - val_wine_type_accuracy: 0.9924\n",
      "Epoch 30/180\n",
      "99/99 [==============================] - 0s 2ms/step - loss: 0.4509 - wine_quality_loss: 0.4247 - wine_type_loss: 0.0262 - wine_quality_root_mean_squared_error: 0.6498 - wine_type_accuracy: 0.9959 - val_loss: 0.5530 - val_wine_quality_loss: 0.5165 - val_wine_type_loss: 0.0365 - val_wine_quality_root_mean_squared_error: 0.7187 - val_wine_type_accuracy: 0.9899\n",
      "Epoch 31/180\n",
      "99/99 [==============================] - 0s 2ms/step - loss: 0.4207 - wine_quality_loss: 0.3883 - wine_type_loss: 0.0324 - wine_quality_root_mean_squared_error: 0.6229 - wine_type_accuracy: 0.9939 - val_loss: 0.5470 - val_wine_quality_loss: 0.5110 - val_wine_type_loss: 0.0361 - val_wine_quality_root_mean_squared_error: 0.7148 - val_wine_type_accuracy: 0.9911\n",
      "Epoch 32/180\n",
      "99/99 [==============================] - 0s 3ms/step - loss: 0.4121 - wine_quality_loss: 0.3856 - wine_type_loss: 0.0265 - wine_quality_root_mean_squared_error: 0.6209 - wine_type_accuracy: 0.9947 - val_loss: 0.5371 - val_wine_quality_loss: 0.5017 - val_wine_type_loss: 0.0354 - val_wine_quality_root_mean_squared_error: 0.7083 - val_wine_type_accuracy: 0.9911\n",
      "Epoch 33/180\n",
      "99/99 [==============================] - 0s 4ms/step - loss: 0.3974 - wine_quality_loss: 0.3648 - wine_type_loss: 0.0326 - wine_quality_root_mean_squared_error: 0.6039 - wine_type_accuracy: 0.9938 - val_loss: 0.5215 - val_wine_quality_loss: 0.4862 - val_wine_type_loss: 0.0353 - val_wine_quality_root_mean_squared_error: 0.6973 - val_wine_type_accuracy: 0.9911\n",
      "Epoch 34/180\n",
      "99/99 [==============================] - 0s 2ms/step - loss: 0.3877 - wine_quality_loss: 0.3657 - wine_type_loss: 0.0219 - wine_quality_root_mean_squared_error: 0.6047 - wine_type_accuracy: 0.9952 - val_loss: 0.5087 - val_wine_quality_loss: 0.4732 - val_wine_type_loss: 0.0355 - val_wine_quality_root_mean_squared_error: 0.6879 - val_wine_type_accuracy: 0.9911\n",
      "Epoch 35/180\n",
      "99/99 [==============================] - 0s 3ms/step - loss: 0.3840 - wine_quality_loss: 0.3529 - wine_type_loss: 0.0312 - wine_quality_root_mean_squared_error: 0.5940 - wine_type_accuracy: 0.9936 - val_loss: 0.4983 - val_wine_quality_loss: 0.4627 - val_wine_type_loss: 0.0356 - val_wine_quality_root_mean_squared_error: 0.6803 - val_wine_type_accuracy: 0.9911\n",
      "Epoch 36/180\n",
      "99/99 [==============================] - 0s 3ms/step - loss: 0.3731 - wine_quality_loss: 0.3461 - wine_type_loss: 0.0270 - wine_quality_root_mean_squared_error: 0.5880 - wine_type_accuracy: 0.9945 - val_loss: 0.4864 - val_wine_quality_loss: 0.4514 - val_wine_type_loss: 0.0350 - val_wine_quality_root_mean_squared_error: 0.6719 - val_wine_type_accuracy: 0.9911\n",
      "Epoch 37/180\n",
      "99/99 [==============================] - 0s 2ms/step - loss: 0.3604 - wine_quality_loss: 0.3338 - wine_type_loss: 0.0267 - wine_quality_root_mean_squared_error: 0.5777 - wine_type_accuracy: 0.9954 - val_loss: 0.4752 - val_wine_quality_loss: 0.4394 - val_wine_type_loss: 0.0358 - val_wine_quality_root_mean_squared_error: 0.6629 - val_wine_type_accuracy: 0.9911\n",
      "Epoch 38/180\n",
      "99/99 [==============================] - 0s 2ms/step - loss: 0.3818 - wine_quality_loss: 0.3568 - wine_type_loss: 0.0250 - wine_quality_root_mean_squared_error: 0.5971 - wine_type_accuracy: 0.9962 - val_loss: 0.4736 - val_wine_quality_loss: 0.4383 - val_wine_type_loss: 0.0353 - val_wine_quality_root_mean_squared_error: 0.6621 - val_wine_type_accuracy: 0.9911\n",
      "Epoch 39/180\n",
      "99/99 [==============================] - 0s 2ms/step - loss: 0.3748 - wine_quality_loss: 0.3480 - wine_type_loss: 0.0268 - wine_quality_root_mean_squared_error: 0.5897 - wine_type_accuracy: 0.9953 - val_loss: 0.4683 - val_wine_quality_loss: 0.4329 - val_wine_type_loss: 0.0354 - val_wine_quality_root_mean_squared_error: 0.6579 - val_wine_type_accuracy: 0.9911\n",
      "Epoch 40/180\n",
      "99/99 [==============================] - 0s 2ms/step - loss: 0.3689 - wine_quality_loss: 0.3408 - wine_type_loss: 0.0281 - wine_quality_root_mean_squared_error: 0.5838 - wine_type_accuracy: 0.9946 - val_loss: 0.4661 - val_wine_quality_loss: 0.4309 - val_wine_type_loss: 0.0352 - val_wine_quality_root_mean_squared_error: 0.6564 - val_wine_type_accuracy: 0.9911\n",
      "Epoch 41/180\n",
      "99/99 [==============================] - 0s 2ms/step - loss: 0.3637 - wine_quality_loss: 0.3274 - wine_type_loss: 0.0363 - wine_quality_root_mean_squared_error: 0.5720 - wine_type_accuracy: 0.9939 - val_loss: 0.4611 - val_wine_quality_loss: 0.4264 - val_wine_type_loss: 0.0347 - val_wine_quality_root_mean_squared_error: 0.6530 - val_wine_type_accuracy: 0.9911\n",
      "Epoch 42/180\n",
      "99/99 [==============================] - 0s 2ms/step - loss: 0.3548 - wine_quality_loss: 0.3302 - wine_type_loss: 0.0246 - wine_quality_root_mean_squared_error: 0.5745 - wine_type_accuracy: 0.9966 - val_loss: 0.4599 - val_wine_quality_loss: 0.4249 - val_wine_type_loss: 0.0350 - val_wine_quality_root_mean_squared_error: 0.6519 - val_wine_type_accuracy: 0.9911\n",
      "Epoch 43/180\n",
      "99/99 [==============================] - 0s 2ms/step - loss: 0.3630 - wine_quality_loss: 0.3318 - wine_type_loss: 0.0312 - wine_quality_root_mean_squared_error: 0.5760 - wine_type_accuracy: 0.9928 - val_loss: 0.4468 - val_wine_quality_loss: 0.4120 - val_wine_type_loss: 0.0348 - val_wine_quality_root_mean_squared_error: 0.6418 - val_wine_type_accuracy: 0.9911\n",
      "Epoch 44/180\n",
      "99/99 [==============================] - 0s 2ms/step - loss: 0.3360 - wine_quality_loss: 0.3142 - wine_type_loss: 0.0218 - wine_quality_root_mean_squared_error: 0.5605 - wine_type_accuracy: 0.9968 - val_loss: 0.4457 - val_wine_quality_loss: 0.4106 - val_wine_type_loss: 0.0350 - val_wine_quality_root_mean_squared_error: 0.6408 - val_wine_type_accuracy: 0.9911\n",
      "Epoch 45/180\n",
      "99/99 [==============================] - 0s 2ms/step - loss: 0.3382 - wine_quality_loss: 0.3140 - wine_type_loss: 0.0242 - wine_quality_root_mean_squared_error: 0.5602 - wine_type_accuracy: 0.9941 - val_loss: 0.4464 - val_wine_quality_loss: 0.4115 - val_wine_type_loss: 0.0349 - val_wine_quality_root_mean_squared_error: 0.6415 - val_wine_type_accuracy: 0.9911\n",
      "Epoch 46/180\n",
      "99/99 [==============================] - 0s 2ms/step - loss: 0.3387 - wine_quality_loss: 0.3164 - wine_type_loss: 0.0223 - wine_quality_root_mean_squared_error: 0.5623 - wine_type_accuracy: 0.9969 - val_loss: 0.4480 - val_wine_quality_loss: 0.4129 - val_wine_type_loss: 0.0351 - val_wine_quality_root_mean_squared_error: 0.6426 - val_wine_type_accuracy: 0.9911\n",
      "Epoch 47/180\n",
      "99/99 [==============================] - 0s 4ms/step - loss: 0.3305 - wine_quality_loss: 0.3034 - wine_type_loss: 0.0271 - wine_quality_root_mean_squared_error: 0.5507 - wine_type_accuracy: 0.9952 - val_loss: 0.4385 - val_wine_quality_loss: 0.4036 - val_wine_type_loss: 0.0349 - val_wine_quality_root_mean_squared_error: 0.6353 - val_wine_type_accuracy: 0.9924\n",
      "Epoch 48/180\n",
      "99/99 [==============================] - 0s 3ms/step - loss: 0.3461 - wine_quality_loss: 0.3236 - wine_type_loss: 0.0226 - wine_quality_root_mean_squared_error: 0.5688 - wine_type_accuracy: 0.9957 - val_loss: 0.4457 - val_wine_quality_loss: 0.4111 - val_wine_type_loss: 0.0346 - val_wine_quality_root_mean_squared_error: 0.6412 - val_wine_type_accuracy: 0.9924\n",
      "Epoch 49/180\n",
      "99/99 [==============================] - 0s 2ms/step - loss: 0.3485 - wine_quality_loss: 0.3153 - wine_type_loss: 0.0332 - wine_quality_root_mean_squared_error: 0.5614 - wine_type_accuracy: 0.9948 - val_loss: 0.4327 - val_wine_quality_loss: 0.3978 - val_wine_type_loss: 0.0349 - val_wine_quality_root_mean_squared_error: 0.6307 - val_wine_type_accuracy: 0.9924\n",
      "Epoch 50/180\n",
      "99/99 [==============================] - 0s 2ms/step - loss: 0.3258 - wine_quality_loss: 0.3091 - wine_type_loss: 0.0167 - wine_quality_root_mean_squared_error: 0.5559 - wine_type_accuracy: 0.9965 - val_loss: 0.4336 - val_wine_quality_loss: 0.3989 - val_wine_type_loss: 0.0348 - val_wine_quality_root_mean_squared_error: 0.6315 - val_wine_type_accuracy: 0.9924\n",
      "Epoch 51/180\n",
      "99/99 [==============================] - 0s 3ms/step - loss: 0.3325 - wine_quality_loss: 0.3123 - wine_type_loss: 0.0202 - wine_quality_root_mean_squared_error: 0.5587 - wine_type_accuracy: 0.9959 - val_loss: 0.4296 - val_wine_quality_loss: 0.3948 - val_wine_type_loss: 0.0348 - val_wine_quality_root_mean_squared_error: 0.6283 - val_wine_type_accuracy: 0.9924\n",
      "Epoch 52/180\n",
      "99/99 [==============================] - 0s 3ms/step - loss: 0.3418 - wine_quality_loss: 0.3106 - wine_type_loss: 0.0312 - wine_quality_root_mean_squared_error: 0.5572 - wine_type_accuracy: 0.9950 - val_loss: 0.4415 - val_wine_quality_loss: 0.4074 - val_wine_type_loss: 0.0341 - val_wine_quality_root_mean_squared_error: 0.6383 - val_wine_type_accuracy: 0.9924\n",
      "Epoch 53/180\n",
      "99/99 [==============================] - 0s 3ms/step - loss: 0.3205 - wine_quality_loss: 0.2954 - wine_type_loss: 0.0252 - wine_quality_root_mean_squared_error: 0.5432 - wine_type_accuracy: 0.9956 - val_loss: 0.4402 - val_wine_quality_loss: 0.4058 - val_wine_type_loss: 0.0345 - val_wine_quality_root_mean_squared_error: 0.6370 - val_wine_type_accuracy: 0.9924\n",
      "Epoch 54/180\n",
      "99/99 [==============================] - 0s 3ms/step - loss: 0.3317 - wine_quality_loss: 0.3024 - wine_type_loss: 0.0293 - wine_quality_root_mean_squared_error: 0.5499 - wine_type_accuracy: 0.9948 - val_loss: 0.4287 - val_wine_quality_loss: 0.3945 - val_wine_type_loss: 0.0342 - val_wine_quality_root_mean_squared_error: 0.6281 - val_wine_type_accuracy: 0.9924\n",
      "Epoch 55/180\n",
      "99/99 [==============================] - 0s 3ms/step - loss: 0.3299 - wine_quality_loss: 0.2975 - wine_type_loss: 0.0325 - wine_quality_root_mean_squared_error: 0.5452 - wine_type_accuracy: 0.9934 - val_loss: 0.4336 - val_wine_quality_loss: 0.3996 - val_wine_type_loss: 0.0340 - val_wine_quality_root_mean_squared_error: 0.6322 - val_wine_type_accuracy: 0.9924\n",
      "Epoch 56/180\n",
      "99/99 [==============================] - 0s 3ms/step - loss: 0.3301 - wine_quality_loss: 0.2980 - wine_type_loss: 0.0321 - wine_quality_root_mean_squared_error: 0.5458 - wine_type_accuracy: 0.9932 - val_loss: 0.4244 - val_wine_quality_loss: 0.3899 - val_wine_type_loss: 0.0345 - val_wine_quality_root_mean_squared_error: 0.6244 - val_wine_type_accuracy: 0.9924\n",
      "Epoch 57/180\n",
      "99/99 [==============================] - 0s 3ms/step - loss: 0.3151 - wine_quality_loss: 0.2990 - wine_type_loss: 0.0161 - wine_quality_root_mean_squared_error: 0.5468 - wine_type_accuracy: 0.9963 - val_loss: 0.4251 - val_wine_quality_loss: 0.3903 - val_wine_type_loss: 0.0348 - val_wine_quality_root_mean_squared_error: 0.6248 - val_wine_type_accuracy: 0.9924\n",
      "Epoch 58/180\n",
      "99/99 [==============================] - 0s 3ms/step - loss: 0.3238 - wine_quality_loss: 0.2952 - wine_type_loss: 0.0286 - wine_quality_root_mean_squared_error: 0.5432 - wine_type_accuracy: 0.9952 - val_loss: 0.4335 - val_wine_quality_loss: 0.3991 - val_wine_type_loss: 0.0344 - val_wine_quality_root_mean_squared_error: 0.6318 - val_wine_type_accuracy: 0.9924\n",
      "Epoch 59/180\n",
      "99/99 [==============================] - 0s 3ms/step - loss: 0.3220 - wine_quality_loss: 0.2985 - wine_type_loss: 0.0235 - wine_quality_root_mean_squared_error: 0.5463 - wine_type_accuracy: 0.9943 - val_loss: 0.4254 - val_wine_quality_loss: 0.3914 - val_wine_type_loss: 0.0340 - val_wine_quality_root_mean_squared_error: 0.6256 - val_wine_type_accuracy: 0.9924\n",
      "Epoch 60/180\n",
      "99/99 [==============================] - 0s 3ms/step - loss: 0.3074 - wine_quality_loss: 0.2884 - wine_type_loss: 0.0191 - wine_quality_root_mean_squared_error: 0.5370 - wine_type_accuracy: 0.9952 - val_loss: 0.4275 - val_wine_quality_loss: 0.3927 - val_wine_type_loss: 0.0348 - val_wine_quality_root_mean_squared_error: 0.6267 - val_wine_type_accuracy: 0.9924\n",
      "Epoch 61/180\n",
      "99/99 [==============================] - 0s 3ms/step - loss: 0.3228 - wine_quality_loss: 0.2924 - wine_type_loss: 0.0303 - wine_quality_root_mean_squared_error: 0.5407 - wine_type_accuracy: 0.9951 - val_loss: 0.4264 - val_wine_quality_loss: 0.3917 - val_wine_type_loss: 0.0347 - val_wine_quality_root_mean_squared_error: 0.6259 - val_wine_type_accuracy: 0.9924\n",
      "Epoch 62/180\n",
      "99/99 [==============================] - 0s 3ms/step - loss: 0.2949 - wine_quality_loss: 0.2758 - wine_type_loss: 0.0190 - wine_quality_root_mean_squared_error: 0.5251 - wine_type_accuracy: 0.9976 - val_loss: 0.4288 - val_wine_quality_loss: 0.3942 - val_wine_type_loss: 0.0346 - val_wine_quality_root_mean_squared_error: 0.6279 - val_wine_type_accuracy: 0.9924\n",
      "Epoch 63/180\n",
      "99/99 [==============================] - 0s 3ms/step - loss: 0.3109 - wine_quality_loss: 0.2902 - wine_type_loss: 0.0208 - wine_quality_root_mean_squared_error: 0.5386 - wine_type_accuracy: 0.9948 - val_loss: 0.4269 - val_wine_quality_loss: 0.3919 - val_wine_type_loss: 0.0349 - val_wine_quality_root_mean_squared_error: 0.6260 - val_wine_type_accuracy: 0.9924\n",
      "Epoch 64/180\n",
      "99/99 [==============================] - 0s 3ms/step - loss: 0.3247 - wine_quality_loss: 0.2973 - wine_type_loss: 0.0274 - wine_quality_root_mean_squared_error: 0.5451 - wine_type_accuracy: 0.9959 - val_loss: 0.4237 - val_wine_quality_loss: 0.3890 - val_wine_type_loss: 0.0347 - val_wine_quality_root_mean_squared_error: 0.6237 - val_wine_type_accuracy: 0.9924\n",
      "Epoch 65/180\n",
      "99/99 [==============================] - 0s 3ms/step - loss: 0.3097 - wine_quality_loss: 0.2908 - wine_type_loss: 0.0189 - wine_quality_root_mean_squared_error: 0.5392 - wine_type_accuracy: 0.9973 - val_loss: 0.4369 - val_wine_quality_loss: 0.4021 - val_wine_type_loss: 0.0348 - val_wine_quality_root_mean_squared_error: 0.6341 - val_wine_type_accuracy: 0.9924\n",
      "Epoch 66/180\n",
      "99/99 [==============================] - 0s 3ms/step - loss: 0.3328 - wine_quality_loss: 0.2961 - wine_type_loss: 0.0367 - wine_quality_root_mean_squared_error: 0.5441 - wine_type_accuracy: 0.9922 - val_loss: 0.4269 - val_wine_quality_loss: 0.3923 - val_wine_type_loss: 0.0346 - val_wine_quality_root_mean_squared_error: 0.6263 - val_wine_type_accuracy: 0.9924\n",
      "Epoch 67/180\n",
      "99/99 [==============================] - 0s 3ms/step - loss: 0.3114 - wine_quality_loss: 0.2966 - wine_type_loss: 0.0148 - wine_quality_root_mean_squared_error: 0.5446 - wine_type_accuracy: 0.9967 - val_loss: 0.4218 - val_wine_quality_loss: 0.3867 - val_wine_type_loss: 0.0351 - val_wine_quality_root_mean_squared_error: 0.6218 - val_wine_type_accuracy: 0.9924\n",
      "Epoch 68/180\n",
      "99/99 [==============================] - 0s 2ms/step - loss: 0.3087 - wine_quality_loss: 0.2846 - wine_type_loss: 0.0241 - wine_quality_root_mean_squared_error: 0.5334 - wine_type_accuracy: 0.9970 - val_loss: 0.4235 - val_wine_quality_loss: 0.3883 - val_wine_type_loss: 0.0351 - val_wine_quality_root_mean_squared_error: 0.6232 - val_wine_type_accuracy: 0.9924\n",
      "Epoch 69/180\n",
      "99/99 [==============================] - 0s 3ms/step - loss: 0.2894 - wine_quality_loss: 0.2712 - wine_type_loss: 0.0182 - wine_quality_root_mean_squared_error: 0.5204 - wine_type_accuracy: 0.9963 - val_loss: 0.4301 - val_wine_quality_loss: 0.3951 - val_wine_type_loss: 0.0350 - val_wine_quality_root_mean_squared_error: 0.6286 - val_wine_type_accuracy: 0.9924\n",
      "Epoch 70/180\n",
      "99/99 [==============================] - 0s 3ms/step - loss: 0.3232 - wine_quality_loss: 0.2943 - wine_type_loss: 0.0290 - wine_quality_root_mean_squared_error: 0.5423 - wine_type_accuracy: 0.9958 - val_loss: 0.4223 - val_wine_quality_loss: 0.3874 - val_wine_type_loss: 0.0349 - val_wine_quality_root_mean_squared_error: 0.6225 - val_wine_type_accuracy: 0.9924\n",
      "Epoch 71/180\n",
      "99/99 [==============================] - 0s 3ms/step - loss: 0.3136 - wine_quality_loss: 0.2902 - wine_type_loss: 0.0235 - wine_quality_root_mean_squared_error: 0.5386 - wine_type_accuracy: 0.9946 - val_loss: 0.4308 - val_wine_quality_loss: 0.3958 - val_wine_type_loss: 0.0349 - val_wine_quality_root_mean_squared_error: 0.6291 - val_wine_type_accuracy: 0.9924\n",
      "Epoch 72/180\n",
      "99/99 [==============================] - 0s 2ms/step - loss: 0.3142 - wine_quality_loss: 0.2909 - wine_type_loss: 0.0233 - wine_quality_root_mean_squared_error: 0.5393 - wine_type_accuracy: 0.9955 - val_loss: 0.4252 - val_wine_quality_loss: 0.3902 - val_wine_type_loss: 0.0350 - val_wine_quality_root_mean_squared_error: 0.6247 - val_wine_type_accuracy: 0.9924\n",
      "Epoch 73/180\n",
      "99/99 [==============================] - 0s 2ms/step - loss: 0.2936 - wine_quality_loss: 0.2746 - wine_type_loss: 0.0190 - wine_quality_root_mean_squared_error: 0.5238 - wine_type_accuracy: 0.9967 - val_loss: 0.4272 - val_wine_quality_loss: 0.3926 - val_wine_type_loss: 0.0346 - val_wine_quality_root_mean_squared_error: 0.6266 - val_wine_type_accuracy: 0.9924\n",
      "Epoch 74/180\n",
      "99/99 [==============================] - 0s 3ms/step - loss: 0.2945 - wine_quality_loss: 0.2769 - wine_type_loss: 0.0176 - wine_quality_root_mean_squared_error: 0.5261 - wine_type_accuracy: 0.9968 - val_loss: 0.4208 - val_wine_quality_loss: 0.3859 - val_wine_type_loss: 0.0349 - val_wine_quality_root_mean_squared_error: 0.6212 - val_wine_type_accuracy: 0.9924\n",
      "Epoch 75/180\n",
      "99/99 [==============================] - 0s 3ms/step - loss: 0.3115 - wine_quality_loss: 0.2918 - wine_type_loss: 0.0197 - wine_quality_root_mean_squared_error: 0.5401 - wine_type_accuracy: 0.9951 - val_loss: 0.4250 - val_wine_quality_loss: 0.3902 - val_wine_type_loss: 0.0348 - val_wine_quality_root_mean_squared_error: 0.6247 - val_wine_type_accuracy: 0.9924\n",
      "Epoch 76/180\n",
      "99/99 [==============================] - 0s 2ms/step - loss: 0.3070 - wine_quality_loss: 0.2777 - wine_type_loss: 0.0294 - wine_quality_root_mean_squared_error: 0.5268 - wine_type_accuracy: 0.9939 - val_loss: 0.4265 - val_wine_quality_loss: 0.3919 - val_wine_type_loss: 0.0346 - val_wine_quality_root_mean_squared_error: 0.6260 - val_wine_type_accuracy: 0.9924\n",
      "Epoch 77/180\n",
      "99/99 [==============================] - 0s 2ms/step - loss: 0.2946 - wine_quality_loss: 0.2774 - wine_type_loss: 0.0173 - wine_quality_root_mean_squared_error: 0.5265 - wine_type_accuracy: 0.9969 - val_loss: 0.4250 - val_wine_quality_loss: 0.3905 - val_wine_type_loss: 0.0345 - val_wine_quality_root_mean_squared_error: 0.6249 - val_wine_type_accuracy: 0.9924\n",
      "Epoch 78/180\n",
      "99/99 [==============================] - 0s 2ms/step - loss: 0.2985 - wine_quality_loss: 0.2802 - wine_type_loss: 0.0183 - wine_quality_root_mean_squared_error: 0.5293 - wine_type_accuracy: 0.9971 - val_loss: 0.4282 - val_wine_quality_loss: 0.3934 - val_wine_type_loss: 0.0348 - val_wine_quality_root_mean_squared_error: 0.6273 - val_wine_type_accuracy: 0.9924\n",
      "Epoch 79/180\n",
      "99/99 [==============================] - 0s 2ms/step - loss: 0.3055 - wine_quality_loss: 0.2817 - wine_type_loss: 0.0238 - wine_quality_root_mean_squared_error: 0.5307 - wine_type_accuracy: 0.9959 - val_loss: 0.4351 - val_wine_quality_loss: 0.4004 - val_wine_type_loss: 0.0347 - val_wine_quality_root_mean_squared_error: 0.6328 - val_wine_type_accuracy: 0.9924\n",
      "Epoch 80/180\n",
      "99/99 [==============================] - 0s 2ms/step - loss: 0.2933 - wine_quality_loss: 0.2759 - wine_type_loss: 0.0174 - wine_quality_root_mean_squared_error: 0.5252 - wine_type_accuracy: 0.9962 - val_loss: 0.4245 - val_wine_quality_loss: 0.3900 - val_wine_type_loss: 0.0345 - val_wine_quality_root_mean_squared_error: 0.6245 - val_wine_type_accuracy: 0.9924\n",
      "Epoch 81/180\n",
      "99/99 [==============================] - 0s 2ms/step - loss: 0.2891 - wine_quality_loss: 0.2749 - wine_type_loss: 0.0142 - wine_quality_root_mean_squared_error: 0.5242 - wine_type_accuracy: 0.9972 - val_loss: 0.4245 - val_wine_quality_loss: 0.3899 - val_wine_type_loss: 0.0345 - val_wine_quality_root_mean_squared_error: 0.6244 - val_wine_type_accuracy: 0.9924\n",
      "Epoch 82/180\n",
      "99/99 [==============================] - 0s 2ms/step - loss: 0.2987 - wine_quality_loss: 0.2774 - wine_type_loss: 0.0213 - wine_quality_root_mean_squared_error: 0.5265 - wine_type_accuracy: 0.9971 - val_loss: 0.4232 - val_wine_quality_loss: 0.3886 - val_wine_type_loss: 0.0346 - val_wine_quality_root_mean_squared_error: 0.6234 - val_wine_type_accuracy: 0.9924\n",
      "Epoch 83/180\n",
      "99/99 [==============================] - 0s 2ms/step - loss: 0.2933 - wine_quality_loss: 0.2789 - wine_type_loss: 0.0144 - wine_quality_root_mean_squared_error: 0.5281 - wine_type_accuracy: 0.9966 - val_loss: 0.4239 - val_wine_quality_loss: 0.3893 - val_wine_type_loss: 0.0346 - val_wine_quality_root_mean_squared_error: 0.6239 - val_wine_type_accuracy: 0.9924\n",
      "Epoch 84/180\n",
      "99/99 [==============================] - 0s 2ms/step - loss: 0.3161 - wine_quality_loss: 0.2937 - wine_type_loss: 0.0224 - wine_quality_root_mean_squared_error: 0.5416 - wine_type_accuracy: 0.9964 - val_loss: 0.4271 - val_wine_quality_loss: 0.3927 - val_wine_type_loss: 0.0345 - val_wine_quality_root_mean_squared_error: 0.6266 - val_wine_type_accuracy: 0.9924\n",
      "Epoch 85/180\n",
      "99/99 [==============================] - 0s 2ms/step - loss: 0.2881 - wine_quality_loss: 0.2737 - wine_type_loss: 0.0144 - wine_quality_root_mean_squared_error: 0.5231 - wine_type_accuracy: 0.9973 - val_loss: 0.4190 - val_wine_quality_loss: 0.3842 - val_wine_type_loss: 0.0348 - val_wine_quality_root_mean_squared_error: 0.6198 - val_wine_type_accuracy: 0.9924\n",
      "Epoch 86/180\n",
      "99/99 [==============================] - 0s 2ms/step - loss: 0.2946 - wine_quality_loss: 0.2692 - wine_type_loss: 0.0255 - wine_quality_root_mean_squared_error: 0.5186 - wine_type_accuracy: 0.9961 - val_loss: 0.4178 - val_wine_quality_loss: 0.3829 - val_wine_type_loss: 0.0349 - val_wine_quality_root_mean_squared_error: 0.6188 - val_wine_type_accuracy: 0.9924\n",
      "Epoch 87/180\n",
      "99/99 [==============================] - 0s 2ms/step - loss: 0.2902 - wine_quality_loss: 0.2755 - wine_type_loss: 0.0146 - wine_quality_root_mean_squared_error: 0.5248 - wine_type_accuracy: 0.9973 - val_loss: 0.4255 - val_wine_quality_loss: 0.3906 - val_wine_type_loss: 0.0349 - val_wine_quality_root_mean_squared_error: 0.6250 - val_wine_type_accuracy: 0.9924\n",
      "Epoch 88/180\n",
      "99/99 [==============================] - 0s 2ms/step - loss: 0.2854 - wine_quality_loss: 0.2690 - wine_type_loss: 0.0163 - wine_quality_root_mean_squared_error: 0.5184 - wine_type_accuracy: 0.9975 - val_loss: 0.4188 - val_wine_quality_loss: 0.3841 - val_wine_type_loss: 0.0347 - val_wine_quality_root_mean_squared_error: 0.6197 - val_wine_type_accuracy: 0.9924\n",
      "Epoch 89/180\n",
      "99/99 [==============================] - 0s 2ms/step - loss: 0.3004 - wine_quality_loss: 0.2802 - wine_type_loss: 0.0202 - wine_quality_root_mean_squared_error: 0.5294 - wine_type_accuracy: 0.9959 - val_loss: 0.4280 - val_wine_quality_loss: 0.3933 - val_wine_type_loss: 0.0347 - val_wine_quality_root_mean_squared_error: 0.6271 - val_wine_type_accuracy: 0.9924\n",
      "Epoch 90/180\n",
      "99/99 [==============================] - 0s 2ms/step - loss: 0.2912 - wine_quality_loss: 0.2671 - wine_type_loss: 0.0241 - wine_quality_root_mean_squared_error: 0.5167 - wine_type_accuracy: 0.9963 - val_loss: 0.4196 - val_wine_quality_loss: 0.3848 - val_wine_type_loss: 0.0349 - val_wine_quality_root_mean_squared_error: 0.6203 - val_wine_type_accuracy: 0.9924\n",
      "Epoch 91/180\n",
      "99/99 [==============================] - 0s 2ms/step - loss: 0.2918 - wine_quality_loss: 0.2699 - wine_type_loss: 0.0219 - wine_quality_root_mean_squared_error: 0.5195 - wine_type_accuracy: 0.9969 - val_loss: 0.4238 - val_wine_quality_loss: 0.3888 - val_wine_type_loss: 0.0350 - val_wine_quality_root_mean_squared_error: 0.6236 - val_wine_type_accuracy: 0.9924\n",
      "Epoch 92/180\n",
      "99/99 [==============================] - 0s 2ms/step - loss: 0.3085 - wine_quality_loss: 0.2867 - wine_type_loss: 0.0218 - wine_quality_root_mean_squared_error: 0.5349 - wine_type_accuracy: 0.9956 - val_loss: 0.4248 - val_wine_quality_loss: 0.3900 - val_wine_type_loss: 0.0348 - val_wine_quality_root_mean_squared_error: 0.6245 - val_wine_type_accuracy: 0.9924\n",
      "Epoch 93/180\n",
      "99/99 [==============================] - 0s 2ms/step - loss: 0.3007 - wine_quality_loss: 0.2766 - wine_type_loss: 0.0241 - wine_quality_root_mean_squared_error: 0.5258 - wine_type_accuracy: 0.9955 - val_loss: 0.4323 - val_wine_quality_loss: 0.3975 - val_wine_type_loss: 0.0347 - val_wine_quality_root_mean_squared_error: 0.6305 - val_wine_type_accuracy: 0.9924\n",
      "Epoch 94/180\n",
      "99/99 [==============================] - 0s 2ms/step - loss: 0.3033 - wine_quality_loss: 0.2848 - wine_type_loss: 0.0185 - wine_quality_root_mean_squared_error: 0.5334 - wine_type_accuracy: 0.9965 - val_loss: 0.4203 - val_wine_quality_loss: 0.3853 - val_wine_type_loss: 0.0350 - val_wine_quality_root_mean_squared_error: 0.6207 - val_wine_type_accuracy: 0.9924\n",
      "Epoch 95/180\n",
      "99/99 [==============================] - 0s 2ms/step - loss: 0.2745 - wine_quality_loss: 0.2575 - wine_type_loss: 0.0170 - wine_quality_root_mean_squared_error: 0.5072 - wine_type_accuracy: 0.9972 - val_loss: 0.4325 - val_wine_quality_loss: 0.3978 - val_wine_type_loss: 0.0346 - val_wine_quality_root_mean_squared_error: 0.6307 - val_wine_type_accuracy: 0.9924\n",
      "Epoch 96/180\n",
      "99/99 [==============================] - 0s 2ms/step - loss: 0.2744 - wine_quality_loss: 0.2570 - wine_type_loss: 0.0174 - wine_quality_root_mean_squared_error: 0.5067 - wine_type_accuracy: 0.9962 - val_loss: 0.4263 - val_wine_quality_loss: 0.3918 - val_wine_type_loss: 0.0345 - val_wine_quality_root_mean_squared_error: 0.6260 - val_wine_type_accuracy: 0.9924\n",
      "Epoch 97/180\n",
      "99/99 [==============================] - 0s 2ms/step - loss: 0.2836 - wine_quality_loss: 0.2627 - wine_type_loss: 0.0209 - wine_quality_root_mean_squared_error: 0.5124 - wine_type_accuracy: 0.9963 - val_loss: 0.4241 - val_wine_quality_loss: 0.3891 - val_wine_type_loss: 0.0350 - val_wine_quality_root_mean_squared_error: 0.6237 - val_wine_type_accuracy: 0.9924\n",
      "Epoch 98/180\n",
      "99/99 [==============================] - 0s 2ms/step - loss: 0.2836 - wine_quality_loss: 0.2693 - wine_type_loss: 0.0143 - wine_quality_root_mean_squared_error: 0.5188 - wine_type_accuracy: 0.9979 - val_loss: 0.4232 - val_wine_quality_loss: 0.3882 - val_wine_type_loss: 0.0351 - val_wine_quality_root_mean_squared_error: 0.6230 - val_wine_type_accuracy: 0.9924\n",
      "Epoch 99/180\n",
      "99/99 [==============================] - 0s 2ms/step - loss: 0.2864 - wine_quality_loss: 0.2653 - wine_type_loss: 0.0212 - wine_quality_root_mean_squared_error: 0.5149 - wine_type_accuracy: 0.9956 - val_loss: 0.4258 - val_wine_quality_loss: 0.3909 - val_wine_type_loss: 0.0349 - val_wine_quality_root_mean_squared_error: 0.6252 - val_wine_type_accuracy: 0.9924\n",
      "Epoch 100/180\n",
      "99/99 [==============================] - 0s 2ms/step - loss: 0.2901 - wine_quality_loss: 0.2675 - wine_type_loss: 0.0226 - wine_quality_root_mean_squared_error: 0.5170 - wine_type_accuracy: 0.9954 - val_loss: 0.4266 - val_wine_quality_loss: 0.3910 - val_wine_type_loss: 0.0356 - val_wine_quality_root_mean_squared_error: 0.6253 - val_wine_type_accuracy: 0.9924\n",
      "Epoch 101/180\n",
      "99/99 [==============================] - 0s 2ms/step - loss: 0.2892 - wine_quality_loss: 0.2769 - wine_type_loss: 0.0122 - wine_quality_root_mean_squared_error: 0.5261 - wine_type_accuracy: 0.9977 - val_loss: 0.4209 - val_wine_quality_loss: 0.3854 - val_wine_type_loss: 0.0355 - val_wine_quality_root_mean_squared_error: 0.6208 - val_wine_type_accuracy: 0.9924\n",
      "Epoch 102/180\n",
      "99/99 [==============================] - 0s 2ms/step - loss: 0.2885 - wine_quality_loss: 0.2714 - wine_type_loss: 0.0171 - wine_quality_root_mean_squared_error: 0.5209 - wine_type_accuracy: 0.9963 - val_loss: 0.4201 - val_wine_quality_loss: 0.3844 - val_wine_type_loss: 0.0357 - val_wine_quality_root_mean_squared_error: 0.6200 - val_wine_type_accuracy: 0.9924\n",
      "Epoch 103/180\n",
      "99/99 [==============================] - 0s 2ms/step - loss: 0.2808 - wine_quality_loss: 0.2630 - wine_type_loss: 0.0178 - wine_quality_root_mean_squared_error: 0.5128 - wine_type_accuracy: 0.9967 - val_loss: 0.4276 - val_wine_quality_loss: 0.3923 - val_wine_type_loss: 0.0353 - val_wine_quality_root_mean_squared_error: 0.6264 - val_wine_type_accuracy: 0.9924\n",
      "Epoch 104/180\n",
      "99/99 [==============================] - 0s 2ms/step - loss: 0.2964 - wine_quality_loss: 0.2726 - wine_type_loss: 0.0237 - wine_quality_root_mean_squared_error: 0.5221 - wine_type_accuracy: 0.9950 - val_loss: 0.4268 - val_wine_quality_loss: 0.3911 - val_wine_type_loss: 0.0356 - val_wine_quality_root_mean_squared_error: 0.6254 - val_wine_type_accuracy: 0.9924\n",
      "Epoch 105/180\n",
      "99/99 [==============================] - 0s 2ms/step - loss: 0.2865 - wine_quality_loss: 0.2625 - wine_type_loss: 0.0240 - wine_quality_root_mean_squared_error: 0.5123 - wine_type_accuracy: 0.9961 - val_loss: 0.4209 - val_wine_quality_loss: 0.3855 - val_wine_type_loss: 0.0354 - val_wine_quality_root_mean_squared_error: 0.6209 - val_wine_type_accuracy: 0.9924\n",
      "Epoch 106/180\n",
      "99/99 [==============================] - 0s 2ms/step - loss: 0.2881 - wine_quality_loss: 0.2713 - wine_type_loss: 0.0169 - wine_quality_root_mean_squared_error: 0.5208 - wine_type_accuracy: 0.9960 - val_loss: 0.4245 - val_wine_quality_loss: 0.3895 - val_wine_type_loss: 0.0351 - val_wine_quality_root_mean_squared_error: 0.6241 - val_wine_type_accuracy: 0.9924\n",
      "Epoch 107/180\n",
      "99/99 [==============================] - 0s 2ms/step - loss: 0.2926 - wine_quality_loss: 0.2657 - wine_type_loss: 0.0270 - wine_quality_root_mean_squared_error: 0.5154 - wine_type_accuracy: 0.9952 - val_loss: 0.4258 - val_wine_quality_loss: 0.3905 - val_wine_type_loss: 0.0353 - val_wine_quality_root_mean_squared_error: 0.6249 - val_wine_type_accuracy: 0.9924\n",
      "Epoch 108/180\n",
      "99/99 [==============================] - 0s 2ms/step - loss: 0.2892 - wine_quality_loss: 0.2705 - wine_type_loss: 0.0187 - wine_quality_root_mean_squared_error: 0.5200 - wine_type_accuracy: 0.9969 - val_loss: 0.4330 - val_wine_quality_loss: 0.3977 - val_wine_type_loss: 0.0353 - val_wine_quality_root_mean_squared_error: 0.6306 - val_wine_type_accuracy: 0.9924\n",
      "Epoch 109/180\n",
      "99/99 [==============================] - 0s 2ms/step - loss: 0.2849 - wine_quality_loss: 0.2682 - wine_type_loss: 0.0167 - wine_quality_root_mean_squared_error: 0.5177 - wine_type_accuracy: 0.9967 - val_loss: 0.4439 - val_wine_quality_loss: 0.4086 - val_wine_type_loss: 0.0353 - val_wine_quality_root_mean_squared_error: 0.6392 - val_wine_type_accuracy: 0.9924\n",
      "Epoch 110/180\n",
      "99/99 [==============================] - 0s 2ms/step - loss: 0.2901 - wine_quality_loss: 0.2672 - wine_type_loss: 0.0229 - wine_quality_root_mean_squared_error: 0.5169 - wine_type_accuracy: 0.9958 - val_loss: 0.4229 - val_wine_quality_loss: 0.3875 - val_wine_type_loss: 0.0354 - val_wine_quality_root_mean_squared_error: 0.6225 - val_wine_type_accuracy: 0.9924\n",
      "Epoch 111/180\n",
      "99/99 [==============================] - 0s 3ms/step - loss: 0.2796 - wine_quality_loss: 0.2643 - wine_type_loss: 0.0153 - wine_quality_root_mean_squared_error: 0.5140 - wine_type_accuracy: 0.9967 - val_loss: 0.4233 - val_wine_quality_loss: 0.3877 - val_wine_type_loss: 0.0357 - val_wine_quality_root_mean_squared_error: 0.6226 - val_wine_type_accuracy: 0.9924\n",
      "Epoch 112/180\n",
      "99/99 [==============================] - 0s 3ms/step - loss: 0.2755 - wine_quality_loss: 0.2609 - wine_type_loss: 0.0146 - wine_quality_root_mean_squared_error: 0.5107 - wine_type_accuracy: 0.9973 - val_loss: 0.4319 - val_wine_quality_loss: 0.3964 - val_wine_type_loss: 0.0355 - val_wine_quality_root_mean_squared_error: 0.6296 - val_wine_type_accuracy: 0.9924\n",
      "Epoch 113/180\n",
      "99/99 [==============================] - 0s 2ms/step - loss: 0.2766 - wine_quality_loss: 0.2624 - wine_type_loss: 0.0142 - wine_quality_root_mean_squared_error: 0.5121 - wine_type_accuracy: 0.9973 - val_loss: 0.4264 - val_wine_quality_loss: 0.3909 - val_wine_type_loss: 0.0356 - val_wine_quality_root_mean_squared_error: 0.6252 - val_wine_type_accuracy: 0.9924\n",
      "Epoch 114/180\n",
      "99/99 [==============================] - 0s 2ms/step - loss: 0.2915 - wine_quality_loss: 0.2658 - wine_type_loss: 0.0257 - wine_quality_root_mean_squared_error: 0.5155 - wine_type_accuracy: 0.9954 - val_loss: 0.4332 - val_wine_quality_loss: 0.3972 - val_wine_type_loss: 0.0360 - val_wine_quality_root_mean_squared_error: 0.6302 - val_wine_type_accuracy: 0.9924\n",
      "Epoch 115/180\n",
      "99/99 [==============================] - 0s 3ms/step - loss: 0.2670 - wine_quality_loss: 0.2512 - wine_type_loss: 0.0158 - wine_quality_root_mean_squared_error: 0.5011 - wine_type_accuracy: 0.9963 - val_loss: 0.4246 - val_wine_quality_loss: 0.3886 - val_wine_type_loss: 0.0360 - val_wine_quality_root_mean_squared_error: 0.6234 - val_wine_type_accuracy: 0.9924\n",
      "Epoch 116/180\n",
      "99/99 [==============================] - 0s 3ms/step - loss: 0.2864 - wine_quality_loss: 0.2650 - wine_type_loss: 0.0214 - wine_quality_root_mean_squared_error: 0.5147 - wine_type_accuracy: 0.9955 - val_loss: 0.4315 - val_wine_quality_loss: 0.3956 - val_wine_type_loss: 0.0360 - val_wine_quality_root_mean_squared_error: 0.6290 - val_wine_type_accuracy: 0.9924\n",
      "Epoch 117/180\n",
      "99/99 [==============================] - 0s 2ms/step - loss: 0.2733 - wine_quality_loss: 0.2651 - wine_type_loss: 0.0082 - wine_quality_root_mean_squared_error: 0.5148 - wine_type_accuracy: 0.9990 - val_loss: 0.4304 - val_wine_quality_loss: 0.3948 - val_wine_type_loss: 0.0356 - val_wine_quality_root_mean_squared_error: 0.6284 - val_wine_type_accuracy: 0.9924\n",
      "Epoch 118/180\n",
      "99/99 [==============================] - 0s 2ms/step - loss: 0.2883 - wine_quality_loss: 0.2715 - wine_type_loss: 0.0168 - wine_quality_root_mean_squared_error: 0.5210 - wine_type_accuracy: 0.9970 - val_loss: 0.4256 - val_wine_quality_loss: 0.3897 - val_wine_type_loss: 0.0358 - val_wine_quality_root_mean_squared_error: 0.6243 - val_wine_type_accuracy: 0.9924\n",
      "Epoch 119/180\n",
      "99/99 [==============================] - 0s 2ms/step - loss: 0.2906 - wine_quality_loss: 0.2654 - wine_type_loss: 0.0253 - wine_quality_root_mean_squared_error: 0.5150 - wine_type_accuracy: 0.9962 - val_loss: 0.4274 - val_wine_quality_loss: 0.3915 - val_wine_type_loss: 0.0359 - val_wine_quality_root_mean_squared_error: 0.6257 - val_wine_type_accuracy: 0.9924\n",
      "Epoch 120/180\n",
      "99/99 [==============================] - 0s 2ms/step - loss: 0.2972 - wine_quality_loss: 0.2605 - wine_type_loss: 0.0367 - wine_quality_root_mean_squared_error: 0.5103 - wine_type_accuracy: 0.9929 - val_loss: 0.4243 - val_wine_quality_loss: 0.3884 - val_wine_type_loss: 0.0358 - val_wine_quality_root_mean_squared_error: 0.6232 - val_wine_type_accuracy: 0.9924\n",
      "Epoch 121/180\n",
      "99/99 [==============================] - 0s 2ms/step - loss: 0.2786 - wine_quality_loss: 0.2559 - wine_type_loss: 0.0227 - wine_quality_root_mean_squared_error: 0.5058 - wine_type_accuracy: 0.9958 - val_loss: 0.4342 - val_wine_quality_loss: 0.3984 - val_wine_type_loss: 0.0359 - val_wine_quality_root_mean_squared_error: 0.6312 - val_wine_type_accuracy: 0.9924\n",
      "Epoch 122/180\n",
      "99/99 [==============================] - 0s 2ms/step - loss: 0.2663 - wine_quality_loss: 0.2480 - wine_type_loss: 0.0183 - wine_quality_root_mean_squared_error: 0.4979 - wine_type_accuracy: 0.9961 - val_loss: 0.4327 - val_wine_quality_loss: 0.3967 - val_wine_type_loss: 0.0360 - val_wine_quality_root_mean_squared_error: 0.6298 - val_wine_type_accuracy: 0.9924\n",
      "Epoch 123/180\n",
      "99/99 [==============================] - 0s 2ms/step - loss: 0.2866 - wine_quality_loss: 0.2629 - wine_type_loss: 0.0237 - wine_quality_root_mean_squared_error: 0.5126 - wine_type_accuracy: 0.9957 - val_loss: 0.4300 - val_wine_quality_loss: 0.3937 - val_wine_type_loss: 0.0363 - val_wine_quality_root_mean_squared_error: 0.6275 - val_wine_type_accuracy: 0.9924\n",
      "Epoch 124/180\n",
      "99/99 [==============================] - 0s 3ms/step - loss: 0.2970 - wine_quality_loss: 0.2707 - wine_type_loss: 0.0264 - wine_quality_root_mean_squared_error: 0.5200 - wine_type_accuracy: 0.9956 - val_loss: 0.4246 - val_wine_quality_loss: 0.3883 - val_wine_type_loss: 0.0363 - val_wine_quality_root_mean_squared_error: 0.6232 - val_wine_type_accuracy: 0.9924\n",
      "Epoch 125/180\n",
      "99/99 [==============================] - 0s 3ms/step - loss: 0.2791 - wine_quality_loss: 0.2673 - wine_type_loss: 0.0118 - wine_quality_root_mean_squared_error: 0.5169 - wine_type_accuracy: 0.9979 - val_loss: 0.4263 - val_wine_quality_loss: 0.3899 - val_wine_type_loss: 0.0364 - val_wine_quality_root_mean_squared_error: 0.6244 - val_wine_type_accuracy: 0.9924\n",
      "Epoch 126/180\n",
      "99/99 [==============================] - 0s 2ms/step - loss: 0.2783 - wine_quality_loss: 0.2624 - wine_type_loss: 0.0159 - wine_quality_root_mean_squared_error: 0.5122 - wine_type_accuracy: 0.9976 - val_loss: 0.4343 - val_wine_quality_loss: 0.3976 - val_wine_type_loss: 0.0367 - val_wine_quality_root_mean_squared_error: 0.6305 - val_wine_type_accuracy: 0.9924\n",
      "Epoch 127/180\n",
      "99/99 [==============================] - 0s 2ms/step - loss: 0.2812 - wine_quality_loss: 0.2628 - wine_type_loss: 0.0185 - wine_quality_root_mean_squared_error: 0.5125 - wine_type_accuracy: 0.9962 - val_loss: 0.4422 - val_wine_quality_loss: 0.4058 - val_wine_type_loss: 0.0364 - val_wine_quality_root_mean_squared_error: 0.6370 - val_wine_type_accuracy: 0.9924\n",
      "Epoch 128/180\n",
      "99/99 [==============================] - 0s 2ms/step - loss: 0.2776 - wine_quality_loss: 0.2609 - wine_type_loss: 0.0167 - wine_quality_root_mean_squared_error: 0.5107 - wine_type_accuracy: 0.9973 - val_loss: 0.4383 - val_wine_quality_loss: 0.4018 - val_wine_type_loss: 0.0364 - val_wine_quality_root_mean_squared_error: 0.6339 - val_wine_type_accuracy: 0.9924\n",
      "Epoch 129/180\n",
      "99/99 [==============================] - 0s 2ms/step - loss: 0.2863 - wine_quality_loss: 0.2650 - wine_type_loss: 0.0213 - wine_quality_root_mean_squared_error: 0.5147 - wine_type_accuracy: 0.9962 - val_loss: 0.4303 - val_wine_quality_loss: 0.3939 - val_wine_type_loss: 0.0364 - val_wine_quality_root_mean_squared_error: 0.6276 - val_wine_type_accuracy: 0.9924\n",
      "Epoch 130/180\n",
      "99/99 [==============================] - 0s 2ms/step - loss: 0.2729 - wine_quality_loss: 0.2493 - wine_type_loss: 0.0236 - wine_quality_root_mean_squared_error: 0.4992 - wine_type_accuracy: 0.9964 - val_loss: 0.4312 - val_wine_quality_loss: 0.3944 - val_wine_type_loss: 0.0368 - val_wine_quality_root_mean_squared_error: 0.6280 - val_wine_type_accuracy: 0.9924\n",
      "Epoch 131/180\n",
      "99/99 [==============================] - 0s 3ms/step - loss: 0.2679 - wine_quality_loss: 0.2584 - wine_type_loss: 0.0095 - wine_quality_root_mean_squared_error: 0.5083 - wine_type_accuracy: 0.9985 - val_loss: 0.4363 - val_wine_quality_loss: 0.3998 - val_wine_type_loss: 0.0365 - val_wine_quality_root_mean_squared_error: 0.6323 - val_wine_type_accuracy: 0.9924\n",
      "Epoch 132/180\n",
      "99/99 [==============================] - 0s 3ms/step - loss: 0.2739 - wine_quality_loss: 0.2557 - wine_type_loss: 0.0182 - wine_quality_root_mean_squared_error: 0.5056 - wine_type_accuracy: 0.9975 - val_loss: 0.4443 - val_wine_quality_loss: 0.4080 - val_wine_type_loss: 0.0364 - val_wine_quality_root_mean_squared_error: 0.6387 - val_wine_type_accuracy: 0.9924\n",
      "Epoch 133/180\n",
      "99/99 [==============================] - 0s 3ms/step - loss: 0.2651 - wine_quality_loss: 0.2503 - wine_type_loss: 0.0148 - wine_quality_root_mean_squared_error: 0.5001 - wine_type_accuracy: 0.9980 - val_loss: 0.4441 - val_wine_quality_loss: 0.4074 - val_wine_type_loss: 0.0367 - val_wine_quality_root_mean_squared_error: 0.6383 - val_wine_type_accuracy: 0.9924\n",
      "Epoch 134/180\n",
      "99/99 [==============================] - 0s 3ms/step - loss: 0.2694 - wine_quality_loss: 0.2496 - wine_type_loss: 0.0198 - wine_quality_root_mean_squared_error: 0.4995 - wine_type_accuracy: 0.9947 - val_loss: 0.4266 - val_wine_quality_loss: 0.3897 - val_wine_type_loss: 0.0369 - val_wine_quality_root_mean_squared_error: 0.6242 - val_wine_type_accuracy: 0.9924\n",
      "Epoch 135/180\n",
      "99/99 [==============================] - 0s 3ms/step - loss: 0.2840 - wine_quality_loss: 0.2511 - wine_type_loss: 0.0329 - wine_quality_root_mean_squared_error: 0.5010 - wine_type_accuracy: 0.9942 - val_loss: 0.4313 - val_wine_quality_loss: 0.3947 - val_wine_type_loss: 0.0367 - val_wine_quality_root_mean_squared_error: 0.6282 - val_wine_type_accuracy: 0.9924\n",
      "Epoch 136/180\n",
      "99/99 [==============================] - 0s 2ms/step - loss: 0.2699 - wine_quality_loss: 0.2534 - wine_type_loss: 0.0165 - wine_quality_root_mean_squared_error: 0.5033 - wine_type_accuracy: 0.9964 - val_loss: 0.4336 - val_wine_quality_loss: 0.3969 - val_wine_type_loss: 0.0367 - val_wine_quality_root_mean_squared_error: 0.6300 - val_wine_type_accuracy: 0.9924\n",
      "Epoch 137/180\n",
      "99/99 [==============================] - 0s 4ms/step - loss: 0.2772 - wine_quality_loss: 0.2517 - wine_type_loss: 0.0255 - wine_quality_root_mean_squared_error: 0.5017 - wine_type_accuracy: 0.9945 - val_loss: 0.4364 - val_wine_quality_loss: 0.3999 - val_wine_type_loss: 0.0365 - val_wine_quality_root_mean_squared_error: 0.6324 - val_wine_type_accuracy: 0.9924\n",
      "Epoch 138/180\n",
      "99/99 [==============================] - 0s 3ms/step - loss: 0.2637 - wine_quality_loss: 0.2546 - wine_type_loss: 0.0091 - wine_quality_root_mean_squared_error: 0.5046 - wine_type_accuracy: 0.9982 - val_loss: 0.4311 - val_wine_quality_loss: 0.3942 - val_wine_type_loss: 0.0369 - val_wine_quality_root_mean_squared_error: 0.6279 - val_wine_type_accuracy: 0.9924\n",
      "Epoch 139/180\n",
      "99/99 [==============================] - 0s 3ms/step - loss: 0.2686 - wine_quality_loss: 0.2475 - wine_type_loss: 0.0210 - wine_quality_root_mean_squared_error: 0.4975 - wine_type_accuracy: 0.9967 - val_loss: 0.4306 - val_wine_quality_loss: 0.3936 - val_wine_type_loss: 0.0369 - val_wine_quality_root_mean_squared_error: 0.6274 - val_wine_type_accuracy: 0.9924\n",
      "Epoch 140/180\n",
      "99/99 [==============================] - 0s 3ms/step - loss: 0.2578 - wine_quality_loss: 0.2450 - wine_type_loss: 0.0127 - wine_quality_root_mean_squared_error: 0.4948 - wine_type_accuracy: 0.9969 - val_loss: 0.4250 - val_wine_quality_loss: 0.3881 - val_wine_type_loss: 0.0370 - val_wine_quality_root_mean_squared_error: 0.6229 - val_wine_type_accuracy: 0.9924\n",
      "Epoch 141/180\n",
      "99/99 [==============================] - 0s 3ms/step - loss: 0.2642 - wine_quality_loss: 0.2487 - wine_type_loss: 0.0155 - wine_quality_root_mean_squared_error: 0.4986 - wine_type_accuracy: 0.9975 - val_loss: 0.4369 - val_wine_quality_loss: 0.3994 - val_wine_type_loss: 0.0375 - val_wine_quality_root_mean_squared_error: 0.6320 - val_wine_type_accuracy: 0.9924\n",
      "Epoch 142/180\n",
      "99/99 [==============================] - 0s 2ms/step - loss: 0.2630 - wine_quality_loss: 0.2547 - wine_type_loss: 0.0083 - wine_quality_root_mean_squared_error: 0.5047 - wine_type_accuracy: 0.9983 - val_loss: 0.4317 - val_wine_quality_loss: 0.3945 - val_wine_type_loss: 0.0372 - val_wine_quality_root_mean_squared_error: 0.6281 - val_wine_type_accuracy: 0.9924\n",
      "Epoch 143/180\n",
      "99/99 [==============================] - 0s 2ms/step - loss: 0.2610 - wine_quality_loss: 0.2486 - wine_type_loss: 0.0124 - wine_quality_root_mean_squared_error: 0.4984 - wine_type_accuracy: 0.9975 - val_loss: 0.4305 - val_wine_quality_loss: 0.3931 - val_wine_type_loss: 0.0374 - val_wine_quality_root_mean_squared_error: 0.6270 - val_wine_type_accuracy: 0.9924\n",
      "Epoch 144/180\n",
      "99/99 [==============================] - 0s 2ms/step - loss: 0.2672 - wine_quality_loss: 0.2512 - wine_type_loss: 0.0160 - wine_quality_root_mean_squared_error: 0.5011 - wine_type_accuracy: 0.9961 - val_loss: 0.4323 - val_wine_quality_loss: 0.3948 - val_wine_type_loss: 0.0376 - val_wine_quality_root_mean_squared_error: 0.6283 - val_wine_type_accuracy: 0.9924\n",
      "Epoch 145/180\n",
      "99/99 [==============================] - 0s 2ms/step - loss: 0.2626 - wine_quality_loss: 0.2420 - wine_type_loss: 0.0206 - wine_quality_root_mean_squared_error: 0.4918 - wine_type_accuracy: 0.9950 - val_loss: 0.4338 - val_wine_quality_loss: 0.3962 - val_wine_type_loss: 0.0376 - val_wine_quality_root_mean_squared_error: 0.6294 - val_wine_type_accuracy: 0.9924\n",
      "Epoch 146/180\n",
      "99/99 [==============================] - 0s 2ms/step - loss: 0.2674 - wine_quality_loss: 0.2518 - wine_type_loss: 0.0156 - wine_quality_root_mean_squared_error: 0.5017 - wine_type_accuracy: 0.9963 - val_loss: 0.4353 - val_wine_quality_loss: 0.3976 - val_wine_type_loss: 0.0377 - val_wine_quality_root_mean_squared_error: 0.6306 - val_wine_type_accuracy: 0.9924\n",
      "Epoch 147/180\n",
      "99/99 [==============================] - 0s 2ms/step - loss: 0.2704 - wine_quality_loss: 0.2530 - wine_type_loss: 0.0174 - wine_quality_root_mean_squared_error: 0.5030 - wine_type_accuracy: 0.9962 - val_loss: 0.4456 - val_wine_quality_loss: 0.4076 - val_wine_type_loss: 0.0380 - val_wine_quality_root_mean_squared_error: 0.6384 - val_wine_type_accuracy: 0.9924\n",
      "Epoch 148/180\n",
      "99/99 [==============================] - 0s 2ms/step - loss: 0.2671 - wine_quality_loss: 0.2482 - wine_type_loss: 0.0190 - wine_quality_root_mean_squared_error: 0.4981 - wine_type_accuracy: 0.9959 - val_loss: 0.4295 - val_wine_quality_loss: 0.3918 - val_wine_type_loss: 0.0377 - val_wine_quality_root_mean_squared_error: 0.6259 - val_wine_type_accuracy: 0.9924\n",
      "Epoch 149/180\n",
      "99/99 [==============================] - 0s 3ms/step - loss: 0.2712 - wine_quality_loss: 0.2552 - wine_type_loss: 0.0160 - wine_quality_root_mean_squared_error: 0.5051 - wine_type_accuracy: 0.9967 - val_loss: 0.4334 - val_wine_quality_loss: 0.3956 - val_wine_type_loss: 0.0378 - val_wine_quality_root_mean_squared_error: 0.6290 - val_wine_type_accuracy: 0.9924\n",
      "Epoch 150/180\n",
      "99/99 [==============================] - 0s 3ms/step - loss: 0.2578 - wine_quality_loss: 0.2498 - wine_type_loss: 0.0079 - wine_quality_root_mean_squared_error: 0.4998 - wine_type_accuracy: 0.9979 - val_loss: 0.4377 - val_wine_quality_loss: 0.3998 - val_wine_type_loss: 0.0379 - val_wine_quality_root_mean_squared_error: 0.6323 - val_wine_type_accuracy: 0.9924\n",
      "Epoch 151/180\n",
      "99/99 [==============================] - 0s 2ms/step - loss: 0.2551 - wine_quality_loss: 0.2406 - wine_type_loss: 0.0145 - wine_quality_root_mean_squared_error: 0.4905 - wine_type_accuracy: 0.9953 - val_loss: 0.4327 - val_wine_quality_loss: 0.3946 - val_wine_type_loss: 0.0382 - val_wine_quality_root_mean_squared_error: 0.6281 - val_wine_type_accuracy: 0.9924\n",
      "Epoch 152/180\n",
      "99/99 [==============================] - 0s 2ms/step - loss: 0.2668 - wine_quality_loss: 0.2497 - wine_type_loss: 0.0171 - wine_quality_root_mean_squared_error: 0.4996 - wine_type_accuracy: 0.9966 - val_loss: 0.4333 - val_wine_quality_loss: 0.3953 - val_wine_type_loss: 0.0380 - val_wine_quality_root_mean_squared_error: 0.6287 - val_wine_type_accuracy: 0.9924\n",
      "Epoch 153/180\n",
      "99/99 [==============================] - 0s 2ms/step - loss: 0.2565 - wine_quality_loss: 0.2384 - wine_type_loss: 0.0181 - wine_quality_root_mean_squared_error: 0.4882 - wine_type_accuracy: 0.9970 - val_loss: 0.4377 - val_wine_quality_loss: 0.3999 - val_wine_type_loss: 0.0378 - val_wine_quality_root_mean_squared_error: 0.6324 - val_wine_type_accuracy: 0.9924\n",
      "Epoch 154/180\n",
      "99/99 [==============================] - 0s 2ms/step - loss: 0.2725 - wine_quality_loss: 0.2540 - wine_type_loss: 0.0185 - wine_quality_root_mean_squared_error: 0.5038 - wine_type_accuracy: 0.9958 - val_loss: 0.4291 - val_wine_quality_loss: 0.3911 - val_wine_type_loss: 0.0381 - val_wine_quality_root_mean_squared_error: 0.6254 - val_wine_type_accuracy: 0.9924\n",
      "Epoch 155/180\n",
      "99/99 [==============================] - 0s 2ms/step - loss: 0.2531 - wine_quality_loss: 0.2379 - wine_type_loss: 0.0152 - wine_quality_root_mean_squared_error: 0.4876 - wine_type_accuracy: 0.9968 - val_loss: 0.4340 - val_wine_quality_loss: 0.3958 - val_wine_type_loss: 0.0382 - val_wine_quality_root_mean_squared_error: 0.6291 - val_wine_type_accuracy: 0.9924\n",
      "Epoch 156/180\n",
      "99/99 [==============================] - 0s 2ms/step - loss: 0.2555 - wine_quality_loss: 0.2404 - wine_type_loss: 0.0151 - wine_quality_root_mean_squared_error: 0.4902 - wine_type_accuracy: 0.9979 - val_loss: 0.4282 - val_wine_quality_loss: 0.3901 - val_wine_type_loss: 0.0382 - val_wine_quality_root_mean_squared_error: 0.6246 - val_wine_type_accuracy: 0.9924\n",
      "Epoch 157/180\n",
      "99/99 [==============================] - 0s 2ms/step - loss: 0.2624 - wine_quality_loss: 0.2436 - wine_type_loss: 0.0188 - wine_quality_root_mean_squared_error: 0.4935 - wine_type_accuracy: 0.9967 - val_loss: 0.4319 - val_wine_quality_loss: 0.3939 - val_wine_type_loss: 0.0381 - val_wine_quality_root_mean_squared_error: 0.6276 - val_wine_type_accuracy: 0.9937\n",
      "Epoch 158/180\n",
      "99/99 [==============================] - 0s 2ms/step - loss: 0.2429 - wine_quality_loss: 0.2304 - wine_type_loss: 0.0125 - wine_quality_root_mean_squared_error: 0.4795 - wine_type_accuracy: 0.9982 - val_loss: 0.4332 - val_wine_quality_loss: 0.3947 - val_wine_type_loss: 0.0385 - val_wine_quality_root_mean_squared_error: 0.6282 - val_wine_type_accuracy: 0.9924\n",
      "Epoch 159/180\n",
      "99/99 [==============================] - 0s 2ms/step - loss: 0.2609 - wine_quality_loss: 0.2507 - wine_type_loss: 0.0102 - wine_quality_root_mean_squared_error: 0.5006 - wine_type_accuracy: 0.9987 - val_loss: 0.4349 - val_wine_quality_loss: 0.3961 - val_wine_type_loss: 0.0388 - val_wine_quality_root_mean_squared_error: 0.6294 - val_wine_type_accuracy: 0.9924\n",
      "Epoch 160/180\n",
      "99/99 [==============================] - 0s 2ms/step - loss: 0.2648 - wine_quality_loss: 0.2470 - wine_type_loss: 0.0179 - wine_quality_root_mean_squared_error: 0.4969 - wine_type_accuracy: 0.9965 - val_loss: 0.4502 - val_wine_quality_loss: 0.4116 - val_wine_type_loss: 0.0387 - val_wine_quality_root_mean_squared_error: 0.6415 - val_wine_type_accuracy: 0.9924\n",
      "Epoch 161/180\n",
      "99/99 [==============================] - 0s 2ms/step - loss: 0.2525 - wine_quality_loss: 0.2377 - wine_type_loss: 0.0148 - wine_quality_root_mean_squared_error: 0.4873 - wine_type_accuracy: 0.9973 - val_loss: 0.4347 - val_wine_quality_loss: 0.3962 - val_wine_type_loss: 0.0385 - val_wine_quality_root_mean_squared_error: 0.6294 - val_wine_type_accuracy: 0.9937\n",
      "Epoch 162/180\n",
      "99/99 [==============================] - 0s 2ms/step - loss: 0.2558 - wine_quality_loss: 0.2437 - wine_type_loss: 0.0122 - wine_quality_root_mean_squared_error: 0.4936 - wine_type_accuracy: 0.9980 - val_loss: 0.4442 - val_wine_quality_loss: 0.4055 - val_wine_type_loss: 0.0387 - val_wine_quality_root_mean_squared_error: 0.6368 - val_wine_type_accuracy: 0.9937\n",
      "Epoch 163/180\n",
      "99/99 [==============================] - 0s 2ms/step - loss: 0.2641 - wine_quality_loss: 0.2505 - wine_type_loss: 0.0136 - wine_quality_root_mean_squared_error: 0.5000 - wine_type_accuracy: 0.9971 - val_loss: 0.4414 - val_wine_quality_loss: 0.4024 - val_wine_type_loss: 0.0390 - val_wine_quality_root_mean_squared_error: 0.6344 - val_wine_type_accuracy: 0.9924\n",
      "Epoch 164/180\n",
      "99/99 [==============================] - 0s 2ms/step - loss: 0.2662 - wine_quality_loss: 0.2475 - wine_type_loss: 0.0187 - wine_quality_root_mean_squared_error: 0.4974 - wine_type_accuracy: 0.9957 - val_loss: 0.4464 - val_wine_quality_loss: 0.4081 - val_wine_type_loss: 0.0383 - val_wine_quality_root_mean_squared_error: 0.6388 - val_wine_type_accuracy: 0.9937\n",
      "Epoch 165/180\n",
      "99/99 [==============================] - 0s 3ms/step - loss: 0.2601 - wine_quality_loss: 0.2384 - wine_type_loss: 0.0217 - wine_quality_root_mean_squared_error: 0.4882 - wine_type_accuracy: 0.9967 - val_loss: 0.4317 - val_wine_quality_loss: 0.3933 - val_wine_type_loss: 0.0384 - val_wine_quality_root_mean_squared_error: 0.6271 - val_wine_type_accuracy: 0.9937\n",
      "Epoch 166/180\n",
      "99/99 [==============================] - 0s 4ms/step - loss: 0.2751 - wine_quality_loss: 0.2528 - wine_type_loss: 0.0223 - wine_quality_root_mean_squared_error: 0.5026 - wine_type_accuracy: 0.9964 - val_loss: 0.4385 - val_wine_quality_loss: 0.3999 - val_wine_type_loss: 0.0386 - val_wine_quality_root_mean_squared_error: 0.6323 - val_wine_type_accuracy: 0.9937\n",
      "Epoch 167/180\n",
      "99/99 [==============================] - 0s 3ms/step - loss: 0.2529 - wine_quality_loss: 0.2424 - wine_type_loss: 0.0104 - wine_quality_root_mean_squared_error: 0.4924 - wine_type_accuracy: 0.9984 - val_loss: 0.4313 - val_wine_quality_loss: 0.3924 - val_wine_type_loss: 0.0389 - val_wine_quality_root_mean_squared_error: 0.6265 - val_wine_type_accuracy: 0.9937\n",
      "Epoch 168/180\n",
      "99/99 [==============================] - 0s 2ms/step - loss: 0.2506 - wine_quality_loss: 0.2354 - wine_type_loss: 0.0152 - wine_quality_root_mean_squared_error: 0.4851 - wine_type_accuracy: 0.9975 - val_loss: 0.4335 - val_wine_quality_loss: 0.3947 - val_wine_type_loss: 0.0388 - val_wine_quality_root_mean_squared_error: 0.6283 - val_wine_type_accuracy: 0.9937\n",
      "Epoch 169/180\n",
      "99/99 [==============================] - 0s 2ms/step - loss: 0.2630 - wine_quality_loss: 0.2426 - wine_type_loss: 0.0204 - wine_quality_root_mean_squared_error: 0.4926 - wine_type_accuracy: 0.9966 - val_loss: 0.4375 - val_wine_quality_loss: 0.3987 - val_wine_type_loss: 0.0388 - val_wine_quality_root_mean_squared_error: 0.6314 - val_wine_type_accuracy: 0.9937\n",
      "Epoch 170/180\n",
      "99/99 [==============================] - 0s 2ms/step - loss: 0.2460 - wine_quality_loss: 0.2337 - wine_type_loss: 0.0123 - wine_quality_root_mean_squared_error: 0.4833 - wine_type_accuracy: 0.9983 - val_loss: 0.4417 - val_wine_quality_loss: 0.4026 - val_wine_type_loss: 0.0391 - val_wine_quality_root_mean_squared_error: 0.6345 - val_wine_type_accuracy: 0.9937\n",
      "Epoch 171/180\n",
      "99/99 [==============================] - 0s 2ms/step - loss: 0.2470 - wine_quality_loss: 0.2305 - wine_type_loss: 0.0165 - wine_quality_root_mean_squared_error: 0.4800 - wine_type_accuracy: 0.9978 - val_loss: 0.4287 - val_wine_quality_loss: 0.3896 - val_wine_type_loss: 0.0391 - val_wine_quality_root_mean_squared_error: 0.6242 - val_wine_type_accuracy: 0.9937\n",
      "Epoch 172/180\n",
      "99/99 [==============================] - 0s 2ms/step - loss: 0.2646 - wine_quality_loss: 0.2447 - wine_type_loss: 0.0198 - wine_quality_root_mean_squared_error: 0.4947 - wine_type_accuracy: 0.9960 - val_loss: 0.4320 - val_wine_quality_loss: 0.3930 - val_wine_type_loss: 0.0390 - val_wine_quality_root_mean_squared_error: 0.6269 - val_wine_type_accuracy: 0.9937\n",
      "Epoch 173/180\n",
      "99/99 [==============================] - 0s 2ms/step - loss: 0.2622 - wine_quality_loss: 0.2387 - wine_type_loss: 0.0235 - wine_quality_root_mean_squared_error: 0.4885 - wine_type_accuracy: 0.9959 - val_loss: 0.4342 - val_wine_quality_loss: 0.3952 - val_wine_type_loss: 0.0390 - val_wine_quality_root_mean_squared_error: 0.6287 - val_wine_type_accuracy: 0.9937\n",
      "Epoch 174/180\n",
      "99/99 [==============================] - 0s 2ms/step - loss: 0.2542 - wine_quality_loss: 0.2415 - wine_type_loss: 0.0127 - wine_quality_root_mean_squared_error: 0.4912 - wine_type_accuracy: 0.9980 - val_loss: 0.4330 - val_wine_quality_loss: 0.3941 - val_wine_type_loss: 0.0389 - val_wine_quality_root_mean_squared_error: 0.6278 - val_wine_type_accuracy: 0.9937\n",
      "Epoch 175/180\n",
      "99/99 [==============================] - 0s 4ms/step - loss: 0.2556 - wine_quality_loss: 0.2403 - wine_type_loss: 0.0153 - wine_quality_root_mean_squared_error: 0.4902 - wine_type_accuracy: 0.9971 - val_loss: 0.4343 - val_wine_quality_loss: 0.3951 - val_wine_type_loss: 0.0392 - val_wine_quality_root_mean_squared_error: 0.6286 - val_wine_type_accuracy: 0.9937\n",
      "Epoch 176/180\n",
      "99/99 [==============================] - 0s 3ms/step - loss: 0.2404 - wine_quality_loss: 0.2306 - wine_type_loss: 0.0098 - wine_quality_root_mean_squared_error: 0.4799 - wine_type_accuracy: 0.9986 - val_loss: 0.4316 - val_wine_quality_loss: 0.3923 - val_wine_type_loss: 0.0394 - val_wine_quality_root_mean_squared_error: 0.6263 - val_wine_type_accuracy: 0.9937\n",
      "Epoch 177/180\n",
      "99/99 [==============================] - 0s 3ms/step - loss: 0.2444 - wine_quality_loss: 0.2299 - wine_type_loss: 0.0145 - wine_quality_root_mean_squared_error: 0.4793 - wine_type_accuracy: 0.9976 - val_loss: 0.4425 - val_wine_quality_loss: 0.4030 - val_wine_type_loss: 0.0395 - val_wine_quality_root_mean_squared_error: 0.6348 - val_wine_type_accuracy: 0.9937\n",
      "Epoch 178/180\n",
      "99/99 [==============================] - 0s 2ms/step - loss: 0.2651 - wine_quality_loss: 0.2372 - wine_type_loss: 0.0279 - wine_quality_root_mean_squared_error: 0.4869 - wine_type_accuracy: 0.9953 - val_loss: 0.4417 - val_wine_quality_loss: 0.4025 - val_wine_type_loss: 0.0392 - val_wine_quality_root_mean_squared_error: 0.6345 - val_wine_type_accuracy: 0.9937\n",
      "Epoch 179/180\n",
      "99/99 [==============================] - 0s 2ms/step - loss: 0.2464 - wine_quality_loss: 0.2345 - wine_type_loss: 0.0118 - wine_quality_root_mean_squared_error: 0.4842 - wine_type_accuracy: 0.9986 - val_loss: 0.4404 - val_wine_quality_loss: 0.4012 - val_wine_type_loss: 0.0392 - val_wine_quality_root_mean_squared_error: 0.6334 - val_wine_type_accuracy: 0.9949\n",
      "Epoch 180/180\n",
      "99/99 [==============================] - 0s 2ms/step - loss: 0.2625 - wine_quality_loss: 0.2408 - wine_type_loss: 0.0217 - wine_quality_root_mean_squared_error: 0.4906 - wine_type_accuracy: 0.9959 - val_loss: 0.4389 - val_wine_quality_loss: 0.3994 - val_wine_type_loss: 0.0395 - val_wine_quality_root_mean_squared_error: 0.6320 - val_wine_type_accuracy: 0.9924\n"
     ]
    }
   ],
   "source": [
    "history = model.fit(norm_train_X, train_Y,\n",
    "                    epochs = 180, validation_data=(norm_val_X, val_Y))"
   ]
  },
  {
   "cell_type": "code",
   "execution_count": 39,
   "id": "english-appraisal",
   "metadata": {},
   "outputs": [],
   "source": [
    "def plot_metrics(metric_name, title, ylim=5):\n",
    "    plt.figure(figsize = (10, 8))\n",
    "    plt.title(title)\n",
    "    plt.ylim(0,ylim)\n",
    "    plt.plot(history.history[metric_name],color='blue',label=metric_name)\n",
    "    plt.plot(history.history['val_' + metric_name],color='green',label='val_' + metric_name)\n",
    "    plt.grid();"
   ]
  },
  {
   "cell_type": "code",
   "execution_count": 40,
   "id": "electrical-remedy",
   "metadata": {},
   "outputs": [
    {
     "data": {
      "image/png": "[encoded data removed]",
      "text/plain": [
       "<Figure size 720x576 with 1 Axes>"
      ]
     },
     "metadata": {
      "needs_background": "light"
     },
     "output_type": "display_data"
    }
   ],
   "source": [
    "plot_metrics('wine_quality_root_mean_squared_error', 'RMSE', ylim=2)"
   ]
  },
  {
   "cell_type": "code",
   "execution_count": 41,
   "id": "desirable-flight",
   "metadata": {},
   "outputs": [
    {
     "data": {
      "image/png": "[encoded data removed]",
      "text/plain": [
       "<Figure size 720x576 with 1 Axes>"
      ]
     },
     "metadata": {
      "needs_background": "light"
     },
     "output_type": "display_data"
    }
   ],
   "source": [
    "plot_metrics('wine_type_loss', 'Wine Type Loss', ylim=0.2)"
   ]
  },
  {
   "cell_type": "code",
   "execution_count": 42,
   "id": "toxic-communications",
   "metadata": {},
   "outputs": [],
   "source": [
    "def plot_confusion_matrix(y_true, y_pred, title='', labels=[0,1]):\n",
    "    cm = confusion_matrix(y_true, y_pred)\n",
    "    fig = plt.figure()\n",
    "    ax = fig.add_subplot(111)\n",
    "    cax = ax.matshow(cm)\n",
    "    plt.title('Confusion matrix of the classifier')\n",
    "    fig.colorbar(cax)\n",
    "    ax.set_xticklabels([''] + labels)\n",
    "    ax.set_yticklabels([''] + labels)\n",
    "    plt.xlabel('Predicted')\n",
    "    plt.ylabel('True')\n",
    "    fmt = 'd'\n",
    "    thresh = cm.max() / 2.\n",
    "    for i, j in itertools.product(range(cm.shape[0]), range(cm.shape[1])):\n",
    "          plt.text(j, i, format(cm[i, j], fmt),\n",
    "                  horizontalalignment=\"center\",\n",
    "                  color=\"black\" if cm[i, j] > thresh else \"white\")\n",
    "    plt.show()"
   ]
  },
  {
   "cell_type": "code",
   "execution_count": 43,
   "id": "derived-electricity",
   "metadata": {},
   "outputs": [
    {
     "name": "stderr",
     "output_type": "stream",
     "text": [
      "/Users/lsaetta/opt/anaconda3/envs/tabularnn/lib/python3.7/site-packages/ipykernel_launcher.py:8: UserWarning: FixedFormatter should only be used together with FixedLocator\n",
      "  \n",
      "/Users/lsaetta/opt/anaconda3/envs/tabularnn/lib/python3.7/site-packages/ipykernel_launcher.py:9: UserWarning: FixedFormatter should only be used together with FixedLocator\n",
      "  if __name__ == '__main__':\n"
     ]
    },
    {
     "data": {
      "image/png": "[encoded data removed]",
      "text/plain": [
       "<Figure size 432x288 with 2 Axes>"
      ]
     },
     "metadata": {
      "needs_background": "light"
     },
     "output_type": "display_data"
    }
   ],
   "source": [
    "predictions = model.predict(norm_test_X)\n",
    "quality_pred = predictions[0]\n",
    "type_pred = predictions[1]\n",
    "\n",
    "# con np.round ha preso come soglia 0.5\n",
    "plot_confusion_matrix(test_Y[1], np.round(type_pred), title='Wine Type', labels = [0, 1])"
   ]
  },
  {
   "cell_type": "code",
   "execution_count": null,
   "id": "encouraging-mason",
   "metadata": {},
   "outputs": [],
   "source": []
  }
 ],
 "metadata": {
  "kernelspec": {
   "display_name": "Python 3",
   "language": "python",
   "name": "python3"
  },
  "language_info": {
   "codemirror_mode": {
    "name": "ipython",
    "version": 3
   },
   "file_extension": ".py",
   "mimetype": "text/x-python",
   "name": "python",
   "nbconvert_exporter": "python",
   "pygments_lexer": "ipython3",
   "version": "3.7.10"
  }
 },
 "nbformat": 4,
 "nbformat_minor": 5
}
