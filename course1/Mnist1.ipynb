{
 "cells": [
  {
   "cell_type": "markdown",
   "id": "solved-petite",
   "metadata": {},
   "source": [
    "## A first example of NN for Images, using Fashion Mnist"
   ]
  },
  {
   "cell_type": "code",
   "execution_count": 1,
   "id": "foreign-racing",
   "metadata": {},
   "outputs": [],
   "source": [
    "import numpy as np\n",
    "import pandas as pd\n",
    "import tensorflow as tf\n",
    "\n",
    "import matplotlib.pyplot as plt"
   ]
  },
  {
   "cell_type": "code",
   "execution_count": 2,
   "id": "wrong-dubai",
   "metadata": {},
   "outputs": [
    {
     "name": "stdout",
     "output_type": "stream",
     "text": [
      "2.4.1\n"
     ]
    }
   ],
   "source": [
    "# check TensorFlow version\n",
    "print(tf.__version__)"
   ]
  },
  {
   "cell_type": "code",
   "execution_count": 3,
   "id": "meaning-venezuela",
   "metadata": {},
   "outputs": [],
   "source": [
    "data = tf.keras.datasets.fashion_mnist"
   ]
  },
  {
   "cell_type": "code",
   "execution_count": 4,
   "id": "combined-peter",
   "metadata": {},
   "outputs": [],
   "source": [
    "(train_images, train_labels), (test_images, test_labels) = data.load_data()"
   ]
  },
  {
   "cell_type": "code",
   "execution_count": 5,
   "id": "industrial-pavilion",
   "metadata": {},
   "outputs": [
    {
     "name": "stdout",
     "output_type": "stream",
     "text": [
      "Number of training images: 60000\n",
      "Number of test images: 10000\n"
     ]
    }
   ],
   "source": [
    "print('Number of training images:', train_images.shape[0])\n",
    "print('Number of test images:', test_images.shape[0])"
   ]
  },
  {
   "cell_type": "code",
   "execution_count": 6,
   "id": "looking-indianapolis",
   "metadata": {},
   "outputs": [
    {
     "data": {
      "text/plain": [
       "array([0, 1, 2, 3, 4, 5, 6, 7, 8, 9], dtype=uint8)"
      ]
     },
     "execution_count": 6,
     "metadata": {},
     "output_type": "execute_result"
    }
   ],
   "source": [
    "# how many distinct classes\n",
    "np.unique(train_labels)"
   ]
  },
  {
   "cell_type": "code",
   "execution_count": 7,
   "id": "increased-activation",
   "metadata": {},
   "outputs": [],
   "source": [
    "# ok 10 distinct classes labeled as 0..9"
   ]
  },
  {
   "cell_type": "code",
   "execution_count": 8,
   "id": "concrete-rider",
   "metadata": {},
   "outputs": [
    {
     "data": {
      "text/plain": [
       "(60000, 28, 28)"
      ]
     },
     "execution_count": 8,
     "metadata": {},
     "output_type": "execute_result"
    }
   ],
   "source": [
    "# images are greyscale images\n",
    "train_images.shape"
   ]
  },
  {
   "cell_type": "raw",
   "id": "popular-reproduction",
   "metadata": {},
   "source": [
    "# first of all, normalize images\n",
    "train_images /= 255.\n",
    "test_images /= 255."
   ]
  },
  {
   "cell_type": "code",
   "execution_count": 9,
   "id": "introductory-sense",
   "metadata": {},
   "outputs": [
    {
     "data": {
      "image/png": "[encoded data removed]",
      "text/plain": [
       "<Figure size 432x288 with 1 Axes>"
      ]
     },
     "metadata": {
      "needs_background": "light"
     },
     "output_type": "display_data"
    }
   ],
   "source": [
    "# let's sess one image\n",
    "plt.imshow(train_images[0], cmap = 'Greys');"
   ]
  },
  {
   "cell_type": "code",
   "execution_count": 23,
   "id": "detected-brave",
   "metadata": {},
   "outputs": [],
   "source": [
    "# let's build a first classification model\n",
    "def build_model():\n",
    "    model = tf.keras.models.Sequential([\n",
    "        tf.keras.layers.Flatten(input_shape=(28,28)),\n",
    "        tf.keras.layers.Dense(128, activation = 'relu'),\n",
    "        \n",
    "        # adding these two intermediate layers I go from 0.85 to 0.87 validation accuracy\n",
    "        tf.keras.layers.Dense(64, activation = 'relu'),\n",
    "        tf.keras.layers.Dense(32, activation = 'relu'),\n",
    "        tf.keras.layers.Dense(10, activation = 'softmax')\n",
    "    ])\n",
    "    \n",
    "    model.compile(optimizer='adam', loss = 'sparse_categorical_crossentropy',\n",
    "             metrics = ['accuracy'])\n",
    "    \n",
    "    return model"
   ]
  },
  {
   "cell_type": "code",
   "execution_count": 24,
   "id": "absolute-virus",
   "metadata": {},
   "outputs": [
    {
     "name": "stdout",
     "output_type": "stream",
     "text": [
      "Model: \"sequential_1\"\n",
      "_________________________________________________________________\n",
      "Layer (type)                 Output Shape              Param #   \n",
      "=================================================================\n",
      "flatten_1 (Flatten)          (None, 784)               0         \n",
      "_________________________________________________________________\n",
      "dense_4 (Dense)              (None, 128)               100480    \n",
      "_________________________________________________________________\n",
      "dense_5 (Dense)              (None, 64)                8256      \n",
      "_________________________________________________________________\n",
      "dense_6 (Dense)              (None, 32)                2080      \n",
      "_________________________________________________________________\n",
      "dense_7 (Dense)              (None, 10)                330       \n",
      "=================================================================\n",
      "Total params: 111,146\n",
      "Trainable params: 111,146\n",
      "Non-trainable params: 0\n",
      "_________________________________________________________________\n"
     ]
    }
   ],
   "source": [
    "# let's see how many parameters, etc\n",
    "model = build_model()\n",
    "\n",
    "model.summary()"
   ]
  },
  {
   "cell_type": "code",
   "execution_count": 25,
   "id": "optical-vulnerability",
   "metadata": {},
   "outputs": [],
   "source": [
    "# add a Callback that saves when the best (lowest( validation loss is achieved)"
   ]
  },
  {
   "cell_type": "code",
   "execution_count": 26,
   "id": "parallel-compromise",
   "metadata": {},
   "outputs": [
    {
     "name": "stdout",
     "output_type": "stream",
     "text": [
      "Epoch 1/40\n",
      "211/211 [==============================] - 1s 3ms/step - loss: 11.0576 - accuracy: 0.5941 - val_loss: 1.2594 - val_accuracy: 0.7660\n",
      "\n",
      "Epoch 00001: val_loss improved from inf to 1.25942, saving model to model.h5\n",
      "Epoch 2/40\n",
      "211/211 [==============================] - 1s 5ms/step - loss: 1.0487 - accuracy: 0.7777 - val_loss: 0.8530 - val_accuracy: 0.7945\n",
      "\n",
      "Epoch 00002: val_loss improved from 1.25942 to 0.85301, saving model to model.h5\n",
      "Epoch 3/40\n",
      "211/211 [==============================] - 1s 3ms/step - loss: 0.6964 - accuracy: 0.8094 - val_loss: 0.7036 - val_accuracy: 0.8075\n",
      "\n",
      "Epoch 00003: val_loss improved from 0.85301 to 0.70361, saving model to model.h5\n",
      "Epoch 4/40\n",
      "211/211 [==============================] - 1s 3ms/step - loss: 0.5694 - accuracy: 0.8262 - val_loss: 0.6356 - val_accuracy: 0.8148\n",
      "\n",
      "Epoch 00004: val_loss improved from 0.70361 to 0.63562, saving model to model.h5\n",
      "Epoch 5/40\n",
      "211/211 [==============================] - 1s 3ms/step - loss: 0.4900 - accuracy: 0.8414 - val_loss: 0.5616 - val_accuracy: 0.8367\n",
      "\n",
      "Epoch 00005: val_loss improved from 0.63562 to 0.56157, saving model to model.h5\n",
      "Epoch 6/40\n",
      "211/211 [==============================] - 1s 3ms/step - loss: 0.4532 - accuracy: 0.8483 - val_loss: 0.5425 - val_accuracy: 0.8283\n",
      "\n",
      "Epoch 00006: val_loss improved from 0.56157 to 0.54249, saving model to model.h5\n",
      "Epoch 7/40\n",
      "211/211 [==============================] - 1s 3ms/step - loss: 0.4205 - accuracy: 0.8542 - val_loss: 0.5035 - val_accuracy: 0.8350\n",
      "\n",
      "Epoch 00007: val_loss improved from 0.54249 to 0.50352, saving model to model.h5\n",
      "Epoch 8/40\n",
      "211/211 [==============================] - 1s 3ms/step - loss: 0.4012 - accuracy: 0.8581 - val_loss: 0.4771 - val_accuracy: 0.8482\n",
      "\n",
      "Epoch 00008: val_loss improved from 0.50352 to 0.47705, saving model to model.h5\n",
      "Epoch 9/40\n",
      "211/211 [==============================] - 1s 3ms/step - loss: 0.3694 - accuracy: 0.8684 - val_loss: 0.4953 - val_accuracy: 0.8455\n",
      "\n",
      "Epoch 00009: val_loss did not improve from 0.47705\n",
      "Epoch 10/40\n",
      "211/211 [==============================] - 1s 3ms/step - loss: 0.3587 - accuracy: 0.8715 - val_loss: 0.4613 - val_accuracy: 0.8583\n",
      "\n",
      "Epoch 00010: val_loss improved from 0.47705 to 0.46125, saving model to model.h5\n",
      "Epoch 11/40\n",
      "211/211 [==============================] - 1s 3ms/step - loss: 0.3378 - accuracy: 0.8774 - val_loss: 0.4642 - val_accuracy: 0.8517\n",
      "\n",
      "Epoch 00011: val_loss did not improve from 0.46125\n",
      "Epoch 12/40\n",
      "211/211 [==============================] - 1s 3ms/step - loss: 0.3366 - accuracy: 0.8792 - val_loss: 0.4419 - val_accuracy: 0.8577\n",
      "\n",
      "Epoch 00012: val_loss improved from 0.46125 to 0.44188, saving model to model.h5\n",
      "Epoch 13/40\n",
      "211/211 [==============================] - 1s 3ms/step - loss: 0.3376 - accuracy: 0.8793 - val_loss: 0.4397 - val_accuracy: 0.8610\n",
      "\n",
      "Epoch 00013: val_loss improved from 0.44188 to 0.43969, saving model to model.h5\n",
      "Epoch 14/40\n",
      "211/211 [==============================] - 1s 3ms/step - loss: 0.3173 - accuracy: 0.8835 - val_loss: 0.4326 - val_accuracy: 0.8625\n",
      "\n",
      "Epoch 00014: val_loss improved from 0.43969 to 0.43256, saving model to model.h5\n",
      "Epoch 15/40\n",
      "211/211 [==============================] - 1s 3ms/step - loss: 0.3207 - accuracy: 0.8828 - val_loss: 0.4242 - val_accuracy: 0.8667\n",
      "\n",
      "Epoch 00015: val_loss improved from 0.43256 to 0.42422, saving model to model.h5\n",
      "Epoch 16/40\n",
      "211/211 [==============================] - 1s 6ms/step - loss: 0.3175 - accuracy: 0.8845 - val_loss: 0.4127 - val_accuracy: 0.8658\n",
      "\n",
      "Epoch 00016: val_loss improved from 0.42422 to 0.41267, saving model to model.h5\n",
      "Epoch 17/40\n",
      "211/211 [==============================] - 1s 3ms/step - loss: 0.3051 - accuracy: 0.8910 - val_loss: 0.4443 - val_accuracy: 0.8620\n",
      "\n",
      "Epoch 00017: val_loss did not improve from 0.41267\n",
      "Epoch 18/40\n",
      "211/211 [==============================] - 1s 3ms/step - loss: 0.3020 - accuracy: 0.8916 - val_loss: 0.4018 - val_accuracy: 0.8678\n",
      "\n",
      "Epoch 00018: val_loss improved from 0.41267 to 0.40181, saving model to model.h5\n",
      "Epoch 19/40\n",
      "211/211 [==============================] - 1s 3ms/step - loss: 0.2886 - accuracy: 0.8962 - val_loss: 0.4358 - val_accuracy: 0.8548\n",
      "\n",
      "Epoch 00019: val_loss did not improve from 0.40181\n",
      "Epoch 20/40\n",
      "211/211 [==============================] - 1s 3ms/step - loss: 0.3099 - accuracy: 0.8878 - val_loss: 0.4050 - val_accuracy: 0.8690\n",
      "\n",
      "Epoch 00020: val_loss did not improve from 0.40181\n",
      "Epoch 21/40\n",
      "211/211 [==============================] - 1s 5ms/step - loss: 0.2788 - accuracy: 0.8982 - val_loss: 0.4240 - val_accuracy: 0.8650\n",
      "\n",
      "Epoch 00021: val_loss did not improve from 0.40181\n",
      "Epoch 22/40\n",
      "211/211 [==============================] - 1s 3ms/step - loss: 0.2839 - accuracy: 0.8965 - val_loss: 0.4125 - val_accuracy: 0.8693\n",
      "\n",
      "Epoch 00022: val_loss did not improve from 0.40181\n",
      "Epoch 23/40\n",
      "211/211 [==============================] - 1s 3ms/step - loss: 0.2803 - accuracy: 0.8979 - val_loss: 0.4037 - val_accuracy: 0.8707\n",
      "\n",
      "Epoch 00023: val_loss did not improve from 0.40181\n",
      "Epoch 24/40\n",
      "211/211 [==============================] - 1s 3ms/step - loss: 0.2743 - accuracy: 0.8997 - val_loss: 0.4408 - val_accuracy: 0.8578\n",
      "\n",
      "Epoch 00024: val_loss did not improve from 0.40181\n",
      "Epoch 25/40\n",
      "211/211 [==============================] - 1s 5ms/step - loss: 0.2764 - accuracy: 0.8996 - val_loss: 0.4060 - val_accuracy: 0.8748\n",
      "\n",
      "Epoch 00025: val_loss did not improve from 0.40181\n",
      "Epoch 26/40\n",
      "211/211 [==============================] - 1s 3ms/step - loss: 0.2700 - accuracy: 0.9002 - val_loss: 0.4536 - val_accuracy: 0.8663\n",
      "\n",
      "Epoch 00026: val_loss did not improve from 0.40181\n",
      "Epoch 27/40\n",
      "211/211 [==============================] - 1s 3ms/step - loss: 0.2640 - accuracy: 0.9025 - val_loss: 0.4007 - val_accuracy: 0.8710\n",
      "\n",
      "Epoch 00027: val_loss improved from 0.40181 to 0.40071, saving model to model.h5\n",
      "Epoch 28/40\n",
      "211/211 [==============================] - 1s 4ms/step - loss: 0.2673 - accuracy: 0.9014 - val_loss: 0.4139 - val_accuracy: 0.8693\n",
      "\n",
      "Epoch 00028: val_loss did not improve from 0.40071\n",
      "Epoch 29/40\n",
      "211/211 [==============================] - 1s 7ms/step - loss: 0.2595 - accuracy: 0.9032 - val_loss: 0.4197 - val_accuracy: 0.8635\n",
      "\n",
      "Epoch 00029: val_loss did not improve from 0.40071\n",
      "Epoch 30/40\n",
      "211/211 [==============================] - 1s 3ms/step - loss: 0.2524 - accuracy: 0.9064 - val_loss: 0.4039 - val_accuracy: 0.8748\n",
      "\n",
      "Epoch 00030: val_loss did not improve from 0.40071\n",
      "Epoch 31/40\n",
      "211/211 [==============================] - 1s 3ms/step - loss: 0.2488 - accuracy: 0.9091 - val_loss: 0.3979 - val_accuracy: 0.8682\n",
      "\n",
      "Epoch 00031: val_loss improved from 0.40071 to 0.39792, saving model to model.h5\n",
      "Epoch 32/40\n",
      "211/211 [==============================] - 1s 4ms/step - loss: 0.2420 - accuracy: 0.9113 - val_loss: 0.3935 - val_accuracy: 0.8765\n",
      "\n",
      "Epoch 00032: val_loss improved from 0.39792 to 0.39345, saving model to model.h5\n",
      "Epoch 33/40\n",
      "211/211 [==============================] - 1s 4ms/step - loss: 0.2418 - accuracy: 0.9115 - val_loss: 0.4391 - val_accuracy: 0.8577\n",
      "\n",
      "Epoch 00033: val_loss did not improve from 0.39345\n",
      "Epoch 34/40\n",
      "211/211 [==============================] - 1s 4ms/step - loss: 0.2458 - accuracy: 0.9097 - val_loss: 0.4015 - val_accuracy: 0.8778\n",
      "\n",
      "Epoch 00034: val_loss did not improve from 0.39345\n",
      "Epoch 35/40\n",
      "211/211 [==============================] - 1s 3ms/step - loss: 0.2437 - accuracy: 0.9101 - val_loss: 0.4068 - val_accuracy: 0.8748\n",
      "\n",
      "Epoch 00035: val_loss did not improve from 0.39345\n",
      "Epoch 36/40\n",
      "211/211 [==============================] - 1s 3ms/step - loss: 0.2537 - accuracy: 0.9075 - val_loss: 0.4316 - val_accuracy: 0.8750\n",
      "\n",
      "Epoch 00036: val_loss did not improve from 0.39345\n",
      "Epoch 37/40\n",
      "211/211 [==============================] - 1s 3ms/step - loss: 0.2344 - accuracy: 0.9143 - val_loss: 0.4207 - val_accuracy: 0.8745\n",
      "\n",
      "Epoch 00037: val_loss did not improve from 0.39345\n",
      "Epoch 38/40\n",
      "211/211 [==============================] - 1s 4ms/step - loss: 0.2388 - accuracy: 0.9117 - val_loss: 0.4528 - val_accuracy: 0.8697\n",
      "\n",
      "Epoch 00038: val_loss did not improve from 0.39345\n",
      "Epoch 39/40\n",
      "211/211 [==============================] - 1s 5ms/step - loss: 0.2345 - accuracy: 0.9136 - val_loss: 0.4095 - val_accuracy: 0.8810\n",
      "\n",
      "Epoch 00039: val_loss did not improve from 0.39345\n",
      "Epoch 40/40\n",
      "211/211 [==============================] - 1s 3ms/step - loss: 0.2228 - accuracy: 0.9149 - val_loss: 0.3963 - val_accuracy: 0.8803\n",
      "\n",
      "Epoch 00040: val_loss did not improve from 0.39345\n"
     ]
    }
   ],
   "source": [
    "EPOCHS = 40\n",
    "BATCH_SIZE = 256\n",
    "\n",
    "chk_clbck = tf.keras.callbacks.ModelCheckpoint(\n",
    "    filepath = 'model.h5',\n",
    "    monitor=\"val_loss\",\n",
    "    verbose=1,\n",
    "    save_best_only=True,\n",
    "    save_weights_only=False,\n",
    "    mode=\"min\",\n",
    "    save_freq=\"epoch\",\n",
    ")\n",
    "\n",
    "history = model.fit(train_images, train_labels, epochs = EPOCHS, batch_size = BATCH_SIZE, validation_split = 0.1, callbacks = [chk_clbck])"
   ]
  },
  {
   "cell_type": "code",
   "execution_count": 27,
   "id": "variable-prefix",
   "metadata": {},
   "outputs": [],
   "source": [
    "loss = history.history['loss']\n",
    "val_loss = history.history['val_loss']\n",
    "accuracy =  history.history['accuracy']\n",
    "val_accuracy =  history.history['val_accuracy']"
   ]
  },
  {
   "cell_type": "code",
   "execution_count": 28,
   "id": "detailed-astronomy",
   "metadata": {},
   "outputs": [
    {
     "data": {
      "image/png": "[encoded data removed]",
      "text/plain": [
       "<Figure size 432x288 with 1 Axes>"
      ]
     },
     "metadata": {
      "needs_background": "light"
     },
     "output_type": "display_data"
    }
   ],
   "source": [
    "plt.xlabel('epoch')\n",
    "plt.ylabel('loss')\n",
    "plt.plot(loss, label = 'loss')\n",
    "plt.plot(val_loss, label = 'validation loss')\n",
    "plt.legend(loc = 'upper right')\n",
    "plt.grid();"
   ]
  },
  {
   "cell_type": "code",
   "execution_count": 29,
   "id": "congressional-presentation",
   "metadata": {},
   "outputs": [
    {
     "data": {
      "image/png": "[encoded data removed]",
      "text/plain": [
       "<Figure size 432x288 with 1 Axes>"
      ]
     },
     "metadata": {
      "needs_background": "light"
     },
     "output_type": "display_data"
    }
   ],
   "source": [
    "# wants to see if it starts overfitting\n",
    "START = 20\n",
    "\n",
    "plt.xlabel('epoch')\n",
    "plt.ylabel('loss')\n",
    "plt.plot(loss[START:], label = 'loss')\n",
    "plt.plot(val_loss[START:], label = 'validation loss')\n",
    "plt.legend(loc = 'upper right')\n",
    "plt.grid();"
   ]
  },
  {
   "cell_type": "code",
   "execution_count": 30,
   "id": "injured-domain",
   "metadata": {},
   "outputs": [],
   "source": [
    "# ok it has slightly started overfitting.. as we can see from epochs 15 validation loss becomes higher and training loss is still decreasing"
   ]
  },
  {
   "cell_type": "code",
   "execution_count": 31,
   "id": "unusual-actor",
   "metadata": {},
   "outputs": [
    {
     "data": {
      "image/png": "[encoded data removed]",
      "text/plain": [
       "<Figure size 432x288 with 1 Axes>"
      ]
     },
     "metadata": {
      "needs_background": "light"
     },
     "output_type": "display_data"
    }
   ],
   "source": [
    "plt.xlabel('epoch')\n",
    "plt.ylabel('accuracy')\n",
    "plt.plot(accuracy, label = 'accuracy')\n",
    "plt.plot(val_accuracy, label = 'validation accuracy')\n",
    "plt.legend(loc = 'lower right')\n",
    "plt.grid();"
   ]
  },
  {
   "cell_type": "code",
   "execution_count": 49,
   "id": "frank-pizza",
   "metadata": {},
   "outputs": [],
   "source": [
    "# load the best model\n",
    "model = build_model()\n",
    "\n",
    "model.load_weights('model.h5')"
   ]
  },
  {
   "cell_type": "code",
   "execution_count": null,
   "id": "palestinian-marking",
   "metadata": {},
   "outputs": [],
   "source": []
  },
  {
   "cell_type": "code",
   "execution_count": 51,
   "id": "false-straight",
   "metadata": {},
   "outputs": [
    {
     "name": "stdout",
     "output_type": "stream",
     "text": [
      "313/313 [==============================] - 0s 933us/step - loss: 0.4071 - accuracy: 0.8730\n",
      "\n",
      "Test accuracy is: 0.8730000257492065\n"
     ]
    }
   ],
   "source": [
    "loss, acc = model.evaluate(test_images, test_labels)\n",
    "\n",
    "print('')\n",
    "print('Test accuracy is:', acc)"
   ]
  },
  {
   "cell_type": "code",
   "execution_count": null,
   "id": "resistant-retrieval",
   "metadata": {},
   "outputs": [],
   "source": []
  }
 ],
 "metadata": {
  "kernelspec": {
   "display_name": "Python 3",
   "language": "python",
   "name": "python3"
  },
  "language_info": {
   "codemirror_mode": {
    "name": "ipython",
    "version": 3
   },
   "file_extension": ".py",
   "mimetype": "text/x-python",
   "name": "python",
   "nbconvert_exporter": "python",
   "pygments_lexer": "ipython3",
   "version": "3.7.10"
  }
 },
 "nbformat": 4,
 "nbformat_minor": 5
}
