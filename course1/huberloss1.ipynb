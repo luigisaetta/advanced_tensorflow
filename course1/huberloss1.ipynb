{
 "cells": [
  {
   "cell_type": "code",
   "execution_count": 1,
   "id": "standard-newsletter",
   "metadata": {},
   "outputs": [],
   "source": [
    "import tensorflow as tf\n",
    "import pandas as pd\n",
    "import numpy as np"
   ]
  },
  {
   "cell_type": "markdown",
   "id": "several-swift",
   "metadata": {},
   "source": [
    "### come esempio implementiamo la Huber Loss"
   ]
  },
  {
   "cell_type": "code",
   "execution_count": 2,
   "id": "detailed-destiny",
   "metadata": {},
   "outputs": [],
   "source": [
    "def huber(y_true, y_pred):\n",
    "    # good to check that shape is the same\n",
    "    assert (y_true.shape == y_pred.shape)\n",
    "    \n",
    "    delta = 1.\n",
    "    error = (y_true - y_pred)\n",
    "    is_small_err = (tf.abs(error) <= tf.convert_to_tensor(delta, dtype=tf.double))\n",
    "    \n",
    "    # le due parti della formula\n",
    "    val_4_small = 0.5 * tf.square(error)\n",
    "    val_4_big = delta * (tf.abs(error) - 0.5*delta)\n",
    "    \n",
    "    return tf.math.reduce_sum(tf.where(is_small_err, val_4_small, val_4_big))"
   ]
  },
  {
   "cell_type": "code",
   "execution_count": 3,
   "id": "romance-listening",
   "metadata": {},
   "outputs": [
    {
     "data": {
      "text/plain": [
       "3.0"
      ]
     },
     "execution_count": 3,
     "metadata": {},
     "output_type": "execute_result"
    }
   ],
   "source": [
    "a_true = np.array([1., 1.])\n",
    "a_pred = np.array([3., 3.])\n",
    "\n",
    "loss = huber(a_true, a_pred)\n",
    "\n",
    "loss.numpy()"
   ]
  },
  {
   "cell_type": "markdown",
   "id": "satisfactory-priority",
   "metadata": {},
   "source": [
    "### HUber LOss con thr come hyper-parametro"
   ]
  },
  {
   "cell_type": "code",
   "execution_count": 4,
   "id": "adequate-shareware",
   "metadata": {},
   "outputs": [],
   "source": [
    "# huber loss with parameter\n",
    "def huber_w_par(delta = 1.):\n",
    "    def huber(y_true, y_pred):\n",
    "        # good to check that shape is the same\n",
    "        assert (y_true.shape == y_pred.shape)\n",
    "    \n",
    "        error = (y_true - y_pred)\n",
    "        is_small_err = (tf.abs(error) <= tf.convert_to_tensor(delta, dtype=tf.double))\n",
    "    \n",
    "        # le due parti della formula\n",
    "        val_4_small = 0.5 * tf.square(error)\n",
    "        val_4_big = delta * (tf.abs(error) - 0.5*delta)\n",
    "    \n",
    "        return tf.math.reduce_sum(tf.where(is_small_err, val_4_small, val_4_big))\n",
    "    return huber"
   ]
  },
  {
   "cell_type": "code",
   "execution_count": 5,
   "id": "foster-kernel",
   "metadata": {},
   "outputs": [
    {
     "data": {
      "text/plain": [
       "3.0"
      ]
     },
     "execution_count": 5,
     "metadata": {},
     "output_type": "execute_result"
    }
   ],
   "source": [
    "a_true = np.array([1., 1.])\n",
    "a_pred = np.array([3., 3.])\n",
    "\n",
    "fn_loss = huber_w_par(1.)\n",
    "\n",
    "loss = fn_loss(a_true, a_pred)\n",
    "\n",
    "loss.numpy()"
   ]
  },
  {
   "cell_type": "markdown",
   "id": "comparable-outside",
   "metadata": {},
   "source": [
    "### Huber Loss come classe"
   ]
  },
  {
   "cell_type": "code",
   "execution_count": 28,
   "id": "major-bridal",
   "metadata": {},
   "outputs": [],
   "source": [
    "from tensorflow.keras.losses import Loss\n",
    "\n",
    "class MyHuberLoss(Loss):\n",
    "    delta = 1.\n",
    "    def __init__(self, thr):\n",
    "        print('called init...')\n",
    "        super().__init__()\n",
    "        self.delta = thr\n",
    "        \n",
    "    def call(self, y_true, y_pred):\n",
    "        print('called... loss fn')\n",
    "        \n",
    "        assert (y_true.shape == y_pred.shape)\n",
    "    \n",
    "        error = (y_true - y_pred)\n",
    "        is_small_err = (tf.abs(error) <= tf.convert_to_tensor(self.delta, dtype=tf.double))\n",
    "    \n",
    "        # le due parti della formula\n",
    "        val_4_small = 0.5 * tf.square(error)\n",
    "        val_4_big = self.delta * (tf.abs(error) - 0.5*self.delta)\n",
    "    \n",
    "        return tf.math.reduce_sum(tf.where(is_small_err, val_4_small, val_4_big))"
   ]
  },
  {
   "cell_type": "code",
   "execution_count": 31,
   "id": "systematic-viewer",
   "metadata": {},
   "outputs": [
    {
     "name": "stdout",
     "output_type": "stream",
     "text": [
      "called init...\n",
      "called... loss fn\n"
     ]
    },
    {
     "data": {
      "text/plain": [
       "3.75"
      ]
     },
     "execution_count": 31,
     "metadata": {},
     "output_type": "execute_result"
    }
   ],
   "source": [
    "fn_loss = MyHuberLoss(thr = 1.5)\n",
    "\n",
    "loss = fn_loss(a_true, a_pred)\n",
    "\n",
    "loss.numpy()"
   ]
  },
  {
   "cell_type": "code",
   "execution_count": null,
   "id": "combined-carter",
   "metadata": {},
   "outputs": [],
   "source": []
  }
 ],
 "metadata": {
  "kernelspec": {
   "display_name": "Python 3",
   "language": "python",
   "name": "python3"
  },
  "language_info": {
   "codemirror_mode": {
    "name": "ipython",
    "version": 3
   },
   "file_extension": ".py",
   "mimetype": "text/x-python",
   "name": "python",
   "nbconvert_exporter": "python",
   "pygments_lexer": "ipython3",
   "version": "3.7.10"
  }
 },
 "nbformat": 4,
 "nbformat_minor": 5
}
