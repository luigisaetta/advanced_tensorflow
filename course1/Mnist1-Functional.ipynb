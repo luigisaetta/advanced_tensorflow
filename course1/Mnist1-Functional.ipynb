{
 "cells": [
  {
   "cell_type": "markdown",
   "id": "alien-oklahoma",
   "metadata": {},
   "source": [
    "## A second example of NN for Images, using Fashion Mnist, using Keras Functional API"
   ]
  },
  {
   "cell_type": "code",
   "execution_count": 1,
   "id": "needed-christian",
   "metadata": {},
   "outputs": [],
   "source": [
    "import numpy as np\n",
    "import pandas as pd\n",
    "import tensorflow as tf\n",
    "\n",
    "import matplotlib.pyplot as plt"
   ]
  },
  {
   "cell_type": "code",
   "execution_count": 2,
   "id": "early-warrant",
   "metadata": {},
   "outputs": [
    {
     "name": "stdout",
     "output_type": "stream",
     "text": [
      "2.4.1\n"
     ]
    }
   ],
   "source": [
    "# check TensorFlow version\n",
    "print(tf.__version__)"
   ]
  },
  {
   "cell_type": "code",
   "execution_count": 3,
   "id": "digital-thailand",
   "metadata": {},
   "outputs": [],
   "source": [
    "data = tf.keras.datasets.fashion_mnist"
   ]
  },
  {
   "cell_type": "code",
   "execution_count": 4,
   "id": "manual-contrast",
   "metadata": {},
   "outputs": [],
   "source": [
    "(train_images, train_labels), (test_images, test_labels) = data.load_data()"
   ]
  },
  {
   "cell_type": "code",
   "execution_count": 5,
   "id": "classical-selection",
   "metadata": {},
   "outputs": [
    {
     "name": "stdout",
     "output_type": "stream",
     "text": [
      "Number of training images: 60000\n",
      "Number of test images: 10000\n"
     ]
    }
   ],
   "source": [
    "print('Number of training images:', train_images.shape[0])\n",
    "print('Number of test images:', test_images.shape[0])"
   ]
  },
  {
   "cell_type": "code",
   "execution_count": 6,
   "id": "interesting-european",
   "metadata": {},
   "outputs": [
    {
     "data": {
      "text/plain": [
       "array([0, 1, 2, 3, 4, 5, 6, 7, 8, 9], dtype=uint8)"
      ]
     },
     "execution_count": 6,
     "metadata": {},
     "output_type": "execute_result"
    }
   ],
   "source": [
    "# how many distinct classes\n",
    "np.unique(train_labels)"
   ]
  },
  {
   "cell_type": "code",
   "execution_count": 7,
   "id": "rental-insider",
   "metadata": {},
   "outputs": [],
   "source": [
    "# ok 10 distinct classes labeled as 0..9"
   ]
  },
  {
   "cell_type": "code",
   "execution_count": 8,
   "id": "experimental-chick",
   "metadata": {},
   "outputs": [
    {
     "data": {
      "text/plain": [
       "(60000, 28, 28)"
      ]
     },
     "execution_count": 8,
     "metadata": {},
     "output_type": "execute_result"
    }
   ],
   "source": [
    "# images are greyscale images\n",
    "train_images.shape"
   ]
  },
  {
   "cell_type": "raw",
   "id": "seasonal-hospital",
   "metadata": {},
   "source": [
    "# first of all, normalize images\n",
    "train_images /= 255.\n",
    "test_images /= 255."
   ]
  },
  {
   "cell_type": "code",
   "execution_count": 9,
   "id": "valuable-eleven",
   "metadata": {},
   "outputs": [
    {
     "data": {
      "image/png": "[encoded data removed]",
      "text/plain": [
       "<Figure size 432x288 with 1 Axes>"
      ]
     },
     "metadata": {
      "needs_background": "light"
     },
     "output_type": "display_data"
    }
   ],
   "source": [
    "# let's sess one image\n",
    "plt.imshow(train_images[0], cmap = 'Greys');"
   ]
  },
  {
   "cell_type": "code",
   "execution_count": 12,
   "id": "steady-transformation",
   "metadata": {},
   "outputs": [],
   "source": [
    "# let's build a first classification model\n",
    "\n",
    "input_layer = tf.keras.layers.Input(shape=(28,28))\n",
    "x = tf.keras.layers.Flatten()(input_layer)\n",
    "x = tf.keras.layers.Dense(128, activation = 'relu')(x)\n",
    "x = tf.keras.layers.Dense(64, activation = 'relu')(x)\n",
    "x = tf.keras.layers.Dense(32, activation = 'relu')(x)\n",
    "output =  tf.keras.layers.Dense(10, activation = 'softmax')(x)\n",
    "\n",
    "model = tf.keras.Model(inputs = input_layer, outputs = output)"
   ]
  },
  {
   "cell_type": "code",
   "execution_count": 13,
   "id": "mechanical-ceiling",
   "metadata": {},
   "outputs": [
    {
     "name": "stdout",
     "output_type": "stream",
     "text": [
      "Model: \"model\"\n",
      "_________________________________________________________________\n",
      "Layer (type)                 Output Shape              Param #   \n",
      "=================================================================\n",
      "input_3 (InputLayer)         [(None, 28, 28)]          0         \n",
      "_________________________________________________________________\n",
      "flatten_2 (Flatten)          (None, 784)               0         \n",
      "_________________________________________________________________\n",
      "dense_8 (Dense)              (None, 128)               100480    \n",
      "_________________________________________________________________\n",
      "dense_9 (Dense)              (None, 64)                8256      \n",
      "_________________________________________________________________\n",
      "dense_10 (Dense)             (None, 32)                2080      \n",
      "_________________________________________________________________\n",
      "dense_11 (Dense)             (None, 10)                330       \n",
      "=================================================================\n",
      "Total params: 111,146\n",
      "Trainable params: 111,146\n",
      "Non-trainable params: 0\n",
      "_________________________________________________________________\n"
     ]
    }
   ],
   "source": [
    "# let's see how many parameters, etc\n",
    "model.summary()"
   ]
  },
  {
   "cell_type": "code",
   "execution_count": 14,
   "id": "apparent-connectivity",
   "metadata": {},
   "outputs": [],
   "source": [
    "model.compile(optimizer='adam', loss = 'sparse_categorical_crossentropy',\n",
    "             metrics = ['accuracy'])"
   ]
  },
  {
   "cell_type": "code",
   "execution_count": 15,
   "id": "going-frame",
   "metadata": {},
   "outputs": [
    {
     "name": "stdout",
     "output_type": "stream",
     "text": [
      "Epoch 1/60\n",
      "211/211 [==============================] - 1s 4ms/step - loss: 12.5961 - accuracy: 0.6306 - val_loss: 1.5879 - val_accuracy: 0.7665\n",
      "Epoch 2/60\n",
      "211/211 [==============================] - 1s 3ms/step - loss: 1.2979 - accuracy: 0.7843 - val_loss: 0.8390 - val_accuracy: 0.8088\n",
      "Epoch 3/60\n",
      "211/211 [==============================] - 1s 3ms/step - loss: 0.7744 - accuracy: 0.8116 - val_loss: 0.7024 - val_accuracy: 0.8138\n",
      "Epoch 4/60\n",
      "211/211 [==============================] - 1s 3ms/step - loss: 0.5916 - accuracy: 0.8294 - val_loss: 0.6011 - val_accuracy: 0.8242\n",
      "Epoch 5/60\n",
      "211/211 [==============================] - 1s 3ms/step - loss: 0.4858 - accuracy: 0.8445 - val_loss: 0.5764 - val_accuracy: 0.8318\n",
      "Epoch 6/60\n",
      "211/211 [==============================] - 1s 3ms/step - loss: 0.4430 - accuracy: 0.8512 - val_loss: 0.5304 - val_accuracy: 0.8308\n",
      "Epoch 7/60\n",
      "211/211 [==============================] - 1s 3ms/step - loss: 0.4138 - accuracy: 0.8563 - val_loss: 0.4953 - val_accuracy: 0.8423\n",
      "Epoch 8/60\n",
      "211/211 [==============================] - 1s 3ms/step - loss: 0.3872 - accuracy: 0.8642 - val_loss: 0.5170 - val_accuracy: 0.8385\n",
      "Epoch 9/60\n",
      "211/211 [==============================] - 1s 3ms/step - loss: 0.3599 - accuracy: 0.8702 - val_loss: 0.4961 - val_accuracy: 0.8413\n",
      "Epoch 10/60\n",
      "211/211 [==============================] - 1s 3ms/step - loss: 0.3564 - accuracy: 0.8703 - val_loss: 0.4462 - val_accuracy: 0.8550\n",
      "Epoch 11/60\n",
      "211/211 [==============================] - 1s 3ms/step - loss: 0.3395 - accuracy: 0.8766 - val_loss: 0.4590 - val_accuracy: 0.8488\n",
      "Epoch 12/60\n",
      "211/211 [==============================] - 1s 3ms/step - loss: 0.3141 - accuracy: 0.8856 - val_loss: 0.4602 - val_accuracy: 0.8513\n",
      "Epoch 13/60\n",
      "211/211 [==============================] - 1s 3ms/step - loss: 0.3184 - accuracy: 0.8847 - val_loss: 0.4759 - val_accuracy: 0.8513\n",
      "Epoch 14/60\n",
      "211/211 [==============================] - 1s 3ms/step - loss: 0.3070 - accuracy: 0.8867 - val_loss: 0.4724 - val_accuracy: 0.8518\n",
      "Epoch 15/60\n",
      "211/211 [==============================] - 1s 3ms/step - loss: 0.3034 - accuracy: 0.8887 - val_loss: 0.4193 - val_accuracy: 0.8618\n",
      "Epoch 16/60\n",
      "211/211 [==============================] - 1s 3ms/step - loss: 0.2919 - accuracy: 0.8916 - val_loss: 0.4177 - val_accuracy: 0.8552\n",
      "Epoch 17/60\n",
      "211/211 [==============================] - 1s 3ms/step - loss: 0.2930 - accuracy: 0.8932 - val_loss: 0.4205 - val_accuracy: 0.8612\n",
      "Epoch 18/60\n",
      "211/211 [==============================] - 1s 3ms/step - loss: 0.2928 - accuracy: 0.8911 - val_loss: 0.4573 - val_accuracy: 0.8592\n",
      "Epoch 19/60\n",
      "211/211 [==============================] - 1s 3ms/step - loss: 0.2862 - accuracy: 0.8928 - val_loss: 0.4283 - val_accuracy: 0.8605\n",
      "Epoch 20/60\n",
      "211/211 [==============================] - 1s 3ms/step - loss: 0.2915 - accuracy: 0.8922 - val_loss: 0.4279 - val_accuracy: 0.8647\n",
      "Epoch 21/60\n",
      "211/211 [==============================] - 1s 3ms/step - loss: 0.2682 - accuracy: 0.8995 - val_loss: 0.4373 - val_accuracy: 0.8628\n",
      "Epoch 22/60\n",
      "211/211 [==============================] - 1s 3ms/step - loss: 0.2703 - accuracy: 0.9007 - val_loss: 0.4101 - val_accuracy: 0.8705\n",
      "Epoch 23/60\n",
      "211/211 [==============================] - 1s 4ms/step - loss: 0.2724 - accuracy: 0.8993 - val_loss: 0.4243 - val_accuracy: 0.8650\n",
      "Epoch 24/60\n",
      "211/211 [==============================] - 1s 5ms/step - loss: 0.2566 - accuracy: 0.9043 - val_loss: 0.4245 - val_accuracy: 0.8645\n",
      "Epoch 25/60\n",
      "211/211 [==============================] - 1s 3ms/step - loss: 0.2582 - accuracy: 0.9053 - val_loss: 0.4940 - val_accuracy: 0.8482\n",
      "Epoch 26/60\n",
      "211/211 [==============================] - 1s 3ms/step - loss: 0.2824 - accuracy: 0.8969 - val_loss: 0.4484 - val_accuracy: 0.8633\n",
      "Epoch 27/60\n",
      "211/211 [==============================] - 1s 3ms/step - loss: 0.2523 - accuracy: 0.9060 - val_loss: 0.4217 - val_accuracy: 0.8693\n",
      "Epoch 28/60\n",
      "211/211 [==============================] - 1s 3ms/step - loss: 0.2558 - accuracy: 0.9074 - val_loss: 0.4151 - val_accuracy: 0.8697\n",
      "Epoch 29/60\n",
      "211/211 [==============================] - 1s 3ms/step - loss: 0.2468 - accuracy: 0.9075 - val_loss: 0.4214 - val_accuracy: 0.8730\n",
      "Epoch 30/60\n",
      "211/211 [==============================] - 1s 3ms/step - loss: 0.2579 - accuracy: 0.9039 - val_loss: 0.4128 - val_accuracy: 0.8718\n",
      "Epoch 31/60\n",
      "211/211 [==============================] - 1s 3ms/step - loss: 0.2418 - accuracy: 0.9081 - val_loss: 0.4460 - val_accuracy: 0.8668\n",
      "Epoch 32/60\n",
      "211/211 [==============================] - 1s 3ms/step - loss: 0.2720 - accuracy: 0.9015 - val_loss: 0.4290 - val_accuracy: 0.8742\n",
      "Epoch 33/60\n",
      "211/211 [==============================] - 1s 3ms/step - loss: 0.2532 - accuracy: 0.9059 - val_loss: 0.4383 - val_accuracy: 0.8667\n",
      "Epoch 34/60\n",
      "211/211 [==============================] - 1s 3ms/step - loss: 0.2480 - accuracy: 0.9085 - val_loss: 0.4145 - val_accuracy: 0.8710\n",
      "Epoch 35/60\n",
      "211/211 [==============================] - 1s 3ms/step - loss: 0.2369 - accuracy: 0.9104 - val_loss: 0.4188 - val_accuracy: 0.8748\n",
      "Epoch 36/60\n",
      "211/211 [==============================] - 1s 3ms/step - loss: 0.2253 - accuracy: 0.9179 - val_loss: 0.4201 - val_accuracy: 0.8680\n",
      "Epoch 37/60\n",
      "211/211 [==============================] - 1s 3ms/step - loss: 0.2307 - accuracy: 0.9128 - val_loss: 0.4492 - val_accuracy: 0.8535\n",
      "Epoch 38/60\n",
      "211/211 [==============================] - 1s 3ms/step - loss: 0.2380 - accuracy: 0.9120 - val_loss: 0.4728 - val_accuracy: 0.8632\n",
      "Epoch 39/60\n",
      "211/211 [==============================] - 1s 3ms/step - loss: 0.2368 - accuracy: 0.9121 - val_loss: 0.4135 - val_accuracy: 0.8723\n",
      "Epoch 40/60\n",
      "211/211 [==============================] - 1s 3ms/step - loss: 0.2285 - accuracy: 0.9143 - val_loss: 0.4149 - val_accuracy: 0.8700\n",
      "Epoch 41/60\n",
      "211/211 [==============================] - 1s 3ms/step - loss: 0.2294 - accuracy: 0.9144 - val_loss: 0.4356 - val_accuracy: 0.8732\n",
      "Epoch 42/60\n",
      "211/211 [==============================] - 1s 3ms/step - loss: 0.2094 - accuracy: 0.9200 - val_loss: 0.4166 - val_accuracy: 0.8688\n",
      "Epoch 43/60\n",
      "211/211 [==============================] - 1s 3ms/step - loss: 0.2214 - accuracy: 0.9169 - val_loss: 0.4333 - val_accuracy: 0.8713\n",
      "Epoch 44/60\n",
      "211/211 [==============================] - 1s 3ms/step - loss: 0.2262 - accuracy: 0.9174 - val_loss: 0.4462 - val_accuracy: 0.8793\n",
      "Epoch 45/60\n",
      "211/211 [==============================] - 1s 3ms/step - loss: 0.2164 - accuracy: 0.9201 - val_loss: 0.4339 - val_accuracy: 0.8688\n",
      "Epoch 46/60\n",
      "211/211 [==============================] - 1s 3ms/step - loss: 0.2143 - accuracy: 0.9181 - val_loss: 0.4518 - val_accuracy: 0.8725\n",
      "Epoch 47/60\n",
      "211/211 [==============================] - 1s 4ms/step - loss: 0.2112 - accuracy: 0.9206 - val_loss: 0.4322 - val_accuracy: 0.8745\n",
      "Epoch 48/60\n",
      "211/211 [==============================] - 1s 7ms/step - loss: 0.2033 - accuracy: 0.9253 - val_loss: 0.4391 - val_accuracy: 0.8792\n",
      "Epoch 49/60\n",
      "211/211 [==============================] - 1s 3ms/step - loss: 0.2010 - accuracy: 0.9243 - val_loss: 0.4123 - val_accuracy: 0.8792\n",
      "Epoch 50/60\n",
      "211/211 [==============================] - 1s 3ms/step - loss: 0.2075 - accuracy: 0.9243 - val_loss: 0.4418 - val_accuracy: 0.8773\n",
      "Epoch 51/60\n",
      "211/211 [==============================] - 1s 3ms/step - loss: 0.1944 - accuracy: 0.9281 - val_loss: 0.4817 - val_accuracy: 0.8675\n",
      "Epoch 52/60\n",
      "211/211 [==============================] - 1s 3ms/step - loss: 0.2031 - accuracy: 0.9239 - val_loss: 0.4856 - val_accuracy: 0.8690\n",
      "Epoch 53/60\n",
      "211/211 [==============================] - 1s 3ms/step - loss: 0.2100 - accuracy: 0.9209 - val_loss: 0.4588 - val_accuracy: 0.8755\n",
      "Epoch 54/60\n",
      "211/211 [==============================] - 1s 3ms/step - loss: 0.1936 - accuracy: 0.9279 - val_loss: 0.4633 - val_accuracy: 0.8733\n",
      "Epoch 55/60\n",
      "211/211 [==============================] - 1s 3ms/step - loss: 0.1831 - accuracy: 0.9315 - val_loss: 0.4597 - val_accuracy: 0.8730\n",
      "Epoch 56/60\n",
      "211/211 [==============================] - 1s 3ms/step - loss: 0.1853 - accuracy: 0.9310 - val_loss: 0.5157 - val_accuracy: 0.8682\n",
      "Epoch 57/60\n",
      "211/211 [==============================] - 1s 3ms/step - loss: 0.1950 - accuracy: 0.9269 - val_loss: 0.4604 - val_accuracy: 0.8795\n",
      "Epoch 58/60\n",
      "211/211 [==============================] - 1s 3ms/step - loss: 0.1891 - accuracy: 0.9307 - val_loss: 0.4722 - val_accuracy: 0.8725\n",
      "Epoch 59/60\n",
      "211/211 [==============================] - 1s 3ms/step - loss: 0.1814 - accuracy: 0.9339 - val_loss: 0.4833 - val_accuracy: 0.8648\n",
      "Epoch 60/60\n",
      "211/211 [==============================] - 1s 3ms/step - loss: 0.1783 - accuracy: 0.9324 - val_loss: 0.4578 - val_accuracy: 0.8753\n"
     ]
    }
   ],
   "source": [
    "EPOCHS = 60\n",
    "BATCH_SIZE = 256\n",
    "\n",
    "history = model.fit(train_images, train_labels, epochs = EPOCHS, batch_size = BATCH_SIZE, validation_split = 0.1)"
   ]
  },
  {
   "cell_type": "code",
   "execution_count": 16,
   "id": "transparent-seller",
   "metadata": {},
   "outputs": [],
   "source": [
    "loss = history.history['loss']\n",
    "val_loss = history.history['val_loss']\n",
    "accuracy =  history.history['accuracy']\n",
    "val_accuracy =  history.history['val_accuracy']"
   ]
  },
  {
   "cell_type": "code",
   "execution_count": 17,
   "id": "julian-fantasy",
   "metadata": {},
   "outputs": [
    {
     "data": {
      "image/png": "[encoded data removed]",
      "text/plain": [
       "<Figure size 432x288 with 1 Axes>"
      ]
     },
     "metadata": {
      "needs_background": "light"
     },
     "output_type": "display_data"
    }
   ],
   "source": [
    "plt.xlabel('epoch')\n",
    "plt.ylabel('loss')\n",
    "plt.plot(loss, label = 'loss')\n",
    "plt.plot(val_loss, label = 'validation loss')\n",
    "plt.legend(loc = 'upper right')\n",
    "plt.grid();"
   ]
  },
  {
   "cell_type": "code",
   "execution_count": 18,
   "id": "stuffed-headquarters",
   "metadata": {},
   "outputs": [
    {
     "data": {
      "image/png": "[encoded data removed]",
      "text/plain": [
       "<Figure size 432x288 with 1 Axes>"
      ]
     },
     "metadata": {
      "needs_background": "light"
     },
     "output_type": "display_data"
    }
   ],
   "source": [
    "# wants to see if it starts overfitting\n",
    "START = 20\n",
    "\n",
    "plt.xlabel('epoch')\n",
    "plt.ylabel('loss')\n",
    "plt.plot(loss[START:], label = 'loss')\n",
    "plt.plot(val_loss[START:], label = 'validation loss')\n",
    "plt.legend(loc = 'upper right')\n",
    "plt.grid();"
   ]
  },
  {
   "cell_type": "code",
   "execution_count": 19,
   "id": "subject-brave",
   "metadata": {},
   "outputs": [],
   "source": [
    "# ok it has slightly started overfitting.. as we can see from epochs 15 validation loss becomes higher and training loss is still decreasing"
   ]
  },
  {
   "cell_type": "code",
   "execution_count": 20,
   "id": "mounted-monthly",
   "metadata": {},
   "outputs": [
    {
     "data": {
      "image/png": "[encoded data removed]",
      "text/plain": [
       "<Figure size 432x288 with 1 Axes>"
      ]
     },
     "metadata": {
      "needs_background": "light"
     },
     "output_type": "display_data"
    }
   ],
   "source": [
    "plt.xlabel('epoch')\n",
    "plt.ylabel('accuracy')\n",
    "plt.plot(accuracy, label = 'accuracy')\n",
    "plt.plot(val_accuracy, label = 'validation accuracy')\n",
    "plt.legend(loc = 'lower right')\n",
    "plt.grid();"
   ]
  },
  {
   "cell_type": "code",
   "execution_count": 21,
   "id": "satellite-dynamics",
   "metadata": {},
   "outputs": [
    {
     "name": "stdout",
     "output_type": "stream",
     "text": [
      "313/313 [==============================] - 0s 949us/step - loss: 0.4716 - accuracy: 0.8748\n",
      "\n",
      "Test accuracy is: 0.8748000264167786\n"
     ]
    }
   ],
   "source": [
    "loss, acc = model.evaluate(test_images, test_labels)\n",
    "\n",
    "print('')\n",
    "print('Test accuracy is:', acc)"
   ]
  },
  {
   "cell_type": "code",
   "execution_count": null,
   "id": "limited-symphony",
   "metadata": {},
   "outputs": [],
   "source": []
  }
 ],
 "metadata": {
  "kernelspec": {
   "display_name": "Python 3",
   "language": "python",
   "name": "python3"
  },
  "language_info": {
   "codemirror_mode": {
    "name": "ipython",
    "version": 3
   },
   "file_extension": ".py",
   "mimetype": "text/x-python",
   "name": "python",
   "nbconvert_exporter": "python",
   "pygments_lexer": "ipython3",
   "version": "3.7.10"
  }
 },
 "nbformat": 4,
 "nbformat_minor": 5
}
