{
 "cells": [
  {
   "cell_type": "markdown",
   "id": "former-label",
   "metadata": {},
   "source": [
    "## Fashion Mnist: example with a Learning Rate (LR) scheduler"
   ]
  },
  {
   "cell_type": "code",
   "execution_count": 1,
   "id": "nominated-tournament",
   "metadata": {},
   "outputs": [],
   "source": [
    "import numpy as np\n",
    "import pandas as pd\n",
    "import tensorflow as tf\n",
    "\n",
    "import matplotlib.pyplot as plt"
   ]
  },
  {
   "cell_type": "code",
   "execution_count": 2,
   "id": "designing-independence",
   "metadata": {},
   "outputs": [
    {
     "name": "stdout",
     "output_type": "stream",
     "text": [
      "2.4.1\n"
     ]
    }
   ],
   "source": [
    "# check TensorFlow version\n",
    "print(tf.__version__)"
   ]
  },
  {
   "cell_type": "code",
   "execution_count": 3,
   "id": "adolescent-collectible",
   "metadata": {},
   "outputs": [],
   "source": [
    "data = tf.keras.datasets.fashion_mnist"
   ]
  },
  {
   "cell_type": "code",
   "execution_count": 4,
   "id": "potential-spell",
   "metadata": {},
   "outputs": [],
   "source": [
    "# globals \n",
    "EPOCHS = 60\n",
    "BATCH_SIZE = 256"
   ]
  },
  {
   "cell_type": "code",
   "execution_count": 5,
   "id": "still-rachel",
   "metadata": {},
   "outputs": [],
   "source": [
    "(train_images, train_labels), (test_images, test_labels) = data.load_data()"
   ]
  },
  {
   "cell_type": "code",
   "execution_count": 6,
   "id": "behavioral-defeat",
   "metadata": {},
   "outputs": [
    {
     "name": "stdout",
     "output_type": "stream",
     "text": [
      "Number of training images: 60000\n",
      "Number of test images: 10000\n"
     ]
    }
   ],
   "source": [
    "print('Number of training images:', train_images.shape[0])\n",
    "print('Number of test images:', test_images.shape[0])"
   ]
  },
  {
   "cell_type": "code",
   "execution_count": 7,
   "id": "corporate-prevention",
   "metadata": {},
   "outputs": [
    {
     "data": {
      "text/plain": [
       "array([0, 1, 2, 3, 4, 5, 6, 7, 8, 9], dtype=uint8)"
      ]
     },
     "execution_count": 7,
     "metadata": {},
     "output_type": "execute_result"
    }
   ],
   "source": [
    "# how many distinct classes\n",
    "np.unique(train_labels)"
   ]
  },
  {
   "cell_type": "code",
   "execution_count": 8,
   "id": "prerequisite-compiler",
   "metadata": {},
   "outputs": [],
   "source": [
    "# ok 10 distinct classes labeled as 0..9"
   ]
  },
  {
   "cell_type": "code",
   "execution_count": 9,
   "id": "dietary-telling",
   "metadata": {},
   "outputs": [
    {
     "data": {
      "text/plain": [
       "(60000, 28, 28)"
      ]
     },
     "execution_count": 9,
     "metadata": {},
     "output_type": "execute_result"
    }
   ],
   "source": [
    "# images are greyscale images\n",
    "train_images.shape"
   ]
  },
  {
   "cell_type": "raw",
   "id": "competent-grass",
   "metadata": {},
   "source": [
    "# first of all, normalize images\n",
    "train_images /= 255.\n",
    "test_images /= 255."
   ]
  },
  {
   "cell_type": "code",
   "execution_count": 10,
   "id": "tracked-polymer",
   "metadata": {},
   "outputs": [
    {
     "data": {
      "image/png": "[encoded data removed]",
      "text/plain": [
       "<Figure size 432x288 with 1 Axes>"
      ]
     },
     "metadata": {
      "needs_background": "light"
     },
     "output_type": "display_data"
    }
   ],
   "source": [
    "# let's sess one image\n",
    "plt.imshow(train_images[0], cmap = 'Greys');"
   ]
  },
  {
   "cell_type": "code",
   "execution_count": 11,
   "id": "finished-package",
   "metadata": {},
   "outputs": [],
   "source": [
    "# let's build a first classification model\n",
    "def build_model():\n",
    "    model = tf.keras.models.Sequential([\n",
    "        tf.keras.layers.Flatten(input_shape=(28,28)),\n",
    "        tf.keras.layers.Dense(128, activation = 'relu'),\n",
    "        \n",
    "        # adding these two intermediate layers I go from 0.85 to 0.87 validation accuracy\n",
    "        tf.keras.layers.Dense(64, activation = 'relu'),\n",
    "        tf.keras.layers.Dense(32, activation = 'relu'),\n",
    "        tf.keras.layers.Dense(10, activation = 'softmax')\n",
    "    ])\n",
    "    \n",
    "    model.compile(optimizer='adam', loss = 'sparse_categorical_crossentropy',\n",
    "             metrics = ['accuracy'])\n",
    "    \n",
    "    return model"
   ]
  },
  {
   "cell_type": "code",
   "execution_count": 12,
   "id": "partial-preliminary",
   "metadata": {},
   "outputs": [
    {
     "name": "stdout",
     "output_type": "stream",
     "text": [
      "Model: \"sequential\"\n",
      "_________________________________________________________________\n",
      "Layer (type)                 Output Shape              Param #   \n",
      "=================================================================\n",
      "flatten (Flatten)            (None, 784)               0         \n",
      "_________________________________________________________________\n",
      "dense (Dense)                (None, 128)               100480    \n",
      "_________________________________________________________________\n",
      "dense_1 (Dense)              (None, 64)                8256      \n",
      "_________________________________________________________________\n",
      "dense_2 (Dense)              (None, 32)                2080      \n",
      "_________________________________________________________________\n",
      "dense_3 (Dense)              (None, 10)                330       \n",
      "=================================================================\n",
      "Total params: 111,146\n",
      "Trainable params: 111,146\n",
      "Non-trainable params: 0\n",
      "_________________________________________________________________\n"
     ]
    }
   ],
   "source": [
    "# let's see how many parameters, etc\n",
    "model = build_model()\n",
    "\n",
    "model.summary()"
   ]
  },
  {
   "cell_type": "code",
   "execution_count": 13,
   "id": "differential-highlight",
   "metadata": {},
   "outputs": [],
   "source": [
    "# add a Callback that changes the learning rate during the training\n",
    "def lr_schedule(epoch):\n",
    "    lr_initial = 0.001\n",
    "    ep_start_decay = 20\n",
    "    decay_rate = 0.9\n",
    "    \n",
    "    if epoch > ep_start_decay:\n",
    "        lr = lr_initial * decay_rate ** (epoch - ep_start_decay)\n",
    "    else:\n",
    "        lr = lr_initial\n",
    "        \n",
    "    return lr"
   ]
  },
  {
   "cell_type": "code",
   "execution_count": 14,
   "id": "respective-synthetic",
   "metadata": {},
   "outputs": [
    {
     "data": {
      "image/png": "[encoded data removed]",
      "text/plain": [
       "<Figure size 432x288 with 1 Axes>"
      ]
     },
     "metadata": {
      "needs_background": "light"
     },
     "output_type": "display_data"
    }
   ],
   "source": [
    "# let's plot it\n",
    "def plot_ls_scheduler(fn):\n",
    "    vet_epochs = np.arange(EPOCHS)\n",
    "    vet_lr = [fn(epoch) for epoch in vet_epochs]\n",
    "    plt.plot(vet_epochs, vet_lr, 'b*')\n",
    "    plt.grid()\n",
    "\n",
    "# here we plot\n",
    "plot_ls_scheduler(lr_schedule)"
   ]
  },
  {
   "cell_type": "code",
   "execution_count": 15,
   "id": "british-operation",
   "metadata": {},
   "outputs": [
    {
     "name": "stdout",
     "output_type": "stream",
     "text": [
      "Epoch 1/60\n",
      "\n",
      "Epoch 00001: LearningRateScheduler reducing learning rate to 0.001.\n",
      "211/211 [==============================] - 2s 6ms/step - loss: 9.6671 - accuracy: 0.6046 - val_loss: 1.0801 - val_accuracy: 0.7825\n",
      "Epoch 2/60\n",
      "\n",
      "Epoch 00002: LearningRateScheduler reducing learning rate to 0.001.\n",
      "211/211 [==============================] - 1s 3ms/step - loss: 0.9631 - accuracy: 0.7832 - val_loss: 0.7226 - val_accuracy: 0.7990\n",
      "Epoch 3/60\n",
      "\n",
      "Epoch 00003: LearningRateScheduler reducing learning rate to 0.001.\n",
      "211/211 [==============================] - 1s 3ms/step - loss: 0.6510 - accuracy: 0.8184 - val_loss: 0.5901 - val_accuracy: 0.8215\n",
      "Epoch 4/60\n",
      "\n",
      "Epoch 00004: LearningRateScheduler reducing learning rate to 0.001.\n",
      "211/211 [==============================] - 1s 3ms/step - loss: 0.5393 - accuracy: 0.8302 - val_loss: 0.5619 - val_accuracy: 0.8280\n",
      "Epoch 5/60\n",
      "\n",
      "Epoch 00005: LearningRateScheduler reducing learning rate to 0.001.\n",
      "211/211 [==============================] - 1s 3ms/step - loss: 0.4678 - accuracy: 0.8449 - val_loss: 0.5878 - val_accuracy: 0.8142\n",
      "Epoch 6/60\n",
      "\n",
      "Epoch 00006: LearningRateScheduler reducing learning rate to 0.001.\n",
      "211/211 [==============================] - 1s 3ms/step - loss: 0.4340 - accuracy: 0.8503 - val_loss: 0.4804 - val_accuracy: 0.8432\n",
      "Epoch 7/60\n",
      "\n",
      "Epoch 00007: LearningRateScheduler reducing learning rate to 0.001.\n",
      "211/211 [==============================] - 1s 3ms/step - loss: 0.3973 - accuracy: 0.8624 - val_loss: 0.4520 - val_accuracy: 0.8435\n",
      "Epoch 8/60\n",
      "\n",
      "Epoch 00008: LearningRateScheduler reducing learning rate to 0.001.\n",
      "211/211 [==============================] - 1s 3ms/step - loss: 0.3766 - accuracy: 0.8671 - val_loss: 0.4462 - val_accuracy: 0.8480\n",
      "Epoch 9/60\n",
      "\n",
      "Epoch 00009: LearningRateScheduler reducing learning rate to 0.001.\n",
      "211/211 [==============================] - 1s 5ms/step - loss: 0.3669 - accuracy: 0.8671 - val_loss: 0.4439 - val_accuracy: 0.8532\n",
      "Epoch 10/60\n",
      "\n",
      "Epoch 00010: LearningRateScheduler reducing learning rate to 0.001.\n",
      "211/211 [==============================] - 1s 3ms/step - loss: 0.3529 - accuracy: 0.8734 - val_loss: 0.4417 - val_accuracy: 0.8520\n",
      "Epoch 11/60\n",
      "\n",
      "Epoch 00011: LearningRateScheduler reducing learning rate to 0.001.\n",
      "211/211 [==============================] - 1s 3ms/step - loss: 0.3314 - accuracy: 0.8820 - val_loss: 0.4260 - val_accuracy: 0.8502\n",
      "Epoch 12/60\n",
      "\n",
      "Epoch 00012: LearningRateScheduler reducing learning rate to 0.001.\n",
      "211/211 [==============================] - 1s 4ms/step - loss: 0.3205 - accuracy: 0.8826 - val_loss: 0.4634 - val_accuracy: 0.8555\n",
      "Epoch 13/60\n",
      "\n",
      "Epoch 00013: LearningRateScheduler reducing learning rate to 0.001.\n",
      "211/211 [==============================] - 1s 3ms/step - loss: 0.3170 - accuracy: 0.8859 - val_loss: 0.4394 - val_accuracy: 0.8515\n",
      "Epoch 14/60\n",
      "\n",
      "Epoch 00014: LearningRateScheduler reducing learning rate to 0.001.\n",
      "211/211 [==============================] - 1s 3ms/step - loss: 0.3034 - accuracy: 0.8865 - val_loss: 0.4070 - val_accuracy: 0.8610\n",
      "Epoch 15/60\n",
      "\n",
      "Epoch 00015: LearningRateScheduler reducing learning rate to 0.001.\n",
      "211/211 [==============================] - 1s 6ms/step - loss: 0.3139 - accuracy: 0.8852 - val_loss: 0.4493 - val_accuracy: 0.8488\n",
      "Epoch 16/60\n",
      "\n",
      "Epoch 00016: LearningRateScheduler reducing learning rate to 0.001.\n",
      "211/211 [==============================] - 1s 3ms/step - loss: 0.3038 - accuracy: 0.8895 - val_loss: 0.4434 - val_accuracy: 0.8550\n",
      "Epoch 17/60\n",
      "\n",
      "Epoch 00017: LearningRateScheduler reducing learning rate to 0.001.\n",
      "211/211 [==============================] - 1s 3ms/step - loss: 0.2862 - accuracy: 0.8949 - val_loss: 0.4120 - val_accuracy: 0.8667\n",
      "Epoch 18/60\n",
      "\n",
      "Epoch 00018: LearningRateScheduler reducing learning rate to 0.001.\n",
      "211/211 [==============================] - 1s 3ms/step - loss: 0.2827 - accuracy: 0.8969 - val_loss: 0.4196 - val_accuracy: 0.8683\n",
      "Epoch 19/60\n",
      "\n",
      "Epoch 00019: LearningRateScheduler reducing learning rate to 0.001.\n",
      "211/211 [==============================] - 1s 4ms/step - loss: 0.2773 - accuracy: 0.8987 - val_loss: 0.4112 - val_accuracy: 0.8695\n",
      "Epoch 20/60\n",
      "\n",
      "Epoch 00020: LearningRateScheduler reducing learning rate to 0.001.\n",
      "211/211 [==============================] - 1s 3ms/step - loss: 0.2722 - accuracy: 0.8999 - val_loss: 0.3936 - val_accuracy: 0.8718\n",
      "Epoch 21/60\n",
      "\n",
      "Epoch 00021: LearningRateScheduler reducing learning rate to 0.001.\n",
      "211/211 [==============================] - 1s 3ms/step - loss: 0.2613 - accuracy: 0.9037 - val_loss: 0.3989 - val_accuracy: 0.8707\n",
      "Epoch 22/60\n",
      "\n",
      "Epoch 00022: LearningRateScheduler reducing learning rate to 0.0009000000000000001.\n",
      "211/211 [==============================] - 1s 4ms/step - loss: 0.2553 - accuracy: 0.9054 - val_loss: 0.3868 - val_accuracy: 0.8807\n",
      "Epoch 23/60\n",
      "\n",
      "Epoch 00023: LearningRateScheduler reducing learning rate to 0.0008100000000000001.\n",
      "211/211 [==============================] - 1s 3ms/step - loss: 0.2407 - accuracy: 0.9125 - val_loss: 0.4046 - val_accuracy: 0.8752\n",
      "Epoch 24/60\n",
      "\n",
      "Epoch 00024: LearningRateScheduler reducing learning rate to 0.0007290000000000002.\n",
      "211/211 [==============================] - 1s 4ms/step - loss: 0.2372 - accuracy: 0.9117 - val_loss: 0.3857 - val_accuracy: 0.8752\n",
      "Epoch 25/60\n",
      "\n",
      "Epoch 00025: LearningRateScheduler reducing learning rate to 0.0006561000000000001.\n",
      "211/211 [==============================] - 1s 3ms/step - loss: 0.2398 - accuracy: 0.9106 - val_loss: 0.3809 - val_accuracy: 0.8775\n",
      "Epoch 26/60\n",
      "\n",
      "Epoch 00026: LearningRateScheduler reducing learning rate to 0.00059049.\n",
      "211/211 [==============================] - 1s 3ms/step - loss: 0.2214 - accuracy: 0.9173 - val_loss: 0.3962 - val_accuracy: 0.8740\n",
      "Epoch 27/60\n",
      "\n",
      "Epoch 00027: LearningRateScheduler reducing learning rate to 0.000531441.\n",
      "211/211 [==============================] - 1s 6ms/step - loss: 0.2151 - accuracy: 0.9188 - val_loss: 0.3915 - val_accuracy: 0.8758\n",
      "Epoch 28/60\n",
      "\n",
      "Epoch 00028: LearningRateScheduler reducing learning rate to 0.0004782969000000001.\n",
      "211/211 [==============================] - 1s 4ms/step - loss: 0.2016 - accuracy: 0.9246 - val_loss: 0.3994 - val_accuracy: 0.8768\n",
      "Epoch 29/60\n",
      "\n",
      "Epoch 00029: LearningRateScheduler reducing learning rate to 0.0004304672100000001.\n",
      "211/211 [==============================] - 1s 3ms/step - loss: 0.1994 - accuracy: 0.9267 - val_loss: 0.3936 - val_accuracy: 0.8750\n",
      "Epoch 30/60\n",
      "\n",
      "Epoch 00030: LearningRateScheduler reducing learning rate to 0.0003874204890000001.\n",
      "211/211 [==============================] - 1s 3ms/step - loss: 0.1976 - accuracy: 0.9272 - val_loss: 0.4030 - val_accuracy: 0.8747\n",
      "Epoch 31/60\n",
      "\n",
      "Epoch 00031: LearningRateScheduler reducing learning rate to 0.0003486784401000001.\n",
      "211/211 [==============================] - 1s 3ms/step - loss: 0.1870 - accuracy: 0.9311 - val_loss: 0.3920 - val_accuracy: 0.8797\n",
      "Epoch 32/60\n",
      "\n",
      "Epoch 00032: LearningRateScheduler reducing learning rate to 0.0003138105960900001.\n",
      "211/211 [==============================] - 1s 5ms/step - loss: 0.1874 - accuracy: 0.9303 - val_loss: 0.3759 - val_accuracy: 0.8823\n",
      "Epoch 33/60\n",
      "\n",
      "Epoch 00033: LearningRateScheduler reducing learning rate to 0.0002824295364810001.\n",
      "211/211 [==============================] - 1s 4ms/step - loss: 0.1842 - accuracy: 0.9313 - val_loss: 0.3900 - val_accuracy: 0.8812\n",
      "Epoch 34/60\n",
      "\n",
      "Epoch 00034: LearningRateScheduler reducing learning rate to 0.0002541865828329001.\n",
      "211/211 [==============================] - 1s 5ms/step - loss: 0.1729 - accuracy: 0.9355 - val_loss: 0.3975 - val_accuracy: 0.8817\n",
      "Epoch 35/60\n",
      "\n",
      "Epoch 00035: LearningRateScheduler reducing learning rate to 0.0002287679245496101.\n",
      "211/211 [==============================] - 1s 3ms/step - loss: 0.1705 - accuracy: 0.9360 - val_loss: 0.4141 - val_accuracy: 0.8768\n",
      "Epoch 36/60\n",
      "\n",
      "Epoch 00036: LearningRateScheduler reducing learning rate to 0.0002058911320946491.\n",
      "211/211 [==============================] - 1s 3ms/step - loss: 0.1694 - accuracy: 0.9371 - val_loss: 0.4126 - val_accuracy: 0.8807\n",
      "Epoch 37/60\n",
      "\n",
      "Epoch 00037: LearningRateScheduler reducing learning rate to 0.00018530201888518417.\n",
      "211/211 [==============================] - 1s 3ms/step - loss: 0.1586 - accuracy: 0.9431 - val_loss: 0.4091 - val_accuracy: 0.8788\n",
      "Epoch 38/60\n",
      "\n",
      "Epoch 00038: LearningRateScheduler reducing learning rate to 0.00016677181699666576.\n",
      "211/211 [==============================] - 1s 3ms/step - loss: 0.1558 - accuracy: 0.9435 - val_loss: 0.4042 - val_accuracy: 0.8810\n",
      "Epoch 39/60\n",
      "\n",
      "Epoch 00039: LearningRateScheduler reducing learning rate to 0.00015009463529699917.\n",
      "211/211 [==============================] - 1s 4ms/step - loss: 0.1614 - accuracy: 0.9428 - val_loss: 0.4224 - val_accuracy: 0.8808\n",
      "Epoch 40/60\n",
      "\n",
      "Epoch 00040: LearningRateScheduler reducing learning rate to 0.0001350851717672993.\n",
      "211/211 [==============================] - 1s 6ms/step - loss: 0.1507 - accuracy: 0.9440 - val_loss: 0.4207 - val_accuracy: 0.8817\n",
      "Epoch 41/60\n",
      "\n",
      "Epoch 00041: LearningRateScheduler reducing learning rate to 0.00012157665459056935.\n",
      "211/211 [==============================] - 1s 3ms/step - loss: 0.1502 - accuracy: 0.9457 - val_loss: 0.4292 - val_accuracy: 0.8808\n",
      "Epoch 42/60\n",
      "\n",
      "Epoch 00042: LearningRateScheduler reducing learning rate to 0.00010941898913151242.\n",
      "211/211 [==============================] - 1s 3ms/step - loss: 0.1507 - accuracy: 0.9456 - val_loss: 0.4200 - val_accuracy: 0.8800\n",
      "Epoch 43/60\n",
      "\n",
      "Epoch 00043: LearningRateScheduler reducing learning rate to 9.847709021836118e-05.\n",
      "211/211 [==============================] - 1s 3ms/step - loss: 0.1390 - accuracy: 0.9492 - val_loss: 0.4270 - val_accuracy: 0.8808\n",
      "Epoch 44/60\n",
      "\n",
      "Epoch 00044: LearningRateScheduler reducing learning rate to 8.862938119652506e-05.\n",
      "211/211 [==============================] - 1s 6ms/step - loss: 0.1384 - accuracy: 0.9494 - val_loss: 0.4235 - val_accuracy: 0.8815\n",
      "Epoch 45/60\n",
      "\n",
      "Epoch 00045: LearningRateScheduler reducing learning rate to 7.976644307687256e-05.\n",
      "211/211 [==============================] - 1s 3ms/step - loss: 0.1369 - accuracy: 0.9506 - val_loss: 0.4353 - val_accuracy: 0.8810\n",
      "Epoch 46/60\n",
      "\n",
      "Epoch 00046: LearningRateScheduler reducing learning rate to 7.17897987691853e-05.\n",
      "211/211 [==============================] - 1s 3ms/step - loss: 0.1350 - accuracy: 0.9539 - val_loss: 0.4356 - val_accuracy: 0.8802\n",
      "Epoch 47/60\n",
      "\n",
      "Epoch 00047: LearningRateScheduler reducing learning rate to 6.461081889226677e-05.\n",
      "211/211 [==============================] - 1s 3ms/step - loss: 0.1355 - accuracy: 0.9522 - val_loss: 0.4367 - val_accuracy: 0.8810\n",
      "Epoch 48/60\n",
      "\n",
      "Epoch 00048: LearningRateScheduler reducing learning rate to 5.8149737003040094e-05.\n",
      "211/211 [==============================] - 1s 3ms/step - loss: 0.1347 - accuracy: 0.9525 - val_loss: 0.4347 - val_accuracy: 0.8812\n",
      "Epoch 49/60\n",
      "\n",
      "Epoch 00049: LearningRateScheduler reducing learning rate to 5.233476330273609e-05.\n",
      "211/211 [==============================] - 1s 5ms/step - loss: 0.1350 - accuracy: 0.9510 - val_loss: 0.4354 - val_accuracy: 0.8787\n",
      "Epoch 50/60\n",
      "\n",
      "Epoch 00050: LearningRateScheduler reducing learning rate to 4.7101286972462485e-05.\n",
      "211/211 [==============================] - 1s 3ms/step - loss: 0.1322 - accuracy: 0.9538 - val_loss: 0.4415 - val_accuracy: 0.8795\n",
      "Epoch 51/60\n",
      "\n",
      "Epoch 00051: LearningRateScheduler reducing learning rate to 4.239115827521624e-05.\n",
      "211/211 [==============================] - 1s 3ms/step - loss: 0.1278 - accuracy: 0.9543 - val_loss: 0.4445 - val_accuracy: 0.8803\n",
      "Epoch 52/60\n",
      "\n",
      "Epoch 00052: LearningRateScheduler reducing learning rate to 3.8152042447694614e-05.\n",
      "211/211 [==============================] - 1s 5ms/step - loss: 0.1241 - accuracy: 0.9567 - val_loss: 0.4460 - val_accuracy: 0.8802\n",
      "Epoch 53/60\n",
      "\n",
      "Epoch 00053: LearningRateScheduler reducing learning rate to 3.433683820292515e-05.\n",
      "211/211 [==============================] - 1s 3ms/step - loss: 0.1288 - accuracy: 0.9544 - val_loss: 0.4486 - val_accuracy: 0.8793\n",
      "Epoch 54/60\n",
      "\n",
      "Epoch 00054: LearningRateScheduler reducing learning rate to 3.090315438263264e-05.\n",
      "211/211 [==============================] - 1s 3ms/step - loss: 0.1270 - accuracy: 0.9549 - val_loss: 0.4490 - val_accuracy: 0.8782\n",
      "Epoch 55/60\n",
      "\n",
      "Epoch 00055: LearningRateScheduler reducing learning rate to 2.7812838944369376e-05.\n",
      "211/211 [==============================] - 1s 3ms/step - loss: 0.1250 - accuracy: 0.9564 - val_loss: 0.4519 - val_accuracy: 0.8798\n",
      "Epoch 56/60\n",
      "\n",
      "Epoch 00056: LearningRateScheduler reducing learning rate to 2.5031555049932436e-05.\n",
      "211/211 [==============================] - 1s 3ms/step - loss: 0.1203 - accuracy: 0.9586 - val_loss: 0.4496 - val_accuracy: 0.8803\n",
      "Epoch 57/60\n",
      "\n",
      "Epoch 00057: LearningRateScheduler reducing learning rate to 2.2528399544939195e-05.\n",
      "211/211 [==============================] - 1s 6ms/step - loss: 0.1253 - accuracy: 0.9567 - val_loss: 0.4529 - val_accuracy: 0.8798\n",
      "Epoch 58/60\n",
      "\n",
      "Epoch 00058: LearningRateScheduler reducing learning rate to 2.0275559590445276e-05.\n",
      "211/211 [==============================] - 1s 4ms/step - loss: 0.1232 - accuracy: 0.9576 - val_loss: 0.4555 - val_accuracy: 0.8797\n",
      "Epoch 59/60\n",
      "\n",
      "Epoch 00059: LearningRateScheduler reducing learning rate to 1.824800363140075e-05.\n",
      "211/211 [==============================] - 1s 3ms/step - loss: 0.1203 - accuracy: 0.9579 - val_loss: 0.4554 - val_accuracy: 0.8795\n",
      "Epoch 60/60\n",
      "\n",
      "Epoch 00060: LearningRateScheduler reducing learning rate to 1.6423203268260675e-05.\n",
      "211/211 [==============================] - 1s 4ms/step - loss: 0.1201 - accuracy: 0.9594 - val_loss: 0.4541 - val_accuracy: 0.8805\n"
     ]
    }
   ],
   "source": [
    "# the callback for the LR cheduler\n",
    "cbk1 = tf.keras.callbacks.LearningRateScheduler(lr_schedule, verbose = 1)\n",
    "\n",
    "history = model.fit(train_images, train_labels, epochs = EPOCHS, batch_size = BATCH_SIZE, validation_split = 0.1, callbacks = [cbk1])"
   ]
  },
  {
   "cell_type": "code",
   "execution_count": 16,
   "id": "formal-frame",
   "metadata": {},
   "outputs": [],
   "source": [
    "loss = history.history['loss']\n",
    "val_loss = history.history['val_loss']\n",
    "accuracy =  history.history['accuracy']\n",
    "val_accuracy =  history.history['val_accuracy']"
   ]
  },
  {
   "cell_type": "code",
   "execution_count": 17,
   "id": "proof-reservoir",
   "metadata": {},
   "outputs": [
    {
     "data": {
      "image/png": "[encoded data removed]",
      "text/plain": [
       "<Figure size 432x288 with 1 Axes>"
      ]
     },
     "metadata": {
      "needs_background": "light"
     },
     "output_type": "display_data"
    }
   ],
   "source": [
    "plt.xlabel('epoch')\n",
    "plt.ylabel('loss')\n",
    "plt.plot(loss, label = 'loss')\n",
    "plt.plot(val_loss, label = 'validation loss')\n",
    "plt.legend(loc = 'upper right')\n",
    "plt.grid();"
   ]
  },
  {
   "cell_type": "code",
   "execution_count": 18,
   "id": "wireless-advancement",
   "metadata": {},
   "outputs": [
    {
     "data": {
      "image/png": "[encoded data removed]",
      "text/plain": [
       "<Figure size 432x288 with 1 Axes>"
      ]
     },
     "metadata": {
      "needs_background": "light"
     },
     "output_type": "display_data"
    }
   ],
   "source": [
    "# wants to see if it starts overfitting\n",
    "START = 20\n",
    "\n",
    "plt.xlabel('epoch')\n",
    "plt.ylabel('loss')\n",
    "plt.plot(loss[START:], label = 'loss')\n",
    "plt.plot(val_loss[START:], label = 'validation loss')\n",
    "plt.legend(loc = 'upper right')\n",
    "plt.grid();"
   ]
  },
  {
   "cell_type": "code",
   "execution_count": 19,
   "id": "prescribed-driving",
   "metadata": {},
   "outputs": [],
   "source": [
    "# ok it has slightly started overfitting.. as we can see from epochs 15 validation loss becomes higher and training loss is still decreasing"
   ]
  },
  {
   "cell_type": "code",
   "execution_count": 20,
   "id": "accredited-enzyme",
   "metadata": {},
   "outputs": [
    {
     "data": {
      "image/png": "[encoded data removed]",
      "text/plain": [
       "<Figure size 432x288 with 1 Axes>"
      ]
     },
     "metadata": {
      "needs_background": "light"
     },
     "output_type": "display_data"
    }
   ],
   "source": [
    "plt.xlabel('epoch')\n",
    "plt.ylabel('accuracy')\n",
    "plt.plot(accuracy, label = 'accuracy')\n",
    "plt.plot(val_accuracy, label = 'validation accuracy')\n",
    "plt.legend(loc = 'lower right')\n",
    "plt.grid();"
   ]
  },
  {
   "cell_type": "code",
   "execution_count": 21,
   "id": "weekly-trigger",
   "metadata": {},
   "outputs": [
    {
     "name": "stdout",
     "output_type": "stream",
     "text": [
      "313/313 [==============================] - 0s 925us/step - loss: 0.4801 - accuracy: 0.8766\n"
     ]
    },
    {
     "data": {
      "text/plain": [
       "[0.4801119267940521, 0.8766000270843506]"
      ]
     },
     "execution_count": 21,
     "metadata": {},
     "output_type": "execute_result"
    }
   ],
   "source": [
    "model.evaluate(test_images, test_labels)"
   ]
  },
  {
   "cell_type": "code",
   "execution_count": null,
   "id": "fitting-castle",
   "metadata": {},
   "outputs": [],
   "source": []
  }
 ],
 "metadata": {
  "kernelspec": {
   "display_name": "Python 3",
   "language": "python",
   "name": "python3"
  },
  "language_info": {
   "codemirror_mode": {
    "name": "ipython",
    "version": 3
   },
   "file_extension": ".py",
   "mimetype": "text/x-python",
   "name": "python",
   "nbconvert_exporter": "python",
   "pygments_lexer": "ipython3",
   "version": "3.7.10"
  }
 },
 "nbformat": 4,
 "nbformat_minor": 5
}
