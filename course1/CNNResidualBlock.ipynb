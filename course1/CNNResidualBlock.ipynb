{
 "cells": [
  {
   "cell_type": "code",
   "execution_count": 1,
   "id": "4c0a51f6",
   "metadata": {},
   "outputs": [],
   "source": [
    "import tensorflow as tf\n",
    "\n",
    "from tensorflow.keras.layers import Dense, Layer, Conv2D, Flatten, Input\n",
    "from tensorflow.keras import Model\n",
    "from tensorflow.keras.layers import concatenate\n",
    "from tensorflow.keras.layers import Input\n",
    "from tensorflow.keras.utils import plot_model"
   ]
  },
  {
   "cell_type": "code",
   "execution_count": 2,
   "id": "de3c2af8",
   "metadata": {},
   "outputs": [],
   "source": [
    "class CNNResidual(Layer):\n",
    "    def __init__(self, layers, filters, **kwargs):\n",
    "        super().__init__(**kwargs)\n",
    "        self.hidden = [Conv2D(filters, (3,3), activation='relu')\n",
    "                       for _ in range(layers)]\n",
    "    \n",
    "    def call(self, inputs):\n",
    "        x = inputs\n",
    "        for layer in self.hidden:\n",
    "            x = layer(x)\n",
    "        # sommando implemento il residual block\n",
    "        return inputs + x"
   ]
  },
  {
   "cell_type": "code",
   "execution_count": 6,
   "id": "e5855fd0",
   "metadata": {},
   "outputs": [],
   "source": [
    "class MYResidual(Model):\n",
    "    def __init__(self, **kwargs):\n",
    "        super().__init__(**kwargs)\n",
    "        self.hidden1 = CNNResidual(2, 32)\n",
    "        self.hidden2 = CNNResidual(2, 64)\n",
    "        self.flatten = Flatten()\n",
    "        self.out = Dense(1, activation=\"sigmoid\")\n",
    "        \n",
    "    def call(sel, inputs):\n",
    "        x = self.hidden1(inputs)\n",
    "        x = self.hidden2(x)\n",
    "        x = self.flatten(x)\n",
    "        out = self.out(x)\n",
    "        \n",
    "        return out"
   ]
  },
  {
   "cell_type": "code",
   "execution_count": 7,
   "id": "9155dc31",
   "metadata": {},
   "outputs": [],
   "source": [
    "model = MYResidual()"
   ]
  },
  {
   "cell_type": "code",
   "execution_count": 9,
   "id": "9925f125",
   "metadata": {},
   "outputs": [
    {
     "data": {
      "image/png": "[encoded data removed]",
      "text/plain": [
       "<IPython.core.display.Image object>"
      ]
     },
     "execution_count": 9,
     "metadata": {},
     "output_type": "execute_result"
    }
   ],
   "source": [
    "plot_model(model)"
   ]
  },
  {
   "cell_type": "code",
   "execution_count": null,
   "id": "54a4d375",
   "metadata": {},
   "outputs": [],
   "source": []
  }
 ],
 "metadata": {
  "kernelspec": {
   "display_name": "Python 3",
   "language": "python",
   "name": "python3"
  },
  "language_info": {
   "codemirror_mode": {
    "name": "ipython",
    "version": 3
   },
   "file_extension": ".py",
   "mimetype": "text/x-python",
   "name": "python",
   "nbconvert_exporter": "python",
   "pygments_lexer": "ipython3",
   "version": "3.7.7"
  }
 },
 "nbformat": 4,
 "nbformat_minor": 5
}
