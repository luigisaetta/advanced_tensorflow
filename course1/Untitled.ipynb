{
 "cells": [
  {
   "cell_type": "code",
   "execution_count": 2,
   "id": "21542a06",
   "metadata": {},
   "outputs": [],
   "source": [
    "class MYClass():\n",
    "    def __init__(self):\n",
    "        self.v1 = 1\n",
    "        self.v2 =2"
   ]
  },
  {
   "cell_type": "code",
   "execution_count": 3,
   "id": "70b2c28e",
   "metadata": {},
   "outputs": [],
   "source": [
    "obj1 = MYClass()"
   ]
  },
  {
   "cell_type": "code",
   "execution_count": 4,
   "id": "7189310a",
   "metadata": {},
   "outputs": [
    {
     "data": {
      "text/plain": [
       "{'v1': 1, 'v2': 2}"
      ]
     },
     "execution_count": 4,
     "metadata": {},
     "output_type": "execute_result"
    }
   ],
   "source": [
    "vars(obj1)"
   ]
  },
  {
   "cell_type": "code",
   "execution_count": 5,
   "id": "7358918c",
   "metadata": {},
   "outputs": [],
   "source": [
    "obj1.var3 = 3"
   ]
  },
  {
   "cell_type": "code",
   "execution_count": 6,
   "id": "e45bdaea",
   "metadata": {},
   "outputs": [
    {
     "data": {
      "text/plain": [
       "{'v1': 1, 'v2': 2, 'var3': 3}"
      ]
     },
     "execution_count": 6,
     "metadata": {},
     "output_type": "execute_result"
    }
   ],
   "source": [
    "vars(obj1)"
   ]
  },
  {
   "cell_type": "code",
   "execution_count": 7,
   "id": "3e48d03c",
   "metadata": {},
   "outputs": [
    {
     "name": "stdout",
     "output_type": "stream",
     "text": [
      "var4\n",
      "var5\n",
      "var6\n",
      "var7\n",
      "var8\n",
      "var9\n"
     ]
    }
   ],
   "source": [
    "for i in range(4,10):\n",
    "    # Format a string that is var\n",
    "    print(f'var{i}')"
   ]
  },
  {
   "cell_type": "code",
   "execution_count": 9,
   "id": "8c106329",
   "metadata": {},
   "outputs": [],
   "source": [
    "for i in range(4,10):\n",
    "    # Format a string that is var\n",
    "    vars(obj1)[f'var{i}'] = 0"
   ]
  },
  {
   "cell_type": "code",
   "execution_count": 10,
   "id": "96347723",
   "metadata": {},
   "outputs": [
    {
     "data": {
      "text/plain": [
       "{'v1': 1,\n",
       " 'v2': 2,\n",
       " 'var3': 3,\n",
       " 'var4': 0,\n",
       " 'var5': 0,\n",
       " 'var6': 0,\n",
       " 'var7': 0,\n",
       " 'var8': 0,\n",
       " 'var9': 0}"
      ]
     },
     "execution_count": 10,
     "metadata": {},
     "output_type": "execute_result"
    }
   ],
   "source": [
    "vars(obj1)"
   ]
  },
  {
   "cell_type": "code",
   "execution_count": null,
   "id": "e33d5192",
   "metadata": {},
   "outputs": [],
   "source": []
  }
 ],
 "metadata": {
  "kernelspec": {
   "display_name": "Python 3",
   "language": "python",
   "name": "python3"
  },
  "language_info": {
   "codemirror_mode": {
    "name": "ipython",
    "version": 3
   },
   "file_extension": ".py",
   "mimetype": "text/x-python",
   "name": "python",
   "nbconvert_exporter": "python",
   "pygments_lexer": "ipython3",
   "version": "3.7.7"
  }
 },
 "nbformat": 4,
 "nbformat_minor": 5
}
