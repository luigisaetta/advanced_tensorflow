{
 "cells": [
  {
   "cell_type": "markdown",
   "id": "sacred-technique",
   "metadata": {},
   "source": [
    "## A first example of NN for Images, using Fashion Mnist"
   ]
  },
  {
   "cell_type": "code",
   "execution_count": 1,
   "id": "amino-final",
   "metadata": {},
   "outputs": [],
   "source": [
    "import numpy as np\n",
    "import pandas as pd\n",
    "import tensorflow as tf\n",
    "\n",
    "import matplotlib.pyplot as plt"
   ]
  },
  {
   "cell_type": "code",
   "execution_count": 2,
   "id": "nonprofit-network",
   "metadata": {},
   "outputs": [
    {
     "name": "stdout",
     "output_type": "stream",
     "text": [
      "2.4.1\n"
     ]
    }
   ],
   "source": [
    "# check TensorFlow version\n",
    "print(tf.__version__)"
   ]
  },
  {
   "cell_type": "code",
   "execution_count": 3,
   "id": "generous-paris",
   "metadata": {},
   "outputs": [],
   "source": [
    "data = tf.keras.datasets.fashion_mnist"
   ]
  },
  {
   "cell_type": "code",
   "execution_count": 4,
   "id": "ambient-witness",
   "metadata": {},
   "outputs": [],
   "source": [
    "(train_images, train_labels), (test_images, test_labels) = data.load_data()"
   ]
  },
  {
   "cell_type": "code",
   "execution_count": 5,
   "id": "literary-training",
   "metadata": {},
   "outputs": [
    {
     "name": "stdout",
     "output_type": "stream",
     "text": [
      "Number of training images: 60000\n",
      "Number of test images: 10000\n"
     ]
    }
   ],
   "source": [
    "print('Number of training images:', train_images.shape[0])\n",
    "print('Number of test images:', test_images.shape[0])"
   ]
  },
  {
   "cell_type": "code",
   "execution_count": 33,
   "id": "quality-dream",
   "metadata": {},
   "outputs": [
    {
     "data": {
      "text/plain": [
       "array([0, 1, 2, 3, 4, 5, 6, 7, 8, 9], dtype=uint8)"
      ]
     },
     "execution_count": 33,
     "metadata": {},
     "output_type": "execute_result"
    }
   ],
   "source": [
    "# how many distinct classes\n",
    "np.unique(train_labels)"
   ]
  },
  {
   "cell_type": "code",
   "execution_count": null,
   "id": "verbal-lawyer",
   "metadata": {},
   "outputs": [],
   "source": [
    "# ok 10 distinct classes labeled as 0..9"
   ]
  },
  {
   "cell_type": "code",
   "execution_count": 6,
   "id": "excellent-victorian",
   "metadata": {},
   "outputs": [
    {
     "data": {
      "text/plain": [
       "(60000, 28, 28)"
      ]
     },
     "execution_count": 6,
     "metadata": {},
     "output_type": "execute_result"
    }
   ],
   "source": [
    "# images are greyscale images\n",
    "train_images.shape"
   ]
  },
  {
   "cell_type": "raw",
   "id": "greenhouse-strip",
   "metadata": {},
   "source": [
    "# first of all, normalize images\n",
    "train_images /= 255.\n",
    "test_images /= 255."
   ]
  },
  {
   "cell_type": "code",
   "execution_count": 32,
   "id": "continued-albania",
   "metadata": {},
   "outputs": [
    {
     "data": {
      "image/png": "[encoded data removed]",
      "text/plain": [
       "<Figure size 432x288 with 1 Axes>"
      ]
     },
     "metadata": {
      "needs_background": "light"
     },
     "output_type": "display_data"
    }
   ],
   "source": [
    "# let's sess one image\n",
    "plt.imshow(train_images[0], cmap = 'Greys');"
   ]
  },
  {
   "cell_type": "code",
   "execution_count": 43,
   "id": "private-federation",
   "metadata": {},
   "outputs": [],
   "source": [
    "# let's build a first classification model\n",
    "model = tf.keras.models.Sequential([\n",
    "    tf.keras.layers.Flatten(input_shape=(28,28)),\n",
    "    tf.keras.layers.Dense(128, activation = 'relu'),\n",
    "    \n",
    "    # adding these two intermediate layers I go from 0.85 to 0.88 validation accuracy\n",
    "    tf.keras.layers.Dense(64, activation = 'relu'),\n",
    "    tf.keras.layers.Dense(32, activation = 'relu'),\n",
    "    \n",
    "    tf.keras.layers.Dense(10, activation = 'softmax')\n",
    "])"
   ]
  },
  {
   "cell_type": "code",
   "execution_count": 54,
   "id": "bottom-disaster",
   "metadata": {},
   "outputs": [
    {
     "name": "stdout",
     "output_type": "stream",
     "text": [
      "Model: \"sequential_3\"\n",
      "_________________________________________________________________\n",
      "Layer (type)                 Output Shape              Param #   \n",
      "=================================================================\n",
      "flatten_3 (Flatten)          (None, 784)               0         \n",
      "_________________________________________________________________\n",
      "dense_8 (Dense)              (None, 128)               100480    \n",
      "_________________________________________________________________\n",
      "dense_9 (Dense)              (None, 64)                8256      \n",
      "_________________________________________________________________\n",
      "dense_10 (Dense)             (None, 32)                2080      \n",
      "_________________________________________________________________\n",
      "dense_11 (Dense)             (None, 10)                330       \n",
      "=================================================================\n",
      "Total params: 111,146\n",
      "Trainable params: 111,146\n",
      "Non-trainable params: 0\n",
      "_________________________________________________________________\n"
     ]
    }
   ],
   "source": [
    "# let's see how many parameters, etc\n",
    "model.summary()"
   ]
  },
  {
   "cell_type": "code",
   "execution_count": 45,
   "id": "cubic-component",
   "metadata": {},
   "outputs": [],
   "source": [
    "model.compile(optimizer='adam', loss = 'sparse_categorical_crossentropy',\n",
    "             metrics = ['accuracy'])"
   ]
  },
  {
   "cell_type": "code",
   "execution_count": 46,
   "id": "double-space",
   "metadata": {},
   "outputs": [
    {
     "name": "stdout",
     "output_type": "stream",
     "text": [
      "Epoch 1/60\n",
      "211/211 [==============================] - 1s 3ms/step - loss: 17.6189 - accuracy: 0.5264 - val_loss: 1.0053 - val_accuracy: 0.7243\n",
      "Epoch 2/60\n",
      "211/211 [==============================] - 1s 4ms/step - loss: 0.9128 - accuracy: 0.7398 - val_loss: 0.7833 - val_accuracy: 0.7730\n",
      "Epoch 3/60\n",
      "211/211 [==============================] - 1s 3ms/step - loss: 0.7024 - accuracy: 0.7827 - val_loss: 0.6535 - val_accuracy: 0.7973\n",
      "Epoch 4/60\n",
      "211/211 [==============================] - 1s 3ms/step - loss: 0.5995 - accuracy: 0.8093 - val_loss: 0.5754 - val_accuracy: 0.8175\n",
      "Epoch 5/60\n",
      "211/211 [==============================] - 1s 3ms/step - loss: 0.5289 - accuracy: 0.8265 - val_loss: 0.5446 - val_accuracy: 0.8233\n",
      "Epoch 6/60\n",
      "211/211 [==============================] - 1s 3ms/step - loss: 0.4757 - accuracy: 0.8418 - val_loss: 0.5060 - val_accuracy: 0.8252\n",
      "Epoch 7/60\n",
      "211/211 [==============================] - 1s 3ms/step - loss: 0.4455 - accuracy: 0.8488 - val_loss: 0.4966 - val_accuracy: 0.8373\n",
      "Epoch 8/60\n",
      "211/211 [==============================] - 1s 3ms/step - loss: 0.4112 - accuracy: 0.8562 - val_loss: 0.4690 - val_accuracy: 0.8420\n",
      "Epoch 9/60\n",
      "211/211 [==============================] - 1s 3ms/step - loss: 0.3889 - accuracy: 0.8610 - val_loss: 0.4766 - val_accuracy: 0.8322\n",
      "Epoch 10/60\n",
      "211/211 [==============================] - 1s 3ms/step - loss: 0.3824 - accuracy: 0.8660 - val_loss: 0.4561 - val_accuracy: 0.8378\n",
      "Epoch 11/60\n",
      "211/211 [==============================] - 1s 3ms/step - loss: 0.3690 - accuracy: 0.8664 - val_loss: 0.4313 - val_accuracy: 0.8502\n",
      "Epoch 12/60\n",
      "211/211 [==============================] - 1s 3ms/step - loss: 0.3500 - accuracy: 0.8744 - val_loss: 0.4447 - val_accuracy: 0.8493\n",
      "Epoch 13/60\n",
      "211/211 [==============================] - 1s 3ms/step - loss: 0.3459 - accuracy: 0.8745 - val_loss: 0.4170 - val_accuracy: 0.8568\n",
      "Epoch 14/60\n",
      "211/211 [==============================] - 1s 3ms/step - loss: 0.3307 - accuracy: 0.8783 - val_loss: 0.4322 - val_accuracy: 0.8492\n",
      "Epoch 15/60\n",
      "211/211 [==============================] - 1s 5ms/step - loss: 0.3207 - accuracy: 0.8818 - val_loss: 0.4787 - val_accuracy: 0.8428\n",
      "Epoch 16/60\n",
      "211/211 [==============================] - 1s 4ms/step - loss: 0.3228 - accuracy: 0.8846 - val_loss: 0.4195 - val_accuracy: 0.8593\n",
      "Epoch 17/60\n",
      "211/211 [==============================] - 1s 4ms/step - loss: 0.3163 - accuracy: 0.8847 - val_loss: 0.4135 - val_accuracy: 0.8655\n",
      "Epoch 18/60\n",
      "211/211 [==============================] - 1s 3ms/step - loss: 0.3130 - accuracy: 0.8855 - val_loss: 0.4088 - val_accuracy: 0.8612\n",
      "Epoch 19/60\n",
      "211/211 [==============================] - 1s 3ms/step - loss: 0.3015 - accuracy: 0.8889 - val_loss: 0.4375 - val_accuracy: 0.8578\n",
      "Epoch 20/60\n",
      "211/211 [==============================] - 1s 3ms/step - loss: 0.2960 - accuracy: 0.8930 - val_loss: 0.4190 - val_accuracy: 0.8637\n",
      "Epoch 21/60\n",
      "211/211 [==============================] - 1s 3ms/step - loss: 0.2841 - accuracy: 0.8959 - val_loss: 0.4199 - val_accuracy: 0.8652\n",
      "Epoch 22/60\n",
      "211/211 [==============================] - 1s 3ms/step - loss: 0.2846 - accuracy: 0.8929 - val_loss: 0.4066 - val_accuracy: 0.8693\n",
      "Epoch 23/60\n",
      "211/211 [==============================] - 1s 3ms/step - loss: 0.2824 - accuracy: 0.8939 - val_loss: 0.4049 - val_accuracy: 0.8670\n",
      "Epoch 24/60\n",
      "211/211 [==============================] - 1s 3ms/step - loss: 0.2779 - accuracy: 0.8966 - val_loss: 0.4101 - val_accuracy: 0.8685\n",
      "Epoch 25/60\n",
      "211/211 [==============================] - 1s 3ms/step - loss: 0.2776 - accuracy: 0.8973 - val_loss: 0.4178 - val_accuracy: 0.8670\n",
      "Epoch 26/60\n",
      "211/211 [==============================] - 1s 3ms/step - loss: 0.2664 - accuracy: 0.9016 - val_loss: 0.3981 - val_accuracy: 0.8697\n",
      "Epoch 27/60\n",
      "211/211 [==============================] - 1s 3ms/step - loss: 0.2697 - accuracy: 0.9003 - val_loss: 0.4060 - val_accuracy: 0.8680\n",
      "Epoch 28/60\n",
      "211/211 [==============================] - 1s 5ms/step - loss: 0.2674 - accuracy: 0.9025 - val_loss: 0.4175 - val_accuracy: 0.8630\n",
      "Epoch 29/60\n",
      "211/211 [==============================] - 1s 3ms/step - loss: 0.2606 - accuracy: 0.9030 - val_loss: 0.4084 - val_accuracy: 0.8730\n",
      "Epoch 30/60\n",
      "211/211 [==============================] - 1s 3ms/step - loss: 0.2588 - accuracy: 0.9048 - val_loss: 0.4330 - val_accuracy: 0.8685\n",
      "Epoch 31/60\n",
      "211/211 [==============================] - 1s 3ms/step - loss: 0.2582 - accuracy: 0.9063 - val_loss: 0.4098 - val_accuracy: 0.8748\n",
      "Epoch 32/60\n",
      "211/211 [==============================] - 1s 3ms/step - loss: 0.2598 - accuracy: 0.9023 - val_loss: 0.4178 - val_accuracy: 0.8733\n",
      "Epoch 33/60\n",
      "211/211 [==============================] - 1s 3ms/step - loss: 0.2440 - accuracy: 0.9106 - val_loss: 0.3943 - val_accuracy: 0.8742\n",
      "Epoch 34/60\n",
      "211/211 [==============================] - 1s 3ms/step - loss: 0.2442 - accuracy: 0.9097 - val_loss: 0.4142 - val_accuracy: 0.8730\n",
      "Epoch 35/60\n",
      "211/211 [==============================] - 1s 3ms/step - loss: 0.2393 - accuracy: 0.9117 - val_loss: 0.4079 - val_accuracy: 0.8792\n",
      "Epoch 36/60\n",
      "211/211 [==============================] - 1s 3ms/step - loss: 0.2482 - accuracy: 0.9081 - val_loss: 0.4215 - val_accuracy: 0.8700\n",
      "Epoch 37/60\n",
      "211/211 [==============================] - 1s 3ms/step - loss: 0.2394 - accuracy: 0.9127 - val_loss: 0.4046 - val_accuracy: 0.8728\n",
      "Epoch 38/60\n",
      "211/211 [==============================] - 1s 3ms/step - loss: 0.2252 - accuracy: 0.9152 - val_loss: 0.4058 - val_accuracy: 0.8723\n",
      "Epoch 39/60\n",
      "211/211 [==============================] - 1s 3ms/step - loss: 0.2301 - accuracy: 0.9144 - val_loss: 0.4285 - val_accuracy: 0.8743\n",
      "Epoch 40/60\n",
      "211/211 [==============================] - 1s 3ms/step - loss: 0.2314 - accuracy: 0.9133 - val_loss: 0.4050 - val_accuracy: 0.8700\n",
      "Epoch 41/60\n",
      "211/211 [==============================] - 1s 3ms/step - loss: 0.2243 - accuracy: 0.9163 - val_loss: 0.4217 - val_accuracy: 0.8765\n",
      "Epoch 42/60\n",
      "211/211 [==============================] - 1s 5ms/step - loss: 0.2284 - accuracy: 0.9160 - val_loss: 0.4171 - val_accuracy: 0.8765\n",
      "Epoch 43/60\n",
      "211/211 [==============================] - 1s 3ms/step - loss: 0.2118 - accuracy: 0.9213 - val_loss: 0.4107 - val_accuracy: 0.8770\n",
      "Epoch 44/60\n",
      "211/211 [==============================] - 1s 3ms/step - loss: 0.2246 - accuracy: 0.9179 - val_loss: 0.4055 - val_accuracy: 0.8738\n",
      "Epoch 45/60\n",
      "211/211 [==============================] - 1s 3ms/step - loss: 0.2152 - accuracy: 0.9204 - val_loss: 0.4406 - val_accuracy: 0.8685\n",
      "Epoch 46/60\n",
      "211/211 [==============================] - 1s 3ms/step - loss: 0.2126 - accuracy: 0.9211 - val_loss: 0.4046 - val_accuracy: 0.8798\n",
      "Epoch 47/60\n",
      "211/211 [==============================] - 1s 3ms/step - loss: 0.2148 - accuracy: 0.9186 - val_loss: 0.4356 - val_accuracy: 0.8778\n",
      "Epoch 48/60\n",
      "211/211 [==============================] - 1s 3ms/step - loss: 0.2203 - accuracy: 0.9183 - val_loss: 0.4192 - val_accuracy: 0.8805\n",
      "Epoch 49/60\n",
      "211/211 [==============================] - 1s 3ms/step - loss: 0.2038 - accuracy: 0.9256 - val_loss: 0.4121 - val_accuracy: 0.8743\n",
      "Epoch 50/60\n",
      "211/211 [==============================] - 1s 3ms/step - loss: 0.2116 - accuracy: 0.9214 - val_loss: 0.4500 - val_accuracy: 0.8732\n",
      "Epoch 51/60\n",
      "211/211 [==============================] - 1s 3ms/step - loss: 0.1981 - accuracy: 0.9272 - val_loss: 0.4604 - val_accuracy: 0.8732\n",
      "Epoch 52/60\n",
      "211/211 [==============================] - 1s 3ms/step - loss: 0.2089 - accuracy: 0.9221 - val_loss: 0.4495 - val_accuracy: 0.8730\n",
      "Epoch 53/60\n",
      "211/211 [==============================] - 1s 3ms/step - loss: 0.2095 - accuracy: 0.9219 - val_loss: 0.4148 - val_accuracy: 0.8822\n",
      "Epoch 54/60\n",
      "211/211 [==============================] - 1s 6ms/step - loss: 0.1911 - accuracy: 0.9272 - val_loss: 0.4437 - val_accuracy: 0.8713\n",
      "Epoch 55/60\n",
      "211/211 [==============================] - 1s 3ms/step - loss: 0.1973 - accuracy: 0.9269 - val_loss: 0.4440 - val_accuracy: 0.8802\n",
      "Epoch 56/60\n",
      "211/211 [==============================] - 1s 3ms/step - loss: 0.1855 - accuracy: 0.9313 - val_loss: 0.4600 - val_accuracy: 0.8740\n",
      "Epoch 57/60\n",
      "211/211 [==============================] - 1s 3ms/step - loss: 0.1931 - accuracy: 0.9291 - val_loss: 0.4364 - val_accuracy: 0.8820\n",
      "Epoch 58/60\n",
      "211/211 [==============================] - 1s 3ms/step - loss: 0.1822 - accuracy: 0.9325 - val_loss: 0.4830 - val_accuracy: 0.8718\n",
      "Epoch 59/60\n",
      "211/211 [==============================] - 1s 3ms/step - loss: 0.1931 - accuracy: 0.9284 - val_loss: 0.4304 - val_accuracy: 0.8753\n",
      "Epoch 60/60\n",
      "211/211 [==============================] - 1s 3ms/step - loss: 0.1825 - accuracy: 0.9321 - val_loss: 0.4578 - val_accuracy: 0.8742\n"
     ]
    }
   ],
   "source": [
    "EPOCHS = 60\n",
    "BATCH_SIZE = 256\n",
    "\n",
    "history = model.fit(train_images, train_labels, epochs = EPOCHS, batch_size = BATCH_SIZE, validation_split = 0.1)"
   ]
  },
  {
   "cell_type": "code",
   "execution_count": 47,
   "id": "subjective-refund",
   "metadata": {},
   "outputs": [],
   "source": [
    "loss = history.history['loss']\n",
    "val_loss = history.history['val_loss']\n",
    "accuracy =  history.history['accuracy']\n",
    "val_accuracy =  history.history['val_accuracy']"
   ]
  },
  {
   "cell_type": "code",
   "execution_count": 48,
   "id": "legal-leather",
   "metadata": {},
   "outputs": [
    {
     "data": {
      "image/png": "[encoded data removed]",
      "text/plain": [
       "<Figure size 432x288 with 1 Axes>"
      ]
     },
     "metadata": {
      "needs_background": "light"
     },
     "output_type": "display_data"
    }
   ],
   "source": [
    "plt.xlabel('epoch')\n",
    "plt.ylabel('loss')\n",
    "plt.plot(loss, label = 'loss')\n",
    "plt.plot(val_loss, label = 'validation loss')\n",
    "plt.legend(loc = 'upper right')\n",
    "plt.grid();"
   ]
  },
  {
   "cell_type": "code",
   "execution_count": 49,
   "id": "sustainable-session",
   "metadata": {},
   "outputs": [
    {
     "data": {
      "image/png": "[encoded data removed]",
      "text/plain": [
       "<Figure size 432x288 with 1 Axes>"
      ]
     },
     "metadata": {
      "needs_background": "light"
     },
     "output_type": "display_data"
    }
   ],
   "source": [
    "# wants to see if it starts overfitting\n",
    "START = 20\n",
    "\n",
    "plt.xlabel('epoch')\n",
    "plt.ylabel('loss')\n",
    "plt.plot(loss[START:], label = 'loss')\n",
    "plt.plot(val_loss[START:], label = 'validation loss')\n",
    "plt.legend(loc = 'upper right')\n",
    "plt.grid();"
   ]
  },
  {
   "cell_type": "code",
   "execution_count": null,
   "id": "opponent-architecture",
   "metadata": {},
   "outputs": [],
   "source": [
    "# ok it has slightly started overfitting.. as we can see from epochs 15 validation loss becomes higher and training loss is still decreasing"
   ]
  },
  {
   "cell_type": "code",
   "execution_count": 50,
   "id": "adequate-vacuum",
   "metadata": {},
   "outputs": [
    {
     "data": {
      "image/png": "[encoded data removed]",
      "text/plain": [
       "<Figure size 432x288 with 1 Axes>"
      ]
     },
     "metadata": {
      "needs_background": "light"
     },
     "output_type": "display_data"
    }
   ],
   "source": [
    "plt.xlabel('epoch')\n",
    "plt.ylabel('accuracy')\n",
    "plt.plot(accuracy, label = 'accuracy')\n",
    "plt.plot(val_accuracy, label = 'validation accuracy')\n",
    "plt.legend(loc = 'lower right')\n",
    "plt.grid();"
   ]
  },
  {
   "cell_type": "code",
   "execution_count": 53,
   "id": "explicit-mixer",
   "metadata": {},
   "outputs": [
    {
     "name": "stdout",
     "output_type": "stream",
     "text": [
      "313/313 [==============================] - 0s 1ms/step - loss: 0.4665 - accuracy: 0.8738\n",
      "\n",
      "Test accuracy is: 0.8737999796867371\n"
     ]
    }
   ],
   "source": [
    "loss, acc = model.evaluate(test_images, test_labels)\n",
    "\n",
    "print('')\n",
    "print('Test accuracy is:', acc)"
   ]
  },
  {
   "cell_type": "code",
   "execution_count": null,
   "id": "elder-henry",
   "metadata": {},
   "outputs": [],
   "source": []
  }
 ],
 "metadata": {
  "kernelspec": {
   "display_name": "Python 3",
   "language": "python",
   "name": "python3"
  },
  "language_info": {
   "codemirror_mode": {
    "name": "ipython",
    "version": 3
   },
   "file_extension": ".py",
   "mimetype": "text/x-python",
   "name": "python",
   "nbconvert_exporter": "python",
   "pygments_lexer": "ipython3",
   "version": "3.7.10"
  }
 },
 "nbformat": 4,
 "nbformat_minor": 5
}
